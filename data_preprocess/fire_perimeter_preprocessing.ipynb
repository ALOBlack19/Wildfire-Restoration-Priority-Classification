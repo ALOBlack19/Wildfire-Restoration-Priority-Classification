{
 "cells": [
  {
   "cell_type": "markdown",
   "id": "4e140472",
   "metadata": {},
   "source": [
    "# Data Science Final Project \n"
   ]
  },
  {
   "cell_type": "markdown",
   "id": "e810a17c",
   "metadata": {},
   "source": [
    "**College/University Name**: _CICCC - Cornerstone International Community College of Canada_  \n",
    "**Course**: _Final Project_  \n",
    "**Instructor**: _Derrick Park_  \n",
    "**Student Name**: _Amir Lima Oliveira_  \n",
    "**Submission Date**: _2025-09-26_  \n",
    "\n",
    "---"
   ]
  },
  {
   "cell_type": "markdown",
   "id": "60372ac7",
   "metadata": {},
   "source": [
    "### Project Title\n",
    "    _Wildfire Restoration Priority Classification in Canada_\n",
    "---"
   ]
  },
  {
   "cell_type": "markdown",
   "id": "5286acd2",
   "metadata": {},
   "source": [
    "#### Objective\n",
    "    Find, structure and analyse the NASA's datasets with satelite data points about wildfires detection, connect this with satelite images and engineer areas parameters for the detection of which wildfire area needs priority restoration.\n",
    "### Problem Statement or Research Question\n",
    "    This project aims to help manage and direct resources with efficiency in the right areas based on the data-driven structure of the machine learning model to the most critical areas. \n",
    "---"
   ]
  },
  {
   "cell_type": "markdown",
   "id": "5bd07e86",
   "metadata": {},
   "source": [
    "#### Dataset Overview\n",
    "- **Source:** [Dataset URL or name]\n",
    "- **Description:** Short explanation of the dataset (e.g., features, size, context)\n",
    "- **Credits:** Cite source or dataset author if required\n",
    "\n",
    "---"
   ]
  },
  {
   "cell_type": "markdown",
   "id": "8a3cbe60",
   "metadata": {},
   "source": [
    "## Table of Contents\n"
   ]
  },
  {
   "cell_type": "markdown",
   "id": "6844255d",
   "metadata": {},
   "source": [
    "1. [Import Libraries](#import-libraries)  \n"
   ]
  },
  {
   "cell_type": "code",
   "execution_count": 1,
   "id": "4a8c062f",
   "metadata": {},
   "outputs": [],
   "source": [
    "import pandas as pd\n",
    "import numpy as np\n",
    "import matplotlib.pyplot as plt\n",
    "import geopandas as gpd\n",
    "import rasterio as rio\n",
    "import fiona\n",
    "from rasterio.plot import show\n",
    "import shapely.geometry as geom\n",
    "import seaborn as sns\n",
    "from sklearn.model_selection import train_test_split\n",
    "from sklearn.ensemble import RandomForestClassifier\n",
    "\n",
    "import urllib.request # to download the watershed gdb file"
   ]
  },
  {
   "cell_type": "markdown",
   "id": "9b726c08",
   "metadata": {},
   "source": [
    "---"
   ]
  },
  {
   "cell_type": "markdown",
   "id": "bafef8e5",
   "metadata": {},
   "source": [
    "2. [Load & Inspect Data](#load--inspect-data)  \n"
   ]
  },
  {
   "cell_type": "code",
   "execution_count": 2,
   "id": "bfbe7449",
   "metadata": {},
   "outputs": [
    {
     "name": "stderr",
     "output_type": "stream",
     "text": [
      "c:\\Users\\Dell\\anaconda3\\envs\\fire_env\\Lib\\site-packages\\pyogrio\\core.py:35: RuntimeWarning: Could not detect GDAL data files.  Set GDAL_DATA environment variable to the correct path.\n",
      "  _init_gdal_data()\n"
     ]
    }
   ],
   "source": [
    "fire_perimeters = gpd.read_file('../data_raw/fire_perimeters/NFDB_poly_20210707.shp')"
   ]
  },
  {
   "cell_type": "markdown",
   "id": "d7e28b57",
   "metadata": {},
   "source": [
    "Needed to make that code below to convert the gdb file into gpkg in order to be possible to make the geographical data into geopandas"
   ]
  },
  {
   "cell_type": "markdown",
   "id": "4c838a59",
   "metadata": {},
   "source": [
    "   - [Shape](#shape)  "
   ]
  },
  {
   "cell_type": "code",
   "execution_count": null,
   "id": "0859a5f6",
   "metadata": {},
   "outputs": [
    {
     "data": {
      "text/plain": [
       "(59539, 27)"
      ]
     },
     "execution_count": 3,
     "metadata": {},
     "output_type": "execute_result"
    }
   ],
   "source": [
    "fire_perimeters.shape"
   ]
  },
  {
   "cell_type": "markdown",
   "id": "a1e2e867",
   "metadata": {},
   "source": [
    "   - [Missing Values](#missing-values)  \n"
   ]
  },
  {
   "cell_type": "code",
   "execution_count": 4,
   "id": "75a963e5",
   "metadata": {},
   "outputs": [
    {
     "data": {
      "text/plain": [
       "SRC_AGENCY        0\n",
       "FIRE_ID        6369\n",
       "FIRENAME      55287\n",
       "YEAR              0\n",
       "MONTH             0\n",
       "DAY               0\n",
       "REP_DATE      11994\n",
       "DATE_TYPE     22671\n",
       "OUT_DATE      48911\n",
       "DECADE            0\n",
       "SIZE_HA           0\n",
       "CALC_HA           0\n",
       "CAUSE             0\n",
       "MAP_SOURCE    16765\n",
       "SOURCE_KEY    53896\n",
       "MAP_METHOD    26161\n",
       "WATER_REM     54998\n",
       "UNBURN_REM    54998\n",
       "MORE_INFO     45887\n",
       "POLY_DATE     32350\n",
       "CFS_REF_ID        0\n",
       "CFS_NOTE1     47633\n",
       "CFS_NOTE2     52367\n",
       "AG_SRCFILE    26429\n",
       "ACQ_DATE         43\n",
       "SRC_AGY2          0\n",
       "geometry          0\n",
       "dtype: int64"
      ]
     },
     "execution_count": 4,
     "metadata": {},
     "output_type": "execute_result"
    }
   ],
   "source": [
    "fire_perimeters.isnull().sum()"
   ]
  },
  {
   "cell_type": "markdown",
   "id": "c5551de0",
   "metadata": {},
   "source": [
    "   - [Data Types](#data-types)  \n"
   ]
  },
  {
   "cell_type": "code",
   "execution_count": 5,
   "id": "9a4620f3",
   "metadata": {},
   "outputs": [
    {
     "data": {
      "text/html": [
       "<div>\n",
       "<style scoped>\n",
       "    .dataframe tbody tr th:only-of-type {\n",
       "        vertical-align: middle;\n",
       "    }\n",
       "\n",
       "    .dataframe tbody tr th {\n",
       "        vertical-align: top;\n",
       "    }\n",
       "\n",
       "    .dataframe thead th {\n",
       "        text-align: right;\n",
       "    }\n",
       "</style>\n",
       "<table border=\"1\" class=\"dataframe\">\n",
       "  <thead>\n",
       "    <tr style=\"text-align: right;\">\n",
       "      <th></th>\n",
       "      <th>YEAR</th>\n",
       "      <th>MONTH</th>\n",
       "      <th>DAY</th>\n",
       "      <th>REP_DATE</th>\n",
       "      <th>OUT_DATE</th>\n",
       "      <th>SIZE_HA</th>\n",
       "      <th>CALC_HA</th>\n",
       "      <th>POLY_DATE</th>\n",
       "      <th>ACQ_DATE</th>\n",
       "    </tr>\n",
       "  </thead>\n",
       "  <tbody>\n",
       "    <tr>\n",
       "      <th>count</th>\n",
       "      <td>59539.000000</td>\n",
       "      <td>59539.000000</td>\n",
       "      <td>59539.000000</td>\n",
       "      <td>47545</td>\n",
       "      <td>10628</td>\n",
       "      <td>59539.000000</td>\n",
       "      <td>5.953900e+04</td>\n",
       "      <td>27189</td>\n",
       "      <td>59496</td>\n",
       "    </tr>\n",
       "    <tr>\n",
       "      <th>mean</th>\n",
       "      <td>1961.635986</td>\n",
       "      <td>5.246595</td>\n",
       "      <td>12.523909</td>\n",
       "      <td>1985-04-17 22:02:23.712000</td>\n",
       "      <td>2009-09-08 19:48:56.093000</td>\n",
       "      <td>2340.893525</td>\n",
       "      <td>2.338110e+03</td>\n",
       "      <td>2008-12-31 15:36:35.431000</td>\n",
       "      <td>2012-08-11 15:50:16.216000</td>\n",
       "    </tr>\n",
       "    <tr>\n",
       "      <th>min</th>\n",
       "      <td>-9999.000000</td>\n",
       "      <td>0.000000</td>\n",
       "      <td>0.000000</td>\n",
       "      <td>1917-07-21 00:00:00</td>\n",
       "      <td>1899-12-30 00:00:00</td>\n",
       "      <td>0.000000</td>\n",
       "      <td>9.953290e-08</td>\n",
       "      <td>1981-05-06 00:00:00</td>\n",
       "      <td>2004-02-16 00:00:00</td>\n",
       "    </tr>\n",
       "    <tr>\n",
       "      <th>25%</th>\n",
       "      <td>1960.000000</td>\n",
       "      <td>4.000000</td>\n",
       "      <td>2.000000</td>\n",
       "      <td>1960-07-27 00:00:00</td>\n",
       "      <td>2003-08-26 00:00:00</td>\n",
       "      <td>4.600000</td>\n",
       "      <td>4.625503e+00</td>\n",
       "      <td>2007-05-17 00:00:00</td>\n",
       "      <td>2010-11-03 00:00:00</td>\n",
       "    </tr>\n",
       "    <tr>\n",
       "      <th>50%</th>\n",
       "      <td>1994.000000</td>\n",
       "      <td>6.000000</td>\n",
       "      <td>12.000000</td>\n",
       "      <td>1998-06-28 00:00:00</td>\n",
       "      <td>2013-07-18 00:00:00</td>\n",
       "      <td>65.000000</td>\n",
       "      <td>6.469041e+01</td>\n",
       "      <td>2007-05-17 00:00:00</td>\n",
       "      <td>2011-06-10 00:00:00</td>\n",
       "    </tr>\n",
       "    <tr>\n",
       "      <th>75%</th>\n",
       "      <td>2010.000000</td>\n",
       "      <td>7.000000</td>\n",
       "      <td>21.000000</td>\n",
       "      <td>2011-09-29 00:00:00</td>\n",
       "      <td>2017-07-27 00:00:00</td>\n",
       "      <td>540.700000</td>\n",
       "      <td>5.497889e+02</td>\n",
       "      <td>2009-09-10 00:00:00</td>\n",
       "      <td>2015-04-22 00:00:00</td>\n",
       "    </tr>\n",
       "    <tr>\n",
       "      <th>max</th>\n",
       "      <td>2020.000000</td>\n",
       "      <td>12.000000</td>\n",
       "      <td>31.000000</td>\n",
       "      <td>2020-12-06 00:00:00</td>\n",
       "      <td>2020-10-08 00:00:00</td>\n",
       "      <td>988497.200000</td>\n",
       "      <td>9.873379e+05</td>\n",
       "      <td>2020-10-20 00:00:00</td>\n",
       "      <td>2021-05-31 00:00:00</td>\n",
       "    </tr>\n",
       "    <tr>\n",
       "      <th>std</th>\n",
       "      <td>508.427746</td>\n",
       "      <td>2.924353</td>\n",
       "      <td>10.071721</td>\n",
       "      <td>NaN</td>\n",
       "      <td>NaN</td>\n",
       "      <td>14817.534794</td>\n",
       "      <td>1.489502e+04</td>\n",
       "      <td>NaN</td>\n",
       "      <td>NaN</td>\n",
       "    </tr>\n",
       "  </tbody>\n",
       "</table>\n",
       "</div>"
      ],
      "text/plain": [
       "               YEAR         MONTH           DAY                    REP_DATE  \\\n",
       "count  59539.000000  59539.000000  59539.000000                       47545   \n",
       "mean    1961.635986      5.246595     12.523909  1985-04-17 22:02:23.712000   \n",
       "min    -9999.000000      0.000000      0.000000         1917-07-21 00:00:00   \n",
       "25%     1960.000000      4.000000      2.000000         1960-07-27 00:00:00   \n",
       "50%     1994.000000      6.000000     12.000000         1998-06-28 00:00:00   \n",
       "75%     2010.000000      7.000000     21.000000         2011-09-29 00:00:00   \n",
       "max     2020.000000     12.000000     31.000000         2020-12-06 00:00:00   \n",
       "std      508.427746      2.924353     10.071721                         NaN   \n",
       "\n",
       "                         OUT_DATE        SIZE_HA       CALC_HA  \\\n",
       "count                       10628   59539.000000  5.953900e+04   \n",
       "mean   2009-09-08 19:48:56.093000    2340.893525  2.338110e+03   \n",
       "min           1899-12-30 00:00:00       0.000000  9.953290e-08   \n",
       "25%           2003-08-26 00:00:00       4.600000  4.625503e+00   \n",
       "50%           2013-07-18 00:00:00      65.000000  6.469041e+01   \n",
       "75%           2017-07-27 00:00:00     540.700000  5.497889e+02   \n",
       "max           2020-10-08 00:00:00  988497.200000  9.873379e+05   \n",
       "std                           NaN   14817.534794  1.489502e+04   \n",
       "\n",
       "                        POLY_DATE                    ACQ_DATE  \n",
       "count                       27189                       59496  \n",
       "mean   2008-12-31 15:36:35.431000  2012-08-11 15:50:16.216000  \n",
       "min           1981-05-06 00:00:00         2004-02-16 00:00:00  \n",
       "25%           2007-05-17 00:00:00         2010-11-03 00:00:00  \n",
       "50%           2007-05-17 00:00:00         2011-06-10 00:00:00  \n",
       "75%           2009-09-10 00:00:00         2015-04-22 00:00:00  \n",
       "max           2020-10-20 00:00:00         2021-05-31 00:00:00  \n",
       "std                           NaN                         NaN  "
      ]
     },
     "execution_count": 5,
     "metadata": {},
     "output_type": "execute_result"
    }
   ],
   "source": [
    "fire_perimeters.describe()"
   ]
  },
  {
   "cell_type": "markdown",
   "id": "0343c8ce",
   "metadata": {},
   "source": [
    "   - [Preview Data](#preview-data)\n"
   ]
  },
  {
   "cell_type": "code",
   "execution_count": 6,
   "id": "677f1e08",
   "metadata": {},
   "outputs": [
    {
     "data": {
      "text/html": [
       "<div>\n",
       "<style scoped>\n",
       "    .dataframe tbody tr th:only-of-type {\n",
       "        vertical-align: middle;\n",
       "    }\n",
       "\n",
       "    .dataframe tbody tr th {\n",
       "        vertical-align: top;\n",
       "    }\n",
       "\n",
       "    .dataframe thead th {\n",
       "        text-align: right;\n",
       "    }\n",
       "</style>\n",
       "<table border=\"1\" class=\"dataframe\">\n",
       "  <thead>\n",
       "    <tr style=\"text-align: right;\">\n",
       "      <th></th>\n",
       "      <th>SRC_AGENCY</th>\n",
       "      <th>FIRE_ID</th>\n",
       "      <th>FIRENAME</th>\n",
       "      <th>YEAR</th>\n",
       "      <th>MONTH</th>\n",
       "      <th>DAY</th>\n",
       "      <th>REP_DATE</th>\n",
       "      <th>DATE_TYPE</th>\n",
       "      <th>OUT_DATE</th>\n",
       "      <th>DECADE</th>\n",
       "      <th>...</th>\n",
       "      <th>UNBURN_REM</th>\n",
       "      <th>MORE_INFO</th>\n",
       "      <th>POLY_DATE</th>\n",
       "      <th>CFS_REF_ID</th>\n",
       "      <th>CFS_NOTE1</th>\n",
       "      <th>CFS_NOTE2</th>\n",
       "      <th>AG_SRCFILE</th>\n",
       "      <th>ACQ_DATE</th>\n",
       "      <th>SRC_AGY2</th>\n",
       "      <th>geometry</th>\n",
       "    </tr>\n",
       "  </thead>\n",
       "  <tbody>\n",
       "    <tr>\n",
       "      <th>0</th>\n",
       "      <td>BC</td>\n",
       "      <td>2004-C10175</td>\n",
       "      <td>None</td>\n",
       "      <td>2004</td>\n",
       "      <td>6</td>\n",
       "      <td>23</td>\n",
       "      <td>2004-06-23</td>\n",
       "      <td>Report date</td>\n",
       "      <td>NaT</td>\n",
       "      <td>2000-2009</td>\n",
       "      <td>...</td>\n",
       "      <td>None</td>\n",
       "      <td>None</td>\n",
       "      <td>2007-05-17</td>\n",
       "      <td>BC-2004-C10175</td>\n",
       "      <td>None</td>\n",
       "      <td>None</td>\n",
       "      <td>H_FIRE_PLY</td>\n",
       "      <td>2011-06-10</td>\n",
       "      <td>BC</td>\n",
       "      <td>POLYGON Z ((-1886926.467 898021.006 0, -188688...</td>\n",
       "    </tr>\n",
       "    <tr>\n",
       "      <th>1</th>\n",
       "      <td>BC</td>\n",
       "      <td>2004-C10176</td>\n",
       "      <td>None</td>\n",
       "      <td>2004</td>\n",
       "      <td>6</td>\n",
       "      <td>23</td>\n",
       "      <td>2004-06-23</td>\n",
       "      <td>Report date</td>\n",
       "      <td>NaT</td>\n",
       "      <td>2000-2009</td>\n",
       "      <td>...</td>\n",
       "      <td>None</td>\n",
       "      <td>None</td>\n",
       "      <td>2007-05-17</td>\n",
       "      <td>BC-2004-C10176</td>\n",
       "      <td>None</td>\n",
       "      <td>None</td>\n",
       "      <td>H_FIRE_PLY</td>\n",
       "      <td>2011-06-10</td>\n",
       "      <td>BC</td>\n",
       "      <td>POLYGON Z ((-1880308.251 892344.865 0, -188024...</td>\n",
       "    </tr>\n",
       "    <tr>\n",
       "      <th>2</th>\n",
       "      <td>BC</td>\n",
       "      <td>2004-C50114</td>\n",
       "      <td>None</td>\n",
       "      <td>2004</td>\n",
       "      <td>6</td>\n",
       "      <td>20</td>\n",
       "      <td>2004-06-20</td>\n",
       "      <td>Report date</td>\n",
       "      <td>NaT</td>\n",
       "      <td>2000-2009</td>\n",
       "      <td>...</td>\n",
       "      <td>None</td>\n",
       "      <td>None</td>\n",
       "      <td>2007-05-17</td>\n",
       "      <td>BC-2004-C50114</td>\n",
       "      <td>None</td>\n",
       "      <td>None</td>\n",
       "      <td>H_FIRE_PLY</td>\n",
       "      <td>2011-06-10</td>\n",
       "      <td>BC</td>\n",
       "      <td>POLYGON Z ((-1965048.293 820512.199 0, -196508...</td>\n",
       "    </tr>\n",
       "    <tr>\n",
       "      <th>3</th>\n",
       "      <td>BC</td>\n",
       "      <td>2004-C50125</td>\n",
       "      <td>None</td>\n",
       "      <td>2004</td>\n",
       "      <td>6</td>\n",
       "      <td>21</td>\n",
       "      <td>2004-06-21</td>\n",
       "      <td>Report date</td>\n",
       "      <td>NaT</td>\n",
       "      <td>2000-2009</td>\n",
       "      <td>...</td>\n",
       "      <td>None</td>\n",
       "      <td>None</td>\n",
       "      <td>2007-05-17</td>\n",
       "      <td>BC-2004-C50125</td>\n",
       "      <td>None</td>\n",
       "      <td>None</td>\n",
       "      <td>H_FIRE_PLY</td>\n",
       "      <td>2011-06-10</td>\n",
       "      <td>BC</td>\n",
       "      <td>POLYGON Z ((-1995073.527 854615.146 0, -199507...</td>\n",
       "    </tr>\n",
       "    <tr>\n",
       "      <th>4</th>\n",
       "      <td>BC</td>\n",
       "      <td>2004-C50149</td>\n",
       "      <td>None</td>\n",
       "      <td>2004</td>\n",
       "      <td>6</td>\n",
       "      <td>22</td>\n",
       "      <td>2004-06-22</td>\n",
       "      <td>Report date</td>\n",
       "      <td>NaT</td>\n",
       "      <td>2000-2009</td>\n",
       "      <td>...</td>\n",
       "      <td>None</td>\n",
       "      <td>None</td>\n",
       "      <td>2007-05-17</td>\n",
       "      <td>BC-2004-C50149</td>\n",
       "      <td>None</td>\n",
       "      <td>None</td>\n",
       "      <td>H_FIRE_PLY</td>\n",
       "      <td>2011-06-10</td>\n",
       "      <td>BC</td>\n",
       "      <td>POLYGON Z ((-1988211.829 940418.674 0, -198833...</td>\n",
       "    </tr>\n",
       "  </tbody>\n",
       "</table>\n",
       "<p>5 rows × 27 columns</p>\n",
       "</div>"
      ],
      "text/plain": [
       "  SRC_AGENCY      FIRE_ID FIRENAME  YEAR  MONTH  DAY   REP_DATE    DATE_TYPE  \\\n",
       "0         BC  2004-C10175     None  2004      6   23 2004-06-23  Report date   \n",
       "1         BC  2004-C10176     None  2004      6   23 2004-06-23  Report date   \n",
       "2         BC  2004-C50114     None  2004      6   20 2004-06-20  Report date   \n",
       "3         BC  2004-C50125     None  2004      6   21 2004-06-21  Report date   \n",
       "4         BC  2004-C50149     None  2004      6   22 2004-06-22  Report date   \n",
       "\n",
       "  OUT_DATE     DECADE  ...  UNBURN_REM  MORE_INFO  POLY_DATE      CFS_REF_ID  \\\n",
       "0      NaT  2000-2009  ...        None       None 2007-05-17  BC-2004-C10175   \n",
       "1      NaT  2000-2009  ...        None       None 2007-05-17  BC-2004-C10176   \n",
       "2      NaT  2000-2009  ...        None       None 2007-05-17  BC-2004-C50114   \n",
       "3      NaT  2000-2009  ...        None       None 2007-05-17  BC-2004-C50125   \n",
       "4      NaT  2000-2009  ...        None       None 2007-05-17  BC-2004-C50149   \n",
       "\n",
       "  CFS_NOTE1 CFS_NOTE2  AG_SRCFILE   ACQ_DATE SRC_AGY2  \\\n",
       "0      None      None  H_FIRE_PLY 2011-06-10       BC   \n",
       "1      None      None  H_FIRE_PLY 2011-06-10       BC   \n",
       "2      None      None  H_FIRE_PLY 2011-06-10       BC   \n",
       "3      None      None  H_FIRE_PLY 2011-06-10       BC   \n",
       "4      None      None  H_FIRE_PLY 2011-06-10       BC   \n",
       "\n",
       "                                            geometry  \n",
       "0  POLYGON Z ((-1886926.467 898021.006 0, -188688...  \n",
       "1  POLYGON Z ((-1880308.251 892344.865 0, -188024...  \n",
       "2  POLYGON Z ((-1965048.293 820512.199 0, -196508...  \n",
       "3  POLYGON Z ((-1995073.527 854615.146 0, -199507...  \n",
       "4  POLYGON Z ((-1988211.829 940418.674 0, -198833...  \n",
       "\n",
       "[5 rows x 27 columns]"
      ]
     },
     "execution_count": 6,
     "metadata": {},
     "output_type": "execute_result"
    }
   ],
   "source": [
    "fire_perimeters.head()"
   ]
  },
  {
   "cell_type": "code",
   "execution_count": 12,
   "id": "a651f8d9",
   "metadata": {},
   "outputs": [
    {
     "data": {
      "text/plain": [
       "SRC_AGENCY       31\n",
       "FIRE_ID       42603\n",
       "FIRENAME       3753\n",
       "YEAR            105\n",
       "MONTH            13\n",
       "DAY              32\n",
       "REP_DATE      10816\n",
       "DATE_TYPE        12\n",
       "OUT_DATE       3019\n",
       "DECADE           12\n",
       "SIZE_HA       28348\n",
       "CALC_HA       59512\n",
       "CAUSE             6\n",
       "MAP_SOURCE      179\n",
       "SOURCE_KEY       56\n",
       "MAP_METHOD      246\n",
       "WATER_REM         6\n",
       "UNBURN_REM        6\n",
       "MORE_INFO       611\n",
       "POLY_DATE      2794\n",
       "CFS_REF_ID    59443\n",
       "CFS_NOTE1        96\n",
       "CFS_NOTE2      1520\n",
       "AG_SRCFILE      206\n",
       "ACQ_DATE         99\n",
       "SRC_AGY2         13\n",
       "geometry      59515\n",
       "dtype: int64"
      ]
     },
     "execution_count": 12,
     "metadata": {},
     "output_type": "execute_result"
    }
   ],
   "source": [
    "fire_perimeters.nunique()"
   ]
  },
  {
   "cell_type": "markdown",
   "id": "316af8c9",
   "metadata": {},
   "source": [
    "---"
   ]
  },
  {
   "cell_type": "markdown",
   "id": "8cc66715",
   "metadata": {
    "vscode": {
     "languageId": "plaintext"
    }
   },
   "source": [
    "3. [Data Cleaning](#data-cleaning)  "
   ]
  },
  {
   "cell_type": "markdown",
   "id": "a9e20089",
   "metadata": {},
   "source": [
    "   - [Drop Duplicates](#drop-duplicates)  "
   ]
  },
  {
   "cell_type": "code",
   "execution_count": 15,
   "id": "076e944c",
   "metadata": {},
   "outputs": [
    {
     "data": {
      "text/plain": [
       "1"
      ]
     },
     "execution_count": 15,
     "metadata": {},
     "output_type": "execute_result"
    }
   ],
   "source": [
    "fire_perimeters.duplicated().sum()"
   ]
  },
  {
   "cell_type": "markdown",
   "id": "fee4eee8",
   "metadata": {},
   "source": [
    "- [Filter Irrelevant Records](#filter-irrelevant-records)  "
   ]
  },
  {
   "cell_type": "code",
   "execution_count": 18,
   "id": "c8f0d9dc",
   "metadata": {},
   "outputs": [],
   "source": [
    "fire_perimeters[\"SRC_AGENCY\"] = fire_perimeters[\"SRC_AGENCY\"].str.strip().str.upper()\n",
    "fires_bc = fire_perimeters[fire_perimeters[\"SRC_AGENCY\"] == \"BC\"].copy()"
   ]
  },
  {
   "cell_type": "markdown",
   "id": "cec3c211",
   "metadata": {},
   "source": [
    "   - [Handle Inconsistent Values](#handle-inconsistent-values)  "
   ]
  },
  {
   "cell_type": "markdown",
   "id": "9d1e67bf",
   "metadata": {},
   "source": [
    "---"
   ]
  },
  {
   "cell_type": "markdown",
   "id": "7079a7e6",
   "metadata": {},
   "source": [
    "  \n",
    "   - [Handling Missing Data](#handling-missing-data)  "
   ]
  },
  {
   "cell_type": "code",
   "execution_count": 19,
   "id": "44689b6c",
   "metadata": {},
   "outputs": [
    {
     "data": {
      "text/plain": [
       "(21250, 27)"
      ]
     },
     "execution_count": 19,
     "metadata": {},
     "output_type": "execute_result"
    }
   ],
   "source": [
    "fires_bc.shape"
   ]
  },
  {
   "cell_type": "code",
   "execution_count": 20,
   "id": "8f80f984",
   "metadata": {},
   "outputs": [
    {
     "data": {
      "text/plain": [
       "SRC_AGENCY        0\n",
       "FIRE_ID           0\n",
       "FIRENAME      21250\n",
       "YEAR              0\n",
       "MONTH             0\n",
       "DAY               0\n",
       "REP_DATE          0\n",
       "DATE_TYPE       974\n",
       "OUT_DATE      21250\n",
       "DECADE            0\n",
       "SIZE_HA           0\n",
       "CALC_HA           0\n",
       "CAUSE             0\n",
       "MAP_SOURCE      189\n",
       "SOURCE_KEY    20901\n",
       "MAP_METHOD       45\n",
       "WATER_REM     21250\n",
       "UNBURN_REM    21250\n",
       "MORE_INFO     21239\n",
       "POLY_DATE      1357\n",
       "CFS_REF_ID        0\n",
       "CFS_NOTE1     21226\n",
       "CFS_NOTE2     16138\n",
       "AG_SRCFILE     2694\n",
       "ACQ_DATE          0\n",
       "SRC_AGY2          0\n",
       "geometry          0\n",
       "dtype: int64"
      ]
     },
     "execution_count": 20,
     "metadata": {},
     "output_type": "execute_result"
    }
   ],
   "source": [
    "fires_bc.isnull().sum()"
   ]
  },
  {
   "cell_type": "code",
   "execution_count": 21,
   "id": "64c9df13",
   "metadata": {},
   "outputs": [
    {
     "name": "stdout",
     "output_type": "stream",
     "text": [
      "<class 'geopandas.geodataframe.GeoDataFrame'>\n",
      "Index: 21250 entries, 0 to 21249\n",
      "Data columns (total 27 columns):\n",
      " #   Column      Non-Null Count  Dtype         \n",
      "---  ------      --------------  -----         \n",
      " 0   SRC_AGENCY  21250 non-null  object        \n",
      " 1   FIRE_ID     21250 non-null  object        \n",
      " 2   FIRENAME    0 non-null      object        \n",
      " 3   YEAR        21250 non-null  int64         \n",
      " 4   MONTH       21250 non-null  int64         \n",
      " 5   DAY         21250 non-null  int64         \n",
      " 6   REP_DATE    21250 non-null  datetime64[ms]\n",
      " 7   DATE_TYPE   20276 non-null  object        \n",
      " 8   OUT_DATE    0 non-null      datetime64[ms]\n",
      " 9   DECADE      21250 non-null  object        \n",
      " 10  SIZE_HA     21250 non-null  float64       \n",
      " 11  CALC_HA     21250 non-null  float64       \n",
      " 12  CAUSE       21250 non-null  object        \n",
      " 13  MAP_SOURCE  21061 non-null  object        \n",
      " 14  SOURCE_KEY  349 non-null    object        \n",
      " 15  MAP_METHOD  21205 non-null  object        \n",
      " 16  WATER_REM   0 non-null      object        \n",
      " 17  UNBURN_REM  0 non-null      object        \n",
      " 18  MORE_INFO   11 non-null     object        \n",
      " 19  POLY_DATE   19893 non-null  datetime64[ms]\n",
      " 20  CFS_REF_ID  21250 non-null  object        \n",
      " 21  CFS_NOTE1   24 non-null     object        \n",
      " 22  CFS_NOTE2   5112 non-null   object        \n",
      " 23  AG_SRCFILE  18556 non-null  object        \n",
      " 24  ACQ_DATE    21250 non-null  datetime64[ms]\n",
      " 25  SRC_AGY2    21250 non-null  object        \n",
      " 26  geometry    21250 non-null  geometry      \n",
      "dtypes: datetime64[ms](4), float64(2), geometry(1), int64(3), object(17)\n",
      "memory usage: 4.5+ MB\n"
     ]
    }
   ],
   "source": [
    "fires_bc.info()"
   ]
  },
  {
   "cell_type": "markdown",
   "id": "567a1256",
   "metadata": {},
   "source": [
    "- [Feature Selection](#feature-selection)  "
   ]
  },
  {
   "cell_type": "code",
   "execution_count": 23,
   "id": "05f800f9",
   "metadata": {},
   "outputs": [],
   "source": [
    "columns = [\n",
    "    \"FIRE_ID\", \n",
    "    \"YEAR\", \"MONTH\", \"DAY\", \"REP_DATE\",\n",
    "    \"SIZE_HA\", \"CALC_HA\", \n",
    "    \"CAUSE\", \n",
    "    \"MAP_METHOD\", \"POLY_DATE\", \n",
    "    \"geometry\"\n",
    "]\n",
    "\n",
    "fires_bc = fires_bc[columns].copy()"
   ]
  },
  {
   "cell_type": "code",
   "execution_count": 24,
   "id": "a6672b93",
   "metadata": {},
   "outputs": [
    {
     "data": {
      "text/plain": [
       "(21250, 11)"
      ]
     },
     "execution_count": 24,
     "metadata": {},
     "output_type": "execute_result"
    }
   ],
   "source": [
    "fires_bc.shape"
   ]
  },
  {
   "cell_type": "code",
   "execution_count": 25,
   "id": "11d8f575",
   "metadata": {},
   "outputs": [
    {
     "data": {
      "text/html": [
       "<div>\n",
       "<style scoped>\n",
       "    .dataframe tbody tr th:only-of-type {\n",
       "        vertical-align: middle;\n",
       "    }\n",
       "\n",
       "    .dataframe tbody tr th {\n",
       "        vertical-align: top;\n",
       "    }\n",
       "\n",
       "    .dataframe thead th {\n",
       "        text-align: right;\n",
       "    }\n",
       "</style>\n",
       "<table border=\"1\" class=\"dataframe\">\n",
       "  <thead>\n",
       "    <tr style=\"text-align: right;\">\n",
       "      <th></th>\n",
       "      <th>FIRE_ID</th>\n",
       "      <th>YEAR</th>\n",
       "      <th>MONTH</th>\n",
       "      <th>DAY</th>\n",
       "      <th>REP_DATE</th>\n",
       "      <th>SIZE_HA</th>\n",
       "      <th>CALC_HA</th>\n",
       "      <th>CAUSE</th>\n",
       "      <th>MAP_METHOD</th>\n",
       "      <th>POLY_DATE</th>\n",
       "      <th>geometry</th>\n",
       "    </tr>\n",
       "  </thead>\n",
       "  <tbody>\n",
       "    <tr>\n",
       "      <th>0</th>\n",
       "      <td>2004-C10175</td>\n",
       "      <td>2004</td>\n",
       "      <td>6</td>\n",
       "      <td>23</td>\n",
       "      <td>2004-06-23</td>\n",
       "      <td>1370.5</td>\n",
       "      <td>1370.507344</td>\n",
       "      <td>L</td>\n",
       "      <td>digitized</td>\n",
       "      <td>2007-05-17</td>\n",
       "      <td>POLYGON Z ((-1886926.467 898021.006 0, -188688...</td>\n",
       "    </tr>\n",
       "    <tr>\n",
       "      <th>1</th>\n",
       "      <td>2004-C10176</td>\n",
       "      <td>2004</td>\n",
       "      <td>6</td>\n",
       "      <td>23</td>\n",
       "      <td>2004-06-23</td>\n",
       "      <td>520.7</td>\n",
       "      <td>520.796287</td>\n",
       "      <td>L</td>\n",
       "      <td>digitized</td>\n",
       "      <td>2007-05-17</td>\n",
       "      <td>POLYGON Z ((-1880308.251 892344.865 0, -188024...</td>\n",
       "    </tr>\n",
       "    <tr>\n",
       "      <th>2</th>\n",
       "      <td>2004-C50114</td>\n",
       "      <td>2004</td>\n",
       "      <td>6</td>\n",
       "      <td>20</td>\n",
       "      <td>2004-06-20</td>\n",
       "      <td>268.2</td>\n",
       "      <td>268.290572</td>\n",
       "      <td>L</td>\n",
       "      <td>digitized</td>\n",
       "      <td>2007-05-17</td>\n",
       "      <td>POLYGON Z ((-1965048.293 820512.199 0, -196508...</td>\n",
       "    </tr>\n",
       "    <tr>\n",
       "      <th>3</th>\n",
       "      <td>2004-C50125</td>\n",
       "      <td>2004</td>\n",
       "      <td>6</td>\n",
       "      <td>21</td>\n",
       "      <td>2004-06-21</td>\n",
       "      <td>20506.4</td>\n",
       "      <td>20506.415129</td>\n",
       "      <td>L</td>\n",
       "      <td>Modified from Protection</td>\n",
       "      <td>2007-05-17</td>\n",
       "      <td>POLYGON Z ((-1995073.527 854615.146 0, -199507...</td>\n",
       "    </tr>\n",
       "    <tr>\n",
       "      <th>4</th>\n",
       "      <td>2004-C50149</td>\n",
       "      <td>2004</td>\n",
       "      <td>6</td>\n",
       "      <td>22</td>\n",
       "      <td>2004-06-22</td>\n",
       "      <td>2408.5</td>\n",
       "      <td>2408.587142</td>\n",
       "      <td>L</td>\n",
       "      <td>digitized</td>\n",
       "      <td>2007-05-17</td>\n",
       "      <td>POLYGON Z ((-1988211.829 940418.674 0, -198833...</td>\n",
       "    </tr>\n",
       "  </tbody>\n",
       "</table>\n",
       "</div>"
      ],
      "text/plain": [
       "       FIRE_ID  YEAR  MONTH  DAY   REP_DATE  SIZE_HA       CALC_HA CAUSE  \\\n",
       "0  2004-C10175  2004      6   23 2004-06-23   1370.5   1370.507344     L   \n",
       "1  2004-C10176  2004      6   23 2004-06-23    520.7    520.796287     L   \n",
       "2  2004-C50114  2004      6   20 2004-06-20    268.2    268.290572     L   \n",
       "3  2004-C50125  2004      6   21 2004-06-21  20506.4  20506.415129     L   \n",
       "4  2004-C50149  2004      6   22 2004-06-22   2408.5   2408.587142     L   \n",
       "\n",
       "                 MAP_METHOD  POLY_DATE  \\\n",
       "0                 digitized 2007-05-17   \n",
       "1                 digitized 2007-05-17   \n",
       "2                 digitized 2007-05-17   \n",
       "3  Modified from Protection 2007-05-17   \n",
       "4                 digitized 2007-05-17   \n",
       "\n",
       "                                            geometry  \n",
       "0  POLYGON Z ((-1886926.467 898021.006 0, -188688...  \n",
       "1  POLYGON Z ((-1880308.251 892344.865 0, -188024...  \n",
       "2  POLYGON Z ((-1965048.293 820512.199 0, -196508...  \n",
       "3  POLYGON Z ((-1995073.527 854615.146 0, -199507...  \n",
       "4  POLYGON Z ((-1988211.829 940418.674 0, -198833...  "
      ]
     },
     "execution_count": 25,
     "metadata": {},
     "output_type": "execute_result"
    }
   ],
   "source": [
    "fires_bc.head()"
   ]
  },
  {
   "cell_type": "markdown",
   "id": "72fe7dae",
   "metadata": {},
   "source": [
    "   - [Creating New Features](#creating-new-features)  \n"
   ]
  },
  {
   "cell_type": "markdown",
   "id": "76b8633f",
   "metadata": {},
   "source": [
    "---"
   ]
  },
  {
   "cell_type": "code",
   "execution_count": 26,
   "id": "d5ee6cb6",
   "metadata": {},
   "outputs": [
    {
     "name": "stdout",
     "output_type": "stream",
     "text": [
      "       FIRE_ID  YEAR  MONTH  DAY   REP_DATE  SIZE_HA       CALC_HA CAUSE  \\\n",
      "0  2004-C10175  2004      6   23 2004-06-23   1370.5   1370.507344     L   \n",
      "1  2004-C10176  2004      6   23 2004-06-23    520.7    520.796287     L   \n",
      "2  2004-C50114  2004      6   20 2004-06-20    268.2    268.290572     L   \n",
      "3  2004-C50125  2004      6   21 2004-06-21  20506.4  20506.415129     L   \n",
      "4  2004-C50149  2004      6   22 2004-06-22   2408.5   2408.587142     L   \n",
      "\n",
      "                 MAP_METHOD  POLY_DATE  \\\n",
      "0                 digitized 2007-05-17   \n",
      "1                 digitized 2007-05-17   \n",
      "2                 digitized 2007-05-17   \n",
      "3  Modified from Protection 2007-05-17   \n",
      "4                 digitized 2007-05-17   \n",
      "\n",
      "                                            geometry  \n",
      "0  POLYGON Z ((1092870.828 897955.996 0, 1092917....  \n",
      "1  POLYGON Z ((1101470.06 895987.632 0, 1101545.3...  \n",
      "2  POLYGON Z ((1059622.287 791392.109 0, 1059646....  \n",
      "3  POLYGON Z ((1016741.687 807717.542 0, 1016827....  \n",
      "4  POLYGON Z ((982266.652 887925.07 0, 982331.132...  \n",
      "EPSG:3005\n"
     ]
    }
   ],
   "source": [
    "# Reproject to EPSG:3005\n",
    "fires_bc = fires_bc.to_crs(epsg=3005)\n",
    "\n",
    "# Save processed dataset\n",
    "fires_bc.to_file(\"../data_raw/fire_perimeters/fire_perimeters.gpkg\", driver=\"GPKG\")\n",
    "\n",
    "print(fires_bc.head())\n",
    "print(fires_bc.crs)"
   ]
  },
  {
   "cell_type": "markdown",
   "id": "13a3777a",
   "metadata": {},
   "source": [
    "10. [References](#references)  \n"
   ]
  },
  {
   "cell_type": "markdown",
   "id": "0c40eb46",
   "metadata": {},
   "source": [
    "https://cwfis.cfs.nrcan.gc.ca/datamart/download/nfdbpoly"
   ]
  }
 ],
 "metadata": {
  "kernelspec": {
   "display_name": "fire_env",
   "language": "python",
   "name": "python3"
  },
  "language_info": {
   "codemirror_mode": {
    "name": "ipython",
    "version": 3
   },
   "file_extension": ".py",
   "mimetype": "text/x-python",
   "name": "python",
   "nbconvert_exporter": "python",
   "pygments_lexer": "ipython3",
   "version": "3.11.13"
  }
 },
 "nbformat": 4,
 "nbformat_minor": 5
}
