{
 "cells": [
  {
   "cell_type": "markdown",
   "id": "4e140472",
   "metadata": {},
   "source": [
    "# Data Science Final Project \n"
   ]
  },
  {
   "cell_type": "markdown",
   "id": "e810a17c",
   "metadata": {},
   "source": [
    "**College/University Name**: _CICCC - Cornerstone International Community College of Canada_  \n",
    "**Course**: _Final Project_  \n",
    "**Instructor**: _Derrick Park_  \n",
    "**Student Name**: _Amir Lima Oliveira_  \n",
    "**Submission Date**: _2025-09-26_  \n",
    "\n",
    "---"
   ]
  },
  {
   "cell_type": "markdown",
   "id": "60372ac7",
   "metadata": {},
   "source": [
    "### Project Title\n",
    "    _Wildfire Restoration Priority Classification in Canada_\n",
    "---"
   ]
  },
  {
   "cell_type": "markdown",
   "id": "5286acd2",
   "metadata": {},
   "source": [
    "#### Objective\n",
    "    Find, structure and analyse the NASA's datasets with satelite data points about wildfires detection, connect this with satelite images and engineer areas parameters for the detection of which wildfire area needs priority restoration.\n",
    "### Problem Statement or Research Question\n",
    "    This project aims to help manage and direct resources with efficiency in the right areas based on the data-driven structure of the machine learning model to the most critical areas. \n",
    "---"
   ]
  },
  {
   "cell_type": "markdown",
   "id": "5bd07e86",
   "metadata": {},
   "source": [
    "#### Dataset Overview\n",
    "- **Source:** [Dataset URL or name]\n",
    "- **Description:** Short explanation of the dataset (e.g., features, size, context)\n",
    "- **Credits:** Cite source or dataset author if required\n",
    "\n",
    "---"
   ]
  },
  {
   "cell_type": "markdown",
   "id": "8a3cbe60",
   "metadata": {},
   "source": [
    "## Table of Contents\n"
   ]
  },
  {
   "cell_type": "markdown",
   "id": "6844255d",
   "metadata": {},
   "source": [
    "1. [Import Libraries](#import-libraries)  \n"
   ]
  },
  {
   "cell_type": "code",
   "execution_count": 2,
   "id": "4a8c062f",
   "metadata": {},
   "outputs": [],
   "source": [
    "import pandas as pd\n",
    "import numpy as np\n",
    "import matplotlib.pyplot as plt\n",
    "import geopandas as gpd\n",
    "import rasterio as rio\n",
    "import fiona\n",
    "from rasterio.plot import show\n",
    "import shapely.geometry as geom\n",
    "import seaborn as sns\n",
    "from sklearn.model_selection import train_test_split\n",
    "from sklearn.ensemble import RandomForestClassifier\n",
    "\n",
    "import urllib.request # to download the watershed gdb file"
   ]
  },
  {
   "cell_type": "markdown",
   "id": "9b726c08",
   "metadata": {},
   "source": [
    "---"
   ]
  },
  {
   "cell_type": "markdown",
   "id": "bafef8e5",
   "metadata": {},
   "source": [
    "2. [Load & Inspect Data](#load--inspect-data)  \n"
   ]
  },
  {
   "cell_type": "code",
   "execution_count": 27,
   "id": "bfbe7449",
   "metadata": {},
   "outputs": [],
   "source": [
    "community_proximity = gpd.read_file('../data_raw/community_prox/legal_admin/ABMS_LCTNS_point.shp')"
   ]
  },
  {
   "cell_type": "markdown",
   "id": "4c838a59",
   "metadata": {},
   "source": [
    "   - [Shape](#shape)  "
   ]
  },
  {
   "cell_type": "code",
   "execution_count": 28,
   "id": "0859a5f6",
   "metadata": {},
   "outputs": [
    {
     "data": {
      "text/plain": [
       "(6444, 20)"
      ]
     },
     "execution_count": 28,
     "metadata": {},
     "output_type": "execute_result"
    }
   ],
   "source": [
    "community_proximity.shape\n"
   ]
  },
  {
   "cell_type": "markdown",
   "id": "a1e2e867",
   "metadata": {},
   "source": [
    "   - [Missing Values](#missing-values)  \n"
   ]
  },
  {
   "cell_type": "code",
   "execution_count": 20,
   "id": "75a963e5",
   "metadata": {},
   "outputs": [
    {
     "data": {
      "text/plain": [
       "LGL_DMN_ID       0\n",
       "AA_LOC_TYP       0\n",
       "AA_LOC_LAB    3639\n",
       "AA_NAME          0\n",
       "AA_ABBRVN        0\n",
       "AA_GRP_NM        0\n",
       "ADMN_R_TYE       0\n",
       "LATITUDE         0\n",
       "LONGITUDE        0\n",
       "UTM_ZONE         0\n",
       "UTM_EAST         0\n",
       "UTM_NORTH        0\n",
       "CHNG_RQSTG       0\n",
       "UPDT_TYPE        2\n",
       "WHEN_UPDTD       0\n",
       "ACCRCY_CD        0\n",
       "MP_PNT_NTS    6387\n",
       "SHAPE         6444\n",
       "OBJECTID         0\n",
       "geometry         0\n",
       "dtype: int64"
      ]
     },
     "execution_count": 20,
     "metadata": {},
     "output_type": "execute_result"
    }
   ],
   "source": [
    "community_proximity.isnull().sum()"
   ]
  },
  {
   "cell_type": "markdown",
   "id": "c5551de0",
   "metadata": {},
   "source": [
    "   - [Data Types](#data-types)  \n"
   ]
  },
  {
   "cell_type": "code",
   "execution_count": 21,
   "id": "9a4620f3",
   "metadata": {},
   "outputs": [
    {
     "data": {
      "text/html": [
       "<div>\n",
       "<style scoped>\n",
       "    .dataframe tbody tr th:only-of-type {\n",
       "        vertical-align: middle;\n",
       "    }\n",
       "\n",
       "    .dataframe tbody tr th {\n",
       "        vertical-align: top;\n",
       "    }\n",
       "\n",
       "    .dataframe thead th {\n",
       "        text-align: right;\n",
       "    }\n",
       "</style>\n",
       "<table border=\"1\" class=\"dataframe\">\n",
       "  <thead>\n",
       "    <tr style=\"text-align: right;\">\n",
       "      <th></th>\n",
       "      <th>LGL_DMN_ID</th>\n",
       "      <th>LATITUDE</th>\n",
       "      <th>LONGITUDE</th>\n",
       "      <th>UTM_ZONE</th>\n",
       "      <th>UTM_EAST</th>\n",
       "      <th>UTM_NORTH</th>\n",
       "      <th>SHAPE</th>\n",
       "      <th>OBJECTID</th>\n",
       "    </tr>\n",
       "  </thead>\n",
       "  <tbody>\n",
       "    <tr>\n",
       "      <th>count</th>\n",
       "      <td>6444.000000</td>\n",
       "      <td>6444.000000</td>\n",
       "      <td>6444.000000</td>\n",
       "      <td>6444.000000</td>\n",
       "      <td>6444.000000</td>\n",
       "      <td>6.444000e+03</td>\n",
       "      <td>0.0</td>\n",
       "      <td>6.444000e+03</td>\n",
       "    </tr>\n",
       "    <tr>\n",
       "      <th>mean</th>\n",
       "      <td>3223.161080</td>\n",
       "      <td>51.902406</td>\n",
       "      <td>-122.875413</td>\n",
       "      <td>10.006518</td>\n",
       "      <td>504035.300435</td>\n",
       "      <td>5.751695e+06</td>\n",
       "      <td>NaN</td>\n",
       "      <td>1.179415e+06</td>\n",
       "    </tr>\n",
       "    <tr>\n",
       "      <th>std</th>\n",
       "      <td>1861.431603</td>\n",
       "      <td>3.496365</td>\n",
       "      <td>4.630445</td>\n",
       "      <td>0.773185</td>\n",
       "      <td>117023.527860</td>\n",
       "      <td>3.892944e+05</td>\n",
       "      <td>NaN</td>\n",
       "      <td>1.861432e+03</td>\n",
       "    </tr>\n",
       "    <tr>\n",
       "      <th>min</th>\n",
       "      <td>1.000000</td>\n",
       "      <td>48.310634</td>\n",
       "      <td>-139.061300</td>\n",
       "      <td>7.000000</td>\n",
       "      <td>282006.000000</td>\n",
       "      <td>5.350974e+06</td>\n",
       "      <td>NaN</td>\n",
       "      <td>1.176193e+06</td>\n",
       "    </tr>\n",
       "    <tr>\n",
       "      <th>25%</th>\n",
       "      <td>1611.750000</td>\n",
       "      <td>49.276077</td>\n",
       "      <td>-124.797390</td>\n",
       "      <td>10.000000</td>\n",
       "      <td>409509.000000</td>\n",
       "      <td>5.459018e+06</td>\n",
       "      <td>NaN</td>\n",
       "      <td>1.177804e+06</td>\n",
       "    </tr>\n",
       "    <tr>\n",
       "      <th>50%</th>\n",
       "      <td>3222.500000</td>\n",
       "      <td>50.262017</td>\n",
       "      <td>-122.529910</td>\n",
       "      <td>10.000000</td>\n",
       "      <td>497476.000000</td>\n",
       "      <td>5.569254e+06</td>\n",
       "      <td>NaN</td>\n",
       "      <td>1.179414e+06</td>\n",
       "    </tr>\n",
       "    <tr>\n",
       "      <th>75%</th>\n",
       "      <td>4833.250000</td>\n",
       "      <td>54.009434</td>\n",
       "      <td>-119.978120</td>\n",
       "      <td>11.000000</td>\n",
       "      <td>601364.250000</td>\n",
       "      <td>5.986317e+06</td>\n",
       "      <td>NaN</td>\n",
       "      <td>1.181025e+06</td>\n",
       "    </tr>\n",
       "    <tr>\n",
       "      <th>max</th>\n",
       "      <td>6455.000000</td>\n",
       "      <td>60.002066</td>\n",
       "      <td>-114.054160</td>\n",
       "      <td>11.000000</td>\n",
       "      <td>719233.000000</td>\n",
       "      <td>6.655305e+06</td>\n",
       "      <td>NaN</td>\n",
       "      <td>1.182647e+06</td>\n",
       "    </tr>\n",
       "  </tbody>\n",
       "</table>\n",
       "</div>"
      ],
      "text/plain": [
       "        LGL_DMN_ID     LATITUDE    LONGITUDE     UTM_ZONE       UTM_EAST  \\\n",
       "count  6444.000000  6444.000000  6444.000000  6444.000000    6444.000000   \n",
       "mean   3223.161080    51.902406  -122.875413    10.006518  504035.300435   \n",
       "std    1861.431603     3.496365     4.630445     0.773185  117023.527860   \n",
       "min       1.000000    48.310634  -139.061300     7.000000  282006.000000   \n",
       "25%    1611.750000    49.276077  -124.797390    10.000000  409509.000000   \n",
       "50%    3222.500000    50.262017  -122.529910    10.000000  497476.000000   \n",
       "75%    4833.250000    54.009434  -119.978120    11.000000  601364.250000   \n",
       "max    6455.000000    60.002066  -114.054160    11.000000  719233.000000   \n",
       "\n",
       "          UTM_NORTH  SHAPE      OBJECTID  \n",
       "count  6.444000e+03    0.0  6.444000e+03  \n",
       "mean   5.751695e+06    NaN  1.179415e+06  \n",
       "std    3.892944e+05    NaN  1.861432e+03  \n",
       "min    5.350974e+06    NaN  1.176193e+06  \n",
       "25%    5.459018e+06    NaN  1.177804e+06  \n",
       "50%    5.569254e+06    NaN  1.179414e+06  \n",
       "75%    5.986317e+06    NaN  1.181025e+06  \n",
       "max    6.655305e+06    NaN  1.182647e+06  "
      ]
     },
     "execution_count": 21,
     "metadata": {},
     "output_type": "execute_result"
    }
   ],
   "source": [
    "community_proximity.describe()"
   ]
  },
  {
   "cell_type": "markdown",
   "id": "0343c8ce",
   "metadata": {},
   "source": [
    "   - [Preview Data](#preview-data)\n"
   ]
  },
  {
   "cell_type": "code",
   "execution_count": 22,
   "id": "cddbcbe0",
   "metadata": {},
   "outputs": [
    {
     "data": {
      "text/html": [
       "<div>\n",
       "<style scoped>\n",
       "    .dataframe tbody tr th:only-of-type {\n",
       "        vertical-align: middle;\n",
       "    }\n",
       "\n",
       "    .dataframe tbody tr th {\n",
       "        vertical-align: top;\n",
       "    }\n",
       "\n",
       "    .dataframe thead th {\n",
       "        text-align: right;\n",
       "    }\n",
       "</style>\n",
       "<table border=\"1\" class=\"dataframe\">\n",
       "  <thead>\n",
       "    <tr style=\"text-align: right;\">\n",
       "      <th></th>\n",
       "      <th>LGL_DMN_ID</th>\n",
       "      <th>AA_LOC_TYP</th>\n",
       "      <th>AA_LOC_LAB</th>\n",
       "      <th>AA_NAME</th>\n",
       "      <th>AA_ABBRVN</th>\n",
       "      <th>AA_GRP_NM</th>\n",
       "      <th>ADMN_R_TYE</th>\n",
       "      <th>LATITUDE</th>\n",
       "      <th>LONGITUDE</th>\n",
       "      <th>UTM_ZONE</th>\n",
       "      <th>UTM_EAST</th>\n",
       "      <th>UTM_NORTH</th>\n",
       "      <th>CHNG_RQSTG</th>\n",
       "      <th>UPDT_TYPE</th>\n",
       "      <th>WHEN_UPDTD</th>\n",
       "      <th>ACCRCY_CD</th>\n",
       "      <th>MP_PNT_NTS</th>\n",
       "      <th>SHAPE</th>\n",
       "      <th>OBJECTID</th>\n",
       "      <th>geometry</th>\n",
       "    </tr>\n",
       "  </thead>\n",
       "  <tbody>\n",
       "    <tr>\n",
       "      <th>0</th>\n",
       "      <td>312</td>\n",
       "      <td>GEO</td>\n",
       "      <td>Geographic coordinate</td>\n",
       "      <td>CRD Electoral Area G</td>\n",
       "      <td>CRD - EA G</td>\n",
       "      <td>Cariboo Regional District</td>\n",
       "      <td>ELECT</td>\n",
       "      <td>52.075810</td>\n",
       "      <td>-121.20488</td>\n",
       "      <td>10</td>\n",
       "      <td>623022</td>\n",
       "      <td>5770990</td>\n",
       "      <td>MUNI</td>\n",
       "      <td>E</td>\n",
       "      <td>20240628</td>\n",
       "      <td>UNKNOWN</td>\n",
       "      <td>None</td>\n",
       "      <td>NaN</td>\n",
       "      <td>1176504.0</td>\n",
       "      <td>POINT (1327879.911 796066.823)</td>\n",
       "    </tr>\n",
       "    <tr>\n",
       "      <th>1</th>\n",
       "      <td>313</td>\n",
       "      <td>GEO</td>\n",
       "      <td>None</td>\n",
       "      <td>CRD Electoral Area G</td>\n",
       "      <td>CRD - EA G</td>\n",
       "      <td>Cariboo Regional District</td>\n",
       "      <td>ELECT</td>\n",
       "      <td>51.719358</td>\n",
       "      <td>-121.23423</td>\n",
       "      <td>10</td>\n",
       "      <td>621973</td>\n",
       "      <td>5731301</td>\n",
       "      <td>MUNI</td>\n",
       "      <td>E</td>\n",
       "      <td>20240628</td>\n",
       "      <td>UNKNOWN</td>\n",
       "      <td>None</td>\n",
       "      <td>NaN</td>\n",
       "      <td>1176505.0</td>\n",
       "      <td>POINT (1328548.693 756289.155)</td>\n",
       "    </tr>\n",
       "    <tr>\n",
       "      <th>2</th>\n",
       "      <td>314</td>\n",
       "      <td>GEO</td>\n",
       "      <td>Point of Commencement</td>\n",
       "      <td>CRD Electoral Area H</td>\n",
       "      <td>CRD - EA H</td>\n",
       "      <td>Cariboo Regional District</td>\n",
       "      <td>ELECT</td>\n",
       "      <td>51.991341</td>\n",
       "      <td>-121.21206</td>\n",
       "      <td>10</td>\n",
       "      <td>622762</td>\n",
       "      <td>5761585</td>\n",
       "      <td>MUNI</td>\n",
       "      <td>E</td>\n",
       "      <td>20240628</td>\n",
       "      <td>UNKNOWN</td>\n",
       "      <td>None</td>\n",
       "      <td>NaN</td>\n",
       "      <td>1176506.0</td>\n",
       "      <td>POINT (1328026.001 786638.651)</td>\n",
       "    </tr>\n",
       "    <tr>\n",
       "      <th>3</th>\n",
       "      <td>315</td>\n",
       "      <td>GEO</td>\n",
       "      <td>Geographic coordinate</td>\n",
       "      <td>CRD Electoral Area H</td>\n",
       "      <td>CRD - EA H</td>\n",
       "      <td>Cariboo Regional District</td>\n",
       "      <td>ELECT</td>\n",
       "      <td>51.991295</td>\n",
       "      <td>-120.88585</td>\n",
       "      <td>10</td>\n",
       "      <td>645157</td>\n",
       "      <td>5762180</td>\n",
       "      <td>MUNI</td>\n",
       "      <td>E</td>\n",
       "      <td>20240628</td>\n",
       "      <td>UNKNOWN</td>\n",
       "      <td>None</td>\n",
       "      <td>NaN</td>\n",
       "      <td>1176507.0</td>\n",
       "      <td>POINT (1350337.775 788196.424)</td>\n",
       "    </tr>\n",
       "    <tr>\n",
       "      <th>4</th>\n",
       "      <td>316</td>\n",
       "      <td>GEO</td>\n",
       "      <td>Geographic coordinate</td>\n",
       "      <td>CRD Electoral Area H</td>\n",
       "      <td>CRD - EA H</td>\n",
       "      <td>Cariboo Regional District</td>\n",
       "      <td>ELECT</td>\n",
       "      <td>52.137933</td>\n",
       "      <td>-120.88570</td>\n",
       "      <td>10</td>\n",
       "      <td>644693</td>\n",
       "      <td>5778488</td>\n",
       "      <td>MUNI</td>\n",
       "      <td>E</td>\n",
       "      <td>20240628</td>\n",
       "      <td>UNKNOWN</td>\n",
       "      <td>None</td>\n",
       "      <td>NaN</td>\n",
       "      <td>1176508.0</td>\n",
       "      <td>POINT (1349168.327 804502.068)</td>\n",
       "    </tr>\n",
       "  </tbody>\n",
       "</table>\n",
       "</div>"
      ],
      "text/plain": [
       "   LGL_DMN_ID AA_LOC_TYP             AA_LOC_LAB               AA_NAME  \\\n",
       "0         312        GEO  Geographic coordinate  CRD Electoral Area G   \n",
       "1         313        GEO                   None  CRD Electoral Area G   \n",
       "2         314        GEO  Point of Commencement  CRD Electoral Area H   \n",
       "3         315        GEO  Geographic coordinate  CRD Electoral Area H   \n",
       "4         316        GEO  Geographic coordinate  CRD Electoral Area H   \n",
       "\n",
       "    AA_ABBRVN                  AA_GRP_NM ADMN_R_TYE   LATITUDE  LONGITUDE  \\\n",
       "0  CRD - EA G  Cariboo Regional District      ELECT  52.075810 -121.20488   \n",
       "1  CRD - EA G  Cariboo Regional District      ELECT  51.719358 -121.23423   \n",
       "2  CRD - EA H  Cariboo Regional District      ELECT  51.991341 -121.21206   \n",
       "3  CRD - EA H  Cariboo Regional District      ELECT  51.991295 -120.88585   \n",
       "4  CRD - EA H  Cariboo Regional District      ELECT  52.137933 -120.88570   \n",
       "\n",
       "   UTM_ZONE  UTM_EAST  UTM_NORTH CHNG_RQSTG UPDT_TYPE WHEN_UPDTD ACCRCY_CD  \\\n",
       "0        10    623022    5770990       MUNI         E   20240628   UNKNOWN   \n",
       "1        10    621973    5731301       MUNI         E   20240628   UNKNOWN   \n",
       "2        10    622762    5761585       MUNI         E   20240628   UNKNOWN   \n",
       "3        10    645157    5762180       MUNI         E   20240628   UNKNOWN   \n",
       "4        10    644693    5778488       MUNI         E   20240628   UNKNOWN   \n",
       "\n",
       "  MP_PNT_NTS  SHAPE   OBJECTID                        geometry  \n",
       "0       None    NaN  1176504.0  POINT (1327879.911 796066.823)  \n",
       "1       None    NaN  1176505.0  POINT (1328548.693 756289.155)  \n",
       "2       None    NaN  1176506.0  POINT (1328026.001 786638.651)  \n",
       "3       None    NaN  1176507.0  POINT (1350337.775 788196.424)  \n",
       "4       None    NaN  1176508.0  POINT (1349168.327 804502.068)  "
      ]
     },
     "execution_count": 22,
     "metadata": {},
     "output_type": "execute_result"
    }
   ],
   "source": [
    "community_proximity.head()"
   ]
  },
  {
   "cell_type": "markdown",
   "id": "316af8c9",
   "metadata": {},
   "source": [
    "---"
   ]
  },
  {
   "cell_type": "markdown",
   "id": "7f4bc36c",
   "metadata": {},
   "source": [
    "   - [Standardize Text and Formats](#standardize-text-and-formats)  "
   ]
  },
  {
   "cell_type": "code",
   "execution_count": 23,
   "id": "0cbb7343",
   "metadata": {},
   "outputs": [
    {
     "name": "stdout",
     "output_type": "stream",
     "text": [
      "<class 'geopandas.geodataframe.GeoDataFrame'>\n",
      "RangeIndex: 6444 entries, 0 to 6443\n",
      "Data columns (total 20 columns):\n",
      " #   Column      Non-Null Count  Dtype   \n",
      "---  ------      --------------  -----   \n",
      " 0   LGL_DMN_ID  6444 non-null   int64   \n",
      " 1   AA_LOC_TYP  6444 non-null   object  \n",
      " 2   AA_LOC_LAB  2805 non-null   object  \n",
      " 3   AA_NAME     6444 non-null   object  \n",
      " 4   AA_ABBRVN   6444 non-null   object  \n",
      " 5   AA_GRP_NM   6444 non-null   object  \n",
      " 6   ADMN_R_TYE  6444 non-null   object  \n",
      " 7   LATITUDE    6444 non-null   float64 \n",
      " 8   LONGITUDE   6444 non-null   float64 \n",
      " 9   UTM_ZONE    6444 non-null   int32   \n",
      " 10  UTM_EAST    6444 non-null   int64   \n",
      " 11  UTM_NORTH   6444 non-null   int64   \n",
      " 12  CHNG_RQSTG  6444 non-null   object  \n",
      " 13  UPDT_TYPE   6442 non-null   object  \n",
      " 14  WHEN_UPDTD  6444 non-null   object  \n",
      " 15  ACCRCY_CD   6444 non-null   object  \n",
      " 16  MP_PNT_NTS  57 non-null     object  \n",
      " 17  SHAPE       0 non-null      float64 \n",
      " 18  OBJECTID    6444 non-null   float64 \n",
      " 19  geometry    6444 non-null   geometry\n",
      "dtypes: float64(4), geometry(1), int32(1), int64(3), object(11)\n",
      "memory usage: 981.8+ KB\n"
     ]
    }
   ],
   "source": [
    "community_proximity.info()"
   ]
  },
  {
   "cell_type": "markdown",
   "id": "fa77adb6",
   "metadata": {},
   "source": [
    "- [Convert Data Types](#convert-data-types)  \n",
    "   "
   ]
  },
  {
   "cell_type": "markdown",
   "id": "fee4eee8",
   "metadata": {},
   "source": [
    "- [Filter Irrelevant Records](#filter-irrelevant-records)  "
   ]
  },
  {
   "cell_type": "markdown",
   "id": "9d1e67bf",
   "metadata": {},
   "source": [
    "---"
   ]
  },
  {
   "cell_type": "markdown",
   "id": "567a1256",
   "metadata": {},
   "source": [
    "- [Feature Selection](#feature-selection)  "
   ]
  },
  {
   "cell_type": "code",
   "execution_count": 29,
   "id": "3488e108",
   "metadata": {},
   "outputs": [],
   "source": [
    "community_proximity = community_proximity[['AA_NAME', 'geometry','AA_LOC_TYP']]"
   ]
  },
  {
   "cell_type": "markdown",
   "id": "7079a7e6",
   "metadata": {},
   "source": [
    "  \n",
    "   - [Handling Missing Data](#handling-missing-data)  "
   ]
  },
  {
   "cell_type": "code",
   "execution_count": 30,
   "id": "9f4d12ec",
   "metadata": {},
   "outputs": [
    {
     "data": {
      "text/plain": [
       "AA_NAME       0\n",
       "geometry      0\n",
       "AA_LOC_TYP    0\n",
       "dtype: int64"
      ]
     },
     "execution_count": 30,
     "metadata": {},
     "output_type": "execute_result"
    }
   ],
   "source": [
    "community_proximity.isnull().sum()"
   ]
  },
  {
   "cell_type": "code",
   "execution_count": 31,
   "id": "01f41c93",
   "metadata": {},
   "outputs": [
    {
     "name": "stdout",
     "output_type": "stream",
     "text": [
      "                AA_NAME                        geometry AA_LOC_TYP\n",
      "0  CRD Electoral Area G  POINT (1327879.911 796066.823)        GEO\n",
      "1  CRD Electoral Area G  POINT (1328548.693 756289.155)        GEO\n",
      "2  CRD Electoral Area H  POINT (1328026.001 786638.651)        GEO\n",
      "3  CRD Electoral Area H  POINT (1350337.775 788196.424)        GEO\n",
      "4  CRD Electoral Area H  POINT (1349168.327 804502.068)        GEO\n",
      "EPSG:3005\n"
     ]
    }
   ],
   "source": [
    "com_prox_epgs = community_proximity.to_crs(epsg=3005)\n",
    "\n",
    "# Save processed dataset\n",
    "com_prox_epgs.to_file(\"../data_raw/community_prox/com_prox_epgs.gpkg\", driver=\"GPKG\")\n",
    "\n",
    "print(com_prox_epgs.head())\n",
    "print(com_prox_epgs.crs)"
   ]
  },
  {
   "cell_type": "markdown",
   "id": "72fe7dae",
   "metadata": {},
   "source": [
    "   - [Creating New Features](#creating-new-features)  \n"
   ]
  },
  {
   "cell_type": "markdown",
   "id": "1a14b05c",
   "metadata": {},
   "source": [
    "Distance to fire perimeter\n",
    "* risk = population / (1 + distance_km)"
   ]
  },
  {
   "cell_type": "markdown",
   "id": "76b8633f",
   "metadata": {},
   "source": [
    "---"
   ]
  },
  {
   "cell_type": "markdown",
   "id": "13a3777a",
   "metadata": {},
   "source": [
    "10. [References](#references)  \n"
   ]
  },
  {
   "cell_type": "markdown",
   "id": "aeb86fcc",
   "metadata": {},
   "source": [
    "https://catalogue.data.gov.bc.ca/dataset/regional-districts-legally-defined-administrative-areas-of-bc\n",
    "\n",
    "https://catalogue.data.gov.bc.ca/dataset/legally-defined-administrative-areas-of-bc-boundary-locations\n",
    "\n",
    "https://catalogue.data.gov.bc.ca/dataset/municipalities-legally-defined-administrative-areas-of-bc"
   ]
  }
 ],
 "metadata": {
  "kernelspec": {
   "display_name": "fire_env",
   "language": "python",
   "name": "python3"
  },
  "language_info": {
   "codemirror_mode": {
    "name": "ipython",
    "version": 3
   },
   "file_extension": ".py",
   "mimetype": "text/x-python",
   "name": "python",
   "nbconvert_exporter": "python",
   "pygments_lexer": "ipython3",
   "version": "3.11.13"
  }
 },
 "nbformat": 4,
 "nbformat_minor": 5
}
