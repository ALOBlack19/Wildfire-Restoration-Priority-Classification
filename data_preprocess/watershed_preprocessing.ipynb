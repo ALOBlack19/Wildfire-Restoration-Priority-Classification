{
 "cells": [
  {
   "cell_type": "markdown",
   "id": "4e140472",
   "metadata": {},
   "source": [
    "# Data Science Final Project \n"
   ]
  },
  {
   "cell_type": "markdown",
   "id": "e810a17c",
   "metadata": {},
   "source": [
    "**College/University Name**: _CICCC - Cornerstone International Community College of Canada_  \n",
    "**Course**: _Final Project_  \n",
    "**Instructor**: _Derrick Park_  \n",
    "**Student Name**: _Amir Lima Oliveira_  \n",
    "**Submission Date**: _2025-09-26_  \n",
    "\n",
    "---"
   ]
  },
  {
   "cell_type": "markdown",
   "id": "60372ac7",
   "metadata": {},
   "source": [
    "### Project Title\n",
    "    _Wildfire Restoration Priority Classification in Canada_\n",
    "---"
   ]
  },
  {
   "cell_type": "markdown",
   "id": "5286acd2",
   "metadata": {},
   "source": [
    "#### Objective\n",
    "    Find, structure and analyse the NASA's datasets with satelite data points about wildfires detection, connect this with satelite images and engineer areas parameters for the detection of which wildfire area needs priority restoration.\n",
    "### Problem Statement or Research Question\n",
    "    This project aims to help manage and direct resources with efficiency in the right areas based on the data-driven structure of the machine learning model to the most critical areas. \n",
    "---"
   ]
  },
  {
   "cell_type": "markdown",
   "id": "5bd07e86",
   "metadata": {},
   "source": [
    "#### Dataset Overview\n",
    "- **Source:** [Dataset URL or name]\n",
    "- **Description:** Short explanation of the dataset (e.g., features, size, context)\n",
    "- **Credits:** Cite source or dataset author if required\n",
    "\n",
    "---"
   ]
  },
  {
   "cell_type": "markdown",
   "id": "8a3cbe60",
   "metadata": {},
   "source": [
    "## Table of Contents\n"
   ]
  },
  {
   "cell_type": "markdown",
   "id": "6844255d",
   "metadata": {},
   "source": [
    "1. [Import Libraries](#import-libraries)  \n"
   ]
  },
  {
   "cell_type": "code",
   "execution_count": 2,
   "id": "4a8c062f",
   "metadata": {},
   "outputs": [],
   "source": [
    "import pandas as pd\n",
    "import numpy as np\n",
    "import matplotlib.pyplot as plt\n",
    "import geopandas as gpd\n",
    "import rasterio as rio\n",
    "import fiona\n",
    "from rasterio.plot import show\n",
    "import shapely.geometry as geom\n",
    "import seaborn as sns\n",
    "from sklearn.model_selection import train_test_split\n",
    "from sklearn.ensemble import RandomForestClassifier\n",
    "\n",
    "import urllib.request # to download the watershed gdb file"
   ]
  },
  {
   "cell_type": "markdown",
   "id": "9b726c08",
   "metadata": {},
   "source": [
    "---"
   ]
  },
  {
   "cell_type": "markdown",
   "id": "bafef8e5",
   "metadata": {},
   "source": [
    "2. [Load & Inspect Data](#load--inspect-data)  \n"
   ]
  },
  {
   "cell_type": "code",
   "execution_count": null,
   "id": "bfbe7449",
   "metadata": {},
   "outputs": [
    {
     "name": "stderr",
     "output_type": "stream",
     "text": [
      "Exception ignored in: <bound method IPythonKernel._clean_thread_parent_frames of <ipykernel.ipkernel.IPythonKernel object at 0x000001320A641C10>>\n",
      "Traceback (most recent call last):\n",
      "  File \"c:\\Users\\Dell\\anaconda3\\envs\\fire_env\\Lib\\site-packages\\ipykernel\\ipkernel.py\", line 796, in _clean_thread_parent_frames\n",
      "    active_threads = {thread.ident for thread in threading.enumerate()}\n",
      "                                                 ^^^^^^^^^^^^^^^^^^^^^\n",
      "  File \"c:\\Users\\Dell\\anaconda3\\envs\\fire_env\\Lib\\threading.py\", line 1501, in enumerate\n",
      "    def enumerate():\n",
      "    \n",
      "KeyboardInterrupt: \n"
     ]
    }
   ],
   "source": [
    "# Load KML into GeoDataFrame\n",
    "watershed = gpd.read_file('../data_raw/watershed/watersheds_bc.gpkg')"
   ]
  },
  {
   "cell_type": "markdown",
   "id": "d7e28b57",
   "metadata": {},
   "source": [
    "Needed to make that code below to convert the gdb file into gpkg in order to be possible to make the geographical data into geopandas"
   ]
  },
  {
   "cell_type": "code",
   "execution_count": 5,
   "id": "ea08fbdf",
   "metadata": {},
   "outputs": [],
   "source": [
    "# import geopandas as gpd\n",
    "# import os\n",
    "\n",
    "# def load_and_merge_watersheds(gdb_path, save_path=None):\n",
    "#     \"\"\"\n",
    "#     Load and merge all watershed layers from a GDB into a single GeoDataFrame.\n",
    "    \n",
    "#     Parameters:\n",
    "#         gdb_path (str): Path to the .gdb file.\n",
    "#         save_path (str, optional): Path to save the merged GeoDataFrame as GeoPackage.\n",
    "        \n",
    "#     Returns:\n",
    "#         gpd.GeoDataFrame: Merged watersheds\n",
    "#     \"\"\"\n",
    "#     # List all layers\n",
    "#     layers = fiona.listlayers(gdb_path)\n",
    "#     print(\"Layers found:\", layers)\n",
    "\n",
    "#     # Filter out backup and helper layers\n",
    "#     layers = [l for l in layers if not l.startswith(\"_\")]\n",
    "#     print(\"Using layers:\", layers)\n",
    "\n",
    "#     # Read and concatenate\n",
    "#     gdfs = []\n",
    "#     for layer in layers:\n",
    "#         print(f\"Reading {layer}...\")\n",
    "#         gdf = gpd.read_file(gdb_path, layer=layer)\n",
    "#         gdfs.append(gdf)\n",
    "\n",
    "# watersheds = gpd.pd.concat(gdfs, ignore_index=True)\n",
    "# print(f\"Merged {len(layers)} layers into {len(watersheds)} features.\")\n",
    "\n",
    "#     # Save if requested\n",
    "# if save_path:\n",
    "#     watersheds.to_file(save_path, driver=\"GPKG\")\n",
    "#     print(f\"Saved merged watersheds to {save_path}\")\n",
    "    \n",
    "# return watersheds\n",
    "\n",
    "\n",
    "# # Example usage:\n",
    "# gdb_file = r\"../data_raw/watershed/FWA_WATERSHEDS_POLY.gdb\"\n",
    "# save_file = r\"../data_raw/watershed/watersheds_bc.gpkg\"\n",
    "\n",
    "# watersheds_bc = load_and_merge_watersheds(gdb_file, save_file)\n",
    "# print(watersheds_bc.crs)\n"
   ]
  },
  {
   "cell_type": "code",
   "execution_count": 6,
   "id": "e51dfe5f",
   "metadata": {},
   "outputs": [
    {
     "name": "stdout",
     "output_type": "stream",
     "text": [
      "   WATERSHED_FEATURE_ID  WATERSHED_GROUP_ID WATERSHED_TYPE  GNIS_ID_1  \\\n",
      "0             7959831.0               170.0           None        NaN   \n",
      "1             8891591.0               170.0           None        NaN   \n",
      "2            10662283.0               170.0           None        NaN   \n",
      "3             7945915.0               170.0           None        NaN   \n",
      "4            10143024.0               170.0           None        NaN   \n",
      "\n",
      "  GNIS_NAME_1  GNIS_ID_2 GNIS_NAME_2  GNIS_ID_3 GNIS_NAME_3  WATERBODY_ID  \\\n",
      "0        None        NaN        None        NaN        None           NaN   \n",
      "1        None        NaN        None        NaN        None           NaN   \n",
      "2        None        NaN        None        NaN        None           NaN   \n",
      "3        None        NaN        None        NaN        None           NaN   \n",
      "4        None        NaN        None        NaN        None           NaN   \n",
      "\n",
      "   ...  ASPECT_NORTH  ASPECT_SOUTH ASPECT_WEST ASPECT_EAST ASPECT_FLAT  \\\n",
      "0  ...           NaN           NaN         NaN         NaN         NaN   \n",
      "1  ...           NaN           NaN         NaN         NaN         NaN   \n",
      "2  ...           NaN           NaN         NaN         NaN         NaN   \n",
      "3  ...           NaN           NaN         NaN         NaN         NaN   \n",
      "4  ...           NaN           NaN         NaN         NaN         NaN   \n",
      "\n",
      "  FEATURE_CODE  GEOMETRY_Length  GEOMETRY_Area  LWSC_ASSIGNED  \\\n",
      "0    WA2510000       145.096617    1130.302591           None   \n",
      "1    WA2510000      1323.175124   58621.829423           None   \n",
      "2    WA2510000      4314.174366  477784.403907           None   \n",
      "3    WA2510000       269.038337    3550.194303           None   \n",
      "4    WA2510000       465.349475   11866.603196           None   \n",
      "\n",
      "                                            geometry  \n",
      "0  MULTIPOLYGON (((695621.045 1010144.888, 695604...  \n",
      "1  MULTIPOLYGON (((694759.358 1012303.554, 694758...  \n",
      "2  MULTIPOLYGON (((698726.465 1008130.326, 698705...  \n",
      "3  MULTIPOLYGON (((706831.113 990786.749, 706823....  \n",
      "4  MULTIPOLYGON (((691835.013 1000057.645, 691854...  \n",
      "\n",
      "[5 rows x 38 columns]\n"
     ]
    }
   ],
   "source": [
    "print(watershed.head())\n"
   ]
  },
  {
   "cell_type": "markdown",
   "id": "4c838a59",
   "metadata": {},
   "source": [
    "   - [Shape](#shape)  "
   ]
  },
  {
   "cell_type": "code",
   "execution_count": 7,
   "id": "0859a5f6",
   "metadata": {},
   "outputs": [
    {
     "data": {
      "text/plain": [
       "(3243400, 38)"
      ]
     },
     "execution_count": 7,
     "metadata": {},
     "output_type": "execute_result"
    }
   ],
   "source": [
    "watershed.shape\n"
   ]
  },
  {
   "cell_type": "markdown",
   "id": "a1e2e867",
   "metadata": {},
   "source": [
    "   - [Missing Values](#missing-values)  \n"
   ]
  },
  {
   "cell_type": "code",
   "execution_count": 8,
   "id": "75a963e5",
   "metadata": {},
   "outputs": [
    {
     "data": {
      "text/plain": [
       "WATERSHED_FEATURE_ID               0\n",
       "WATERSHED_GROUP_ID                 0\n",
       "WATERSHED_TYPE               3243400\n",
       "GNIS_ID_1                    3243400\n",
       "GNIS_NAME_1                  3243400\n",
       "GNIS_ID_2                    3243400\n",
       "GNIS_NAME_2                  3243400\n",
       "GNIS_ID_3                    3243400\n",
       "GNIS_NAME_3                  3243400\n",
       "WATERBODY_ID                 3243400\n",
       "WATERBODY_KEY                      1\n",
       "WATERSHED_KEY                      0\n",
       "FWA_WATERSHED_CODE                 0\n",
       "LOCAL_WATERSHED_CODE               0\n",
       "WATERSHED_GROUP_CODE               0\n",
       "LEFT_RIGHT_TRIBUTARY         3243356\n",
       "WATERSHED_ORDER                    0\n",
       "WATERSHED_MAGNITUDE                0\n",
       "LOCAL_WATERSHED_ORDER              1\n",
       "LOCAL_WATERSHED_MAGNITUDE          1\n",
       "AREA_HA                            0\n",
       "RIVER_AREA                   3243400\n",
       "LAKE_AREA                    3243400\n",
       "WETLAND_AREA                 3243400\n",
       "MANMADE_AREA                 3243400\n",
       "GLACIER_AREA                 3243400\n",
       "AVERAGE_ELEVATION            3243400\n",
       "AVERAGE_SLOPE                3243400\n",
       "ASPECT_NORTH                 3243400\n",
       "ASPECT_SOUTH                 3243400\n",
       "ASPECT_WEST                  3243400\n",
       "ASPECT_EAST                  3243400\n",
       "ASPECT_FLAT                  3243400\n",
       "FEATURE_CODE                       0\n",
       "GEOMETRY_Length                    0\n",
       "GEOMETRY_Area                      0\n",
       "LWSC_ASSIGNED                3239149\n",
       "geometry                           0\n",
       "dtype: int64"
      ]
     },
     "execution_count": 8,
     "metadata": {},
     "output_type": "execute_result"
    }
   ],
   "source": [
    "watershed.isnull().sum()"
   ]
  },
  {
   "cell_type": "markdown",
   "id": "c5551de0",
   "metadata": {},
   "source": [
    "   - [Data Types](#data-types)  \n"
   ]
  },
  {
   "cell_type": "code",
   "execution_count": 9,
   "id": "9a4620f3",
   "metadata": {},
   "outputs": [
    {
     "data": {
      "text/html": [
       "<div>\n",
       "<style scoped>\n",
       "    .dataframe tbody tr th:only-of-type {\n",
       "        vertical-align: middle;\n",
       "    }\n",
       "\n",
       "    .dataframe tbody tr th {\n",
       "        vertical-align: top;\n",
       "    }\n",
       "\n",
       "    .dataframe thead th {\n",
       "        text-align: right;\n",
       "    }\n",
       "</style>\n",
       "<table border=\"1\" class=\"dataframe\">\n",
       "  <thead>\n",
       "    <tr style=\"text-align: right;\">\n",
       "      <th></th>\n",
       "      <th>WATERSHED_FEATURE_ID</th>\n",
       "      <th>WATERSHED_GROUP_ID</th>\n",
       "      <th>GNIS_ID_1</th>\n",
       "      <th>GNIS_ID_2</th>\n",
       "      <th>GNIS_ID_3</th>\n",
       "      <th>WATERBODY_ID</th>\n",
       "      <th>WATERBODY_KEY</th>\n",
       "      <th>WATERSHED_KEY</th>\n",
       "      <th>WATERSHED_ORDER</th>\n",
       "      <th>WATERSHED_MAGNITUDE</th>\n",
       "      <th>...</th>\n",
       "      <th>GLACIER_AREA</th>\n",
       "      <th>AVERAGE_ELEVATION</th>\n",
       "      <th>AVERAGE_SLOPE</th>\n",
       "      <th>ASPECT_NORTH</th>\n",
       "      <th>ASPECT_SOUTH</th>\n",
       "      <th>ASPECT_WEST</th>\n",
       "      <th>ASPECT_EAST</th>\n",
       "      <th>ASPECT_FLAT</th>\n",
       "      <th>GEOMETRY_Length</th>\n",
       "      <th>GEOMETRY_Area</th>\n",
       "    </tr>\n",
       "  </thead>\n",
       "  <tbody>\n",
       "    <tr>\n",
       "      <th>count</th>\n",
       "      <td>3.243400e+06</td>\n",
       "      <td>3.243400e+06</td>\n",
       "      <td>0.0</td>\n",
       "      <td>0.0</td>\n",
       "      <td>0.0</td>\n",
       "      <td>0.0</td>\n",
       "      <td>3.243399e+06</td>\n",
       "      <td>3.243400e+06</td>\n",
       "      <td>3.243400e+06</td>\n",
       "      <td>3.243400e+06</td>\n",
       "      <td>...</td>\n",
       "      <td>0.0</td>\n",
       "      <td>0.0</td>\n",
       "      <td>0.0</td>\n",
       "      <td>0.0</td>\n",
       "      <td>0.0</td>\n",
       "      <td>0.0</td>\n",
       "      <td>0.0</td>\n",
       "      <td>0.0</td>\n",
       "      <td>3.243400e+06</td>\n",
       "      <td>3.243400e+06</td>\n",
       "    </tr>\n",
       "    <tr>\n",
       "      <th>mean</th>\n",
       "      <td>9.136079e+06</td>\n",
       "      <td>1.268362e+02</td>\n",
       "      <td>NaN</td>\n",
       "      <td>NaN</td>\n",
       "      <td>NaN</td>\n",
       "      <td>NaN</td>\n",
       "      <td>2.135486e+07</td>\n",
       "      <td>3.591158e+08</td>\n",
       "      <td>2.448360e+00</td>\n",
       "      <td>1.406644e+03</td>\n",
       "      <td>...</td>\n",
       "      <td>NaN</td>\n",
       "      <td>NaN</td>\n",
       "      <td>NaN</td>\n",
       "      <td>NaN</td>\n",
       "      <td>NaN</td>\n",
       "      <td>NaN</td>\n",
       "      <td>NaN</td>\n",
       "      <td>NaN</td>\n",
       "      <td>2.281145e+03</td>\n",
       "      <td>2.923077e+05</td>\n",
       "    </tr>\n",
       "    <tr>\n",
       "      <th>std</th>\n",
       "      <td>9.364109e+05</td>\n",
       "      <td>6.944889e+01</td>\n",
       "      <td>NaN</td>\n",
       "      <td>NaN</td>\n",
       "      <td>NaN</td>\n",
       "      <td>NaN</td>\n",
       "      <td>8.110723e+07</td>\n",
       "      <td>3.740147e+06</td>\n",
       "      <td>1.687149e+00</td>\n",
       "      <td>1.576180e+04</td>\n",
       "      <td>...</td>\n",
       "      <td>NaN</td>\n",
       "      <td>NaN</td>\n",
       "      <td>NaN</td>\n",
       "      <td>NaN</td>\n",
       "      <td>NaN</td>\n",
       "      <td>NaN</td>\n",
       "      <td>NaN</td>\n",
       "      <td>NaN</td>\n",
       "      <td>2.172088e+03</td>\n",
       "      <td>1.088910e+06</td>\n",
       "    </tr>\n",
       "    <tr>\n",
       "      <th>min</th>\n",
       "      <td>7.513908e+06</td>\n",
       "      <td>1.000000e+00</td>\n",
       "      <td>NaN</td>\n",
       "      <td>NaN</td>\n",
       "      <td>NaN</td>\n",
       "      <td>NaN</td>\n",
       "      <td>0.000000e+00</td>\n",
       "      <td>-1.000000e+00</td>\n",
       "      <td>0.000000e+00</td>\n",
       "      <td>0.000000e+00</td>\n",
       "      <td>...</td>\n",
       "      <td>NaN</td>\n",
       "      <td>NaN</td>\n",
       "      <td>NaN</td>\n",
       "      <td>NaN</td>\n",
       "      <td>NaN</td>\n",
       "      <td>NaN</td>\n",
       "      <td>NaN</td>\n",
       "      <td>NaN</td>\n",
       "      <td>6.553548e-02</td>\n",
       "      <td>1.550000e-04</td>\n",
       "    </tr>\n",
       "    <tr>\n",
       "      <th>25%</th>\n",
       "      <td>8.325166e+06</td>\n",
       "      <td>6.900000e+01</td>\n",
       "      <td>NaN</td>\n",
       "      <td>NaN</td>\n",
       "      <td>NaN</td>\n",
       "      <td>NaN</td>\n",
       "      <td>0.000000e+00</td>\n",
       "      <td>3.564233e+08</td>\n",
       "      <td>1.000000e+00</td>\n",
       "      <td>1.000000e+00</td>\n",
       "      <td>...</td>\n",
       "      <td>NaN</td>\n",
       "      <td>NaN</td>\n",
       "      <td>NaN</td>\n",
       "      <td>NaN</td>\n",
       "      <td>NaN</td>\n",
       "      <td>NaN</td>\n",
       "      <td>NaN</td>\n",
       "      <td>NaN</td>\n",
       "      <td>1.007841e+03</td>\n",
       "      <td>4.030912e+04</td>\n",
       "    </tr>\n",
       "    <tr>\n",
       "      <th>50%</th>\n",
       "      <td>9.136086e+06</td>\n",
       "      <td>1.290000e+02</td>\n",
       "      <td>NaN</td>\n",
       "      <td>NaN</td>\n",
       "      <td>NaN</td>\n",
       "      <td>NaN</td>\n",
       "      <td>0.000000e+00</td>\n",
       "      <td>3.594979e+08</td>\n",
       "      <td>2.000000e+00</td>\n",
       "      <td>3.000000e+00</td>\n",
       "      <td>...</td>\n",
       "      <td>NaN</td>\n",
       "      <td>NaN</td>\n",
       "      <td>NaN</td>\n",
       "      <td>NaN</td>\n",
       "      <td>NaN</td>\n",
       "      <td>NaN</td>\n",
       "      <td>NaN</td>\n",
       "      <td>NaN</td>\n",
       "      <td>1.842984e+03</td>\n",
       "      <td>1.273336e+05</td>\n",
       "    </tr>\n",
       "    <tr>\n",
       "      <th>75%</th>\n",
       "      <td>9.947026e+06</td>\n",
       "      <td>1.870000e+02</td>\n",
       "      <td>NaN</td>\n",
       "      <td>NaN</td>\n",
       "      <td>NaN</td>\n",
       "      <td>NaN</td>\n",
       "      <td>0.000000e+00</td>\n",
       "      <td>3.606425e+08</td>\n",
       "      <td>3.000000e+00</td>\n",
       "      <td>2.200000e+01</td>\n",
       "      <td>...</td>\n",
       "      <td>NaN</td>\n",
       "      <td>NaN</td>\n",
       "      <td>NaN</td>\n",
       "      <td>NaN</td>\n",
       "      <td>NaN</td>\n",
       "      <td>NaN</td>\n",
       "      <td>NaN</td>\n",
       "      <td>NaN</td>\n",
       "      <td>2.973524e+03</td>\n",
       "      <td>3.122884e+05</td>\n",
       "    </tr>\n",
       "    <tr>\n",
       "      <th>max</th>\n",
       "      <td>1.075798e+07</td>\n",
       "      <td>2.460000e+02</td>\n",
       "      <td>NaN</td>\n",
       "      <td>NaN</td>\n",
       "      <td>NaN</td>\n",
       "      <td>NaN</td>\n",
       "      <td>7.080215e+08</td>\n",
       "      <td>3.809618e+08</td>\n",
       "      <td>1.000000e+01</td>\n",
       "      <td>2.968850e+05</td>\n",
       "      <td>...</td>\n",
       "      <td>NaN</td>\n",
       "      <td>NaN</td>\n",
       "      <td>NaN</td>\n",
       "      <td>NaN</td>\n",
       "      <td>NaN</td>\n",
       "      <td>NaN</td>\n",
       "      <td>NaN</td>\n",
       "      <td>NaN</td>\n",
       "      <td>5.527568e+05</td>\n",
       "      <td>8.110005e+08</td>\n",
       "    </tr>\n",
       "  </tbody>\n",
       "</table>\n",
       "<p>8 rows × 27 columns</p>\n",
       "</div>"
      ],
      "text/plain": [
       "       WATERSHED_FEATURE_ID  WATERSHED_GROUP_ID  GNIS_ID_1  GNIS_ID_2  \\\n",
       "count          3.243400e+06        3.243400e+06        0.0        0.0   \n",
       "mean           9.136079e+06        1.268362e+02        NaN        NaN   \n",
       "std            9.364109e+05        6.944889e+01        NaN        NaN   \n",
       "min            7.513908e+06        1.000000e+00        NaN        NaN   \n",
       "25%            8.325166e+06        6.900000e+01        NaN        NaN   \n",
       "50%            9.136086e+06        1.290000e+02        NaN        NaN   \n",
       "75%            9.947026e+06        1.870000e+02        NaN        NaN   \n",
       "max            1.075798e+07        2.460000e+02        NaN        NaN   \n",
       "\n",
       "       GNIS_ID_3  WATERBODY_ID  WATERBODY_KEY  WATERSHED_KEY  WATERSHED_ORDER  \\\n",
       "count        0.0           0.0   3.243399e+06   3.243400e+06     3.243400e+06   \n",
       "mean         NaN           NaN   2.135486e+07   3.591158e+08     2.448360e+00   \n",
       "std          NaN           NaN   8.110723e+07   3.740147e+06     1.687149e+00   \n",
       "min          NaN           NaN   0.000000e+00  -1.000000e+00     0.000000e+00   \n",
       "25%          NaN           NaN   0.000000e+00   3.564233e+08     1.000000e+00   \n",
       "50%          NaN           NaN   0.000000e+00   3.594979e+08     2.000000e+00   \n",
       "75%          NaN           NaN   0.000000e+00   3.606425e+08     3.000000e+00   \n",
       "max          NaN           NaN   7.080215e+08   3.809618e+08     1.000000e+01   \n",
       "\n",
       "       WATERSHED_MAGNITUDE  ...  GLACIER_AREA  AVERAGE_ELEVATION  \\\n",
       "count         3.243400e+06  ...           0.0                0.0   \n",
       "mean          1.406644e+03  ...           NaN                NaN   \n",
       "std           1.576180e+04  ...           NaN                NaN   \n",
       "min           0.000000e+00  ...           NaN                NaN   \n",
       "25%           1.000000e+00  ...           NaN                NaN   \n",
       "50%           3.000000e+00  ...           NaN                NaN   \n",
       "75%           2.200000e+01  ...           NaN                NaN   \n",
       "max           2.968850e+05  ...           NaN                NaN   \n",
       "\n",
       "       AVERAGE_SLOPE  ASPECT_NORTH  ASPECT_SOUTH  ASPECT_WEST  ASPECT_EAST  \\\n",
       "count            0.0           0.0           0.0          0.0          0.0   \n",
       "mean             NaN           NaN           NaN          NaN          NaN   \n",
       "std              NaN           NaN           NaN          NaN          NaN   \n",
       "min              NaN           NaN           NaN          NaN          NaN   \n",
       "25%              NaN           NaN           NaN          NaN          NaN   \n",
       "50%              NaN           NaN           NaN          NaN          NaN   \n",
       "75%              NaN           NaN           NaN          NaN          NaN   \n",
       "max              NaN           NaN           NaN          NaN          NaN   \n",
       "\n",
       "       ASPECT_FLAT  GEOMETRY_Length  GEOMETRY_Area  \n",
       "count          0.0     3.243400e+06   3.243400e+06  \n",
       "mean           NaN     2.281145e+03   2.923077e+05  \n",
       "std            NaN     2.172088e+03   1.088910e+06  \n",
       "min            NaN     6.553548e-02   1.550000e-04  \n",
       "25%            NaN     1.007841e+03   4.030912e+04  \n",
       "50%            NaN     1.842984e+03   1.273336e+05  \n",
       "75%            NaN     2.973524e+03   3.122884e+05  \n",
       "max            NaN     5.527568e+05   8.110005e+08  \n",
       "\n",
       "[8 rows x 27 columns]"
      ]
     },
     "execution_count": 9,
     "metadata": {},
     "output_type": "execute_result"
    }
   ],
   "source": [
    "watershed.describe()"
   ]
  },
  {
   "cell_type": "code",
   "execution_count": 10,
   "id": "8f69352a",
   "metadata": {},
   "outputs": [],
   "source": [
    "important_cols = [\n",
    "    \"WATERSHED_FEATURE_ID\",\n",
    "    \"FWA_WATERSHED_CODE\",\n",
    "    \"WATERSHED_ORDER\",\n",
    "    \"AREA_HA\",\n",
    "    \"WATERSHED_GROUP_CODE\",\n",
    "    \"geometry\"\n",
    "]\n",
    "\n",
    "watersheds_clean = watershed[important_cols].copy()"
   ]
  },
  {
   "cell_type": "code",
   "execution_count": 11,
   "id": "e7351bab",
   "metadata": {},
   "outputs": [
    {
     "name": "stdout",
     "output_type": "stream",
     "text": [
      "<class 'geopandas.geodataframe.GeoDataFrame'>\n",
      "RangeIndex: 3243400 entries, 0 to 3243399\n",
      "Data columns (total 6 columns):\n",
      " #   Column                Dtype   \n",
      "---  ------                -----   \n",
      " 0   WATERSHED_FEATURE_ID  float64 \n",
      " 1   FWA_WATERSHED_CODE    object  \n",
      " 2   WATERSHED_ORDER       int32   \n",
      " 3   AREA_HA               float64 \n",
      " 4   WATERSHED_GROUP_CODE  object  \n",
      " 5   geometry              geometry\n",
      "dtypes: float64(2), geometry(1), int32(1), object(2)\n",
      "memory usage: 136.1+ MB\n"
     ]
    }
   ],
   "source": [
    "watersheds_clean.info()"
   ]
  },
  {
   "cell_type": "code",
   "execution_count": 12,
   "id": "3db6b6d2",
   "metadata": {},
   "outputs": [
    {
     "data": {
      "text/html": [
       "<div>\n",
       "<style scoped>\n",
       "    .dataframe tbody tr th:only-of-type {\n",
       "        vertical-align: middle;\n",
       "    }\n",
       "\n",
       "    .dataframe tbody tr th {\n",
       "        vertical-align: top;\n",
       "    }\n",
       "\n",
       "    .dataframe thead th {\n",
       "        text-align: right;\n",
       "    }\n",
       "</style>\n",
       "<table border=\"1\" class=\"dataframe\">\n",
       "  <thead>\n",
       "    <tr style=\"text-align: right;\">\n",
       "      <th></th>\n",
       "      <th>WATERSHED_FEATURE_ID</th>\n",
       "      <th>FWA_WATERSHED_CODE</th>\n",
       "      <th>WATERSHED_ORDER</th>\n",
       "      <th>AREA_HA</th>\n",
       "      <th>WATERSHED_GROUP_CODE</th>\n",
       "      <th>geometry</th>\n",
       "    </tr>\n",
       "  </thead>\n",
       "  <tbody>\n",
       "    <tr>\n",
       "      <th>0</th>\n",
       "      <td>7959831.0</td>\n",
       "      <td>915-740516-000000-000000-000000-000000-000000-...</td>\n",
       "      <td>0</td>\n",
       "      <td>0.113030</td>\n",
       "      <td>PORI</td>\n",
       "      <td>MULTIPOLYGON (((695621.045 1010144.888, 695604...</td>\n",
       "    </tr>\n",
       "    <tr>\n",
       "      <th>1</th>\n",
       "      <td>8891591.0</td>\n",
       "      <td>915-740604-000000-000000-000000-000000-000000-...</td>\n",
       "      <td>0</td>\n",
       "      <td>5.862183</td>\n",
       "      <td>PORI</td>\n",
       "      <td>MULTIPOLYGON (((694759.358 1012303.554, 694758...</td>\n",
       "    </tr>\n",
       "    <tr>\n",
       "      <th>2</th>\n",
       "      <td>10662283.0</td>\n",
       "      <td>915-724877-642115-000000-000000-000000-000000-...</td>\n",
       "      <td>1</td>\n",
       "      <td>47.778471</td>\n",
       "      <td>PORI</td>\n",
       "      <td>MULTIPOLYGON (((698726.465 1008130.326, 698705...</td>\n",
       "    </tr>\n",
       "    <tr>\n",
       "      <th>3</th>\n",
       "      <td>7945915.0</td>\n",
       "      <td>915-726325-000000-000000-000000-000000-000000-...</td>\n",
       "      <td>0</td>\n",
       "      <td>0.355021</td>\n",
       "      <td>PORI</td>\n",
       "      <td>MULTIPOLYGON (((706831.113 990786.749, 706823....</td>\n",
       "    </tr>\n",
       "    <tr>\n",
       "      <th>4</th>\n",
       "      <td>10143024.0</td>\n",
       "      <td>915-724877-437883-000000-000000-000000-000000-...</td>\n",
       "      <td>3</td>\n",
       "      <td>1.186657</td>\n",
       "      <td>PORI</td>\n",
       "      <td>MULTIPOLYGON (((691835.013 1000057.645, 691854...</td>\n",
       "    </tr>\n",
       "  </tbody>\n",
       "</table>\n",
       "</div>"
      ],
      "text/plain": [
       "   WATERSHED_FEATURE_ID                                 FWA_WATERSHED_CODE  \\\n",
       "0             7959831.0  915-740516-000000-000000-000000-000000-000000-...   \n",
       "1             8891591.0  915-740604-000000-000000-000000-000000-000000-...   \n",
       "2            10662283.0  915-724877-642115-000000-000000-000000-000000-...   \n",
       "3             7945915.0  915-726325-000000-000000-000000-000000-000000-...   \n",
       "4            10143024.0  915-724877-437883-000000-000000-000000-000000-...   \n",
       "\n",
       "   WATERSHED_ORDER    AREA_HA WATERSHED_GROUP_CODE  \\\n",
       "0                0   0.113030                 PORI   \n",
       "1                0   5.862183                 PORI   \n",
       "2                1  47.778471                 PORI   \n",
       "3                0   0.355021                 PORI   \n",
       "4                3   1.186657                 PORI   \n",
       "\n",
       "                                            geometry  \n",
       "0  MULTIPOLYGON (((695621.045 1010144.888, 695604...  \n",
       "1  MULTIPOLYGON (((694759.358 1012303.554, 694758...  \n",
       "2  MULTIPOLYGON (((698726.465 1008130.326, 698705...  \n",
       "3  MULTIPOLYGON (((706831.113 990786.749, 706823....  \n",
       "4  MULTIPOLYGON (((691835.013 1000057.645, 691854...  "
      ]
     },
     "execution_count": 12,
     "metadata": {},
     "output_type": "execute_result"
    }
   ],
   "source": [
    "watersheds_clean.head()"
   ]
  },
  {
   "cell_type": "code",
   "execution_count": 13,
   "id": "a5b3bb0f",
   "metadata": {},
   "outputs": [
    {
     "data": {
      "text/plain": [
       "(3243400, 6)"
      ]
     },
     "execution_count": 13,
     "metadata": {},
     "output_type": "execute_result"
    }
   ],
   "source": [
    "watersheds_clean.shape"
   ]
  },
  {
   "cell_type": "code",
   "execution_count": 14,
   "id": "da82466b",
   "metadata": {},
   "outputs": [],
   "source": [
    "# watersheds_clean.to_file('../data_raw/watershed/watersheds_clean.gpkg', driver=\"GPKG\")"
   ]
  },
  {
   "cell_type": "code",
   "execution_count": 3,
   "id": "4bdff7f6",
   "metadata": {},
   "outputs": [],
   "source": [
    "watershed = gpd.read_file('../data_raw/watershed/watersheds_clean.gpkg')"
   ]
  },
  {
   "cell_type": "code",
   "execution_count": 4,
   "id": "59659142",
   "metadata": {},
   "outputs": [
    {
     "data": {
      "text/plain": [
       "WATERSHED_FEATURE_ID    0\n",
       "FWA_WATERSHED_CODE      0\n",
       "WATERSHED_ORDER         0\n",
       "AREA_HA                 0\n",
       "WATERSHED_GROUP_CODE    0\n",
       "geometry                0\n",
       "dtype: int64"
      ]
     },
     "execution_count": 4,
     "metadata": {},
     "output_type": "execute_result"
    }
   ],
   "source": [
    "watershed.isnull().sum()"
   ]
  },
  {
   "cell_type": "code",
   "execution_count": 5,
   "id": "14e1f13a",
   "metadata": {},
   "outputs": [
    {
     "data": {
      "text/plain": [
       "0"
      ]
     },
     "execution_count": 5,
     "metadata": {},
     "output_type": "execute_result"
    }
   ],
   "source": [
    "watershed.duplicated().sum()"
   ]
  },
  {
   "cell_type": "code",
   "execution_count": 6,
   "id": "c85f375c",
   "metadata": {},
   "outputs": [],
   "source": [
    "watersheds_EPSG = watershed.to_crs(3005)"
   ]
  },
  {
   "cell_type": "code",
   "execution_count": 8,
   "id": "16289a66",
   "metadata": {},
   "outputs": [],
   "source": [
    "watersheds_EPSG.to_file('../data_raw/watershed/watersheds_EPSG.gpkg', driver=\"GPKG\")"
   ]
  },
  {
   "cell_type": "code",
   "execution_count": 7,
   "id": "0b4528be",
   "metadata": {},
   "outputs": [
    {
     "data": {
      "text/html": [
       "<div>\n",
       "<style scoped>\n",
       "    .dataframe tbody tr th:only-of-type {\n",
       "        vertical-align: middle;\n",
       "    }\n",
       "\n",
       "    .dataframe tbody tr th {\n",
       "        vertical-align: top;\n",
       "    }\n",
       "\n",
       "    .dataframe thead th {\n",
       "        text-align: right;\n",
       "    }\n",
       "</style>\n",
       "<table border=\"1\" class=\"dataframe\">\n",
       "  <thead>\n",
       "    <tr style=\"text-align: right;\">\n",
       "      <th></th>\n",
       "      <th>WATERSHED_FEATURE_ID</th>\n",
       "      <th>FWA_WATERSHED_CODE</th>\n",
       "      <th>WATERSHED_ORDER</th>\n",
       "      <th>AREA_HA</th>\n",
       "      <th>WATERSHED_GROUP_CODE</th>\n",
       "      <th>geometry</th>\n",
       "    </tr>\n",
       "  </thead>\n",
       "  <tbody>\n",
       "    <tr>\n",
       "      <th>0</th>\n",
       "      <td>7959831.0</td>\n",
       "      <td>915-740516-000000-000000-000000-000000-000000-...</td>\n",
       "      <td>0</td>\n",
       "      <td>0.113030</td>\n",
       "      <td>PORI</td>\n",
       "      <td>MULTIPOLYGON (((695621.045 1010144.888, 695604...</td>\n",
       "    </tr>\n",
       "    <tr>\n",
       "      <th>1</th>\n",
       "      <td>8891591.0</td>\n",
       "      <td>915-740604-000000-000000-000000-000000-000000-...</td>\n",
       "      <td>0</td>\n",
       "      <td>5.862183</td>\n",
       "      <td>PORI</td>\n",
       "      <td>MULTIPOLYGON (((694759.358 1012303.554, 694758...</td>\n",
       "    </tr>\n",
       "    <tr>\n",
       "      <th>2</th>\n",
       "      <td>10662283.0</td>\n",
       "      <td>915-724877-642115-000000-000000-000000-000000-...</td>\n",
       "      <td>1</td>\n",
       "      <td>47.778471</td>\n",
       "      <td>PORI</td>\n",
       "      <td>MULTIPOLYGON (((698726.465 1008130.326, 698705...</td>\n",
       "    </tr>\n",
       "    <tr>\n",
       "      <th>3</th>\n",
       "      <td>7945915.0</td>\n",
       "      <td>915-726325-000000-000000-000000-000000-000000-...</td>\n",
       "      <td>0</td>\n",
       "      <td>0.355021</td>\n",
       "      <td>PORI</td>\n",
       "      <td>MULTIPOLYGON (((706831.113 990786.749, 706823....</td>\n",
       "    </tr>\n",
       "    <tr>\n",
       "      <th>4</th>\n",
       "      <td>10143024.0</td>\n",
       "      <td>915-724877-437883-000000-000000-000000-000000-...</td>\n",
       "      <td>3</td>\n",
       "      <td>1.186657</td>\n",
       "      <td>PORI</td>\n",
       "      <td>MULTIPOLYGON (((691835.013 1000057.645, 691854...</td>\n",
       "    </tr>\n",
       "  </tbody>\n",
       "</table>\n",
       "</div>"
      ],
      "text/plain": [
       "   WATERSHED_FEATURE_ID                                 FWA_WATERSHED_CODE  \\\n",
       "0             7959831.0  915-740516-000000-000000-000000-000000-000000-...   \n",
       "1             8891591.0  915-740604-000000-000000-000000-000000-000000-...   \n",
       "2            10662283.0  915-724877-642115-000000-000000-000000-000000-...   \n",
       "3             7945915.0  915-726325-000000-000000-000000-000000-000000-...   \n",
       "4            10143024.0  915-724877-437883-000000-000000-000000-000000-...   \n",
       "\n",
       "   WATERSHED_ORDER    AREA_HA WATERSHED_GROUP_CODE  \\\n",
       "0                0   0.113030                 PORI   \n",
       "1                0   5.862183                 PORI   \n",
       "2                1  47.778471                 PORI   \n",
       "3                0   0.355021                 PORI   \n",
       "4                3   1.186657                 PORI   \n",
       "\n",
       "                                            geometry  \n",
       "0  MULTIPOLYGON (((695621.045 1010144.888, 695604...  \n",
       "1  MULTIPOLYGON (((694759.358 1012303.554, 694758...  \n",
       "2  MULTIPOLYGON (((698726.465 1008130.326, 698705...  \n",
       "3  MULTIPOLYGON (((706831.113 990786.749, 706823....  \n",
       "4  MULTIPOLYGON (((691835.013 1000057.645, 691854...  "
      ]
     },
     "execution_count": 7,
     "metadata": {},
     "output_type": "execute_result"
    }
   ],
   "source": [
    "watersheds_EPSG.head()"
   ]
  },
  {
   "cell_type": "markdown",
   "id": "0343c8ce",
   "metadata": {},
   "source": [
    "   - [Preview Data](#preview-data)\n"
   ]
  },
  {
   "cell_type": "markdown",
   "id": "316af8c9",
   "metadata": {},
   "source": [
    "---"
   ]
  },
  {
   "cell_type": "markdown",
   "id": "8cc66715",
   "metadata": {
    "vscode": {
     "languageId": "plaintext"
    }
   },
   "source": [
    "3. [Data Cleaning](#data-cleaning)  "
   ]
  },
  {
   "cell_type": "markdown",
   "id": "a9e20089",
   "metadata": {},
   "source": [
    "   - [Drop Duplicates](#drop-duplicates)  "
   ]
  },
  {
   "cell_type": "markdown",
   "id": "7f4bc36c",
   "metadata": {},
   "source": [
    "   - [Standardize Text and Formats](#standardize-text-and-formats)  "
   ]
  },
  {
   "cell_type": "markdown",
   "id": "fa77adb6",
   "metadata": {},
   "source": [
    "- [Convert Data Types](#convert-data-types)  \n",
    "   "
   ]
  },
  {
   "cell_type": "markdown",
   "id": "fee4eee8",
   "metadata": {},
   "source": [
    "- [Filter Irrelevant Records](#filter-irrelevant-records)  "
   ]
  },
  {
   "cell_type": "markdown",
   "id": "cec3c211",
   "metadata": {},
   "source": [
    "   - [Handle Inconsistent Values](#handle-inconsistent-values)  "
   ]
  },
  {
   "cell_type": "markdown",
   "id": "9d1e67bf",
   "metadata": {},
   "source": [
    "---"
   ]
  },
  {
   "cell_type": "markdown",
   "id": "ea2379d4",
   "metadata": {
    "vscode": {
     "languageId": "plaintext"
    }
   },
   "source": [
    "4. [Exploratory Data Analysis (EDA)](#exploratory-data-analysis-eda)  \n"
   ]
  },
  {
   "cell_type": "markdown",
   "id": "26b71377",
   "metadata": {},
   "source": [
    "- [Univariate Analysis](#univariate-analysis)  "
   ]
  },
  {
   "cell_type": "markdown",
   "id": "cf405840",
   "metadata": {},
   "source": [
    "- [Bivariate & Multivariate Analysis](#bivariate--multivariate-analysis)  "
   ]
  },
  {
   "cell_type": "markdown",
   "id": "986dace5",
   "metadata": {},
   "source": [
    "- [Distribution of Variables](#distribution-of-variables)  \n"
   ]
  },
  {
   "cell_type": "markdown",
   "id": "18dac8cb",
   "metadata": {},
   "source": [
    "- [Correlation Analysis](#correlation-analysis)  "
   ]
  },
  {
   "cell_type": "markdown",
   "id": "66c48623",
   "metadata": {},
   "source": [
    "- [Outlier Detection](#outlier-detection)  \n",
    "   "
   ]
  },
  {
   "cell_type": "markdown",
   "id": "bb10bd3f",
   "metadata": {},
   "source": [
    "- [Initial Insights](#initial-insights)  "
   ]
  },
  {
   "cell_type": "markdown",
   "id": "0861ab98",
   "metadata": {},
   "source": [
    "\n",
    "---"
   ]
  },
  {
   "cell_type": "markdown",
   "id": "0e007770",
   "metadata": {},
   "source": [
    "5. [Feature Engineering](#feature-engineering)\n"
   ]
  },
  {
   "cell_type": "markdown",
   "id": "567a1256",
   "metadata": {},
   "source": [
    "- [Feature Selection](#feature-selection)  "
   ]
  },
  {
   "cell_type": "markdown",
   "id": "7079a7e6",
   "metadata": {},
   "source": [
    "  \n",
    "   - [Handling Missing Data](#handling-missing-data)  "
   ]
  },
  {
   "cell_type": "markdown",
   "id": "ac08d291",
   "metadata": {},
   "source": [
    "- [Encoding Categorical Variables](#encoding-categorical-variables)  "
   ]
  },
  {
   "cell_type": "markdown",
   "id": "72fe7dae",
   "metadata": {},
   "source": [
    "   - [Creating New Features](#creating-new-features)  \n"
   ]
  },
  {
   "cell_type": "markdown",
   "id": "6ed832c3",
   "metadata": {},
   "source": [
    "- [Feature Transformation (Scaling, Normalization)](#feature-transformation-scaling-normalization)  "
   ]
  },
  {
   "cell_type": "markdown",
   "id": "76b8633f",
   "metadata": {},
   "source": [
    "---"
   ]
  }
 ],
 "metadata": {
  "kernelspec": {
   "display_name": "fire_env",
   "language": "python",
   "name": "python3"
  },
  "language_info": {
   "codemirror_mode": {
    "name": "ipython",
    "version": 3
   },
   "file_extension": ".py",
   "mimetype": "text/x-python",
   "name": "python",
   "nbconvert_exporter": "python",
   "pygments_lexer": "ipython3",
   "version": "3.11.13"
  }
 },
 "nbformat": 4,
 "nbformat_minor": 5
}
