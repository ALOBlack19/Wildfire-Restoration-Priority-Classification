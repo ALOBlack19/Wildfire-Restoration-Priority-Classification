{
 "cells": [
  {
   "cell_type": "markdown",
   "id": "4e140472",
   "metadata": {},
   "source": [
    "# Data Science Final Project \n"
   ]
  },
  {
   "cell_type": "markdown",
   "id": "e810a17c",
   "metadata": {},
   "source": [
    "**College/University Name**: _CICCC - Cornerstone International Community College of Canada_  \n",
    "**Course**: _Final Project_  \n",
    "**Instructor**: _Derrick Park_  \n",
    "**Student Name**: _Amir Lima Oliveira_  \n",
    "**Submission Date**: _2025-09-26_  \n",
    "\n",
    "---"
   ]
  },
  {
   "cell_type": "markdown",
   "id": "60372ac7",
   "metadata": {},
   "source": [
    "### Project Title\n",
    "    _Wildfire Restoration Priority Classification in Canada_\n",
    "---"
   ]
  },
  {
   "cell_type": "markdown",
   "id": "5286acd2",
   "metadata": {},
   "source": [
    "#### Objective\n",
    "    Find, structure and analyse the NASA's datasets with satelite data points about wildfires detection, connect this with satelite images and engineer areas parameters for the detection of which wildfire area needs priority restoration.\n",
    "### Problem Statement or Research Question\n",
    "    This project aims to help manage and direct resources with efficiency in the right areas based on the data-driven structure of the machine learning model to the most critical areas. \n",
    "---"
   ]
  },
  {
   "cell_type": "markdown",
   "id": "5bd07e86",
   "metadata": {},
   "source": [
    "#### Dataset Overview\n",
    "- **Source:** [Dataset URL or name]\n",
    "- **Description:** Short explanation of the dataset (e.g., features, size, context)\n",
    "- **Credits:** Cite source or dataset author if required\n",
    "\n",
    "---"
   ]
  },
  {
   "cell_type": "markdown",
   "id": "8a3cbe60",
   "metadata": {},
   "source": [
    "## Table of Contents\n"
   ]
  },
  {
   "cell_type": "markdown",
   "id": "6844255d",
   "metadata": {},
   "source": [
    "1. [Import Libraries](#import-libraries)  \n"
   ]
  },
  {
   "cell_type": "code",
   "execution_count": 4,
   "id": "4a8c062f",
   "metadata": {},
   "outputs": [],
   "source": [
    "import pandas as pd\n",
    "import numpy as np\n",
    "import matplotlib.pyplot as plt\n",
    "import geopandas as gpd\n",
    "import rasterio as rio\n",
    "import fiona\n",
    "from rasterio.plot import show\n",
    "import shapely.geometry as geom\n",
    "import seaborn as sns\n",
    "from sklearn.model_selection import train_test_split\n",
    "from sklearn.ensemble import RandomForestClassifier\n",
    "\n",
    "import urllib.request # to download the watershed gdb file"
   ]
  },
  {
   "cell_type": "markdown",
   "id": "9b726c08",
   "metadata": {},
   "source": [
    "---"
   ]
  },
  {
   "cell_type": "markdown",
   "id": "bafef8e5",
   "metadata": {},
   "source": [
    "2. [Load & Inspect Data](#load--inspect-data)  \n"
   ]
  },
  {
   "cell_type": "code",
   "execution_count": 5,
   "id": "bfbe7449",
   "metadata": {},
   "outputs": [],
   "source": [
    "elevation = rio.open('../data_raw/elevation/mrdem-30-source.vrt')\n"
   ]
  },
  {
   "cell_type": "code",
   "execution_count": 14,
   "id": "977b35c4",
   "metadata": {},
   "outputs": [
    {
     "name": "stdout",
     "output_type": "stream",
     "text": [
      "CRS: EPSG:3979\n",
      "Bounds: BoundingBox(left=-2453970.0, bottom=-902220.0, right=3056580.0, top=3887370.0)\n",
      "Width x Height: 183685 x 159653\n",
      "Number of bands: 1\n",
      "Data type: ('uint8',)\n",
      "Transform (resolution & origin): | 30.00, 0.00,-2453970.00|\n",
      "| 0.00,-30.00, 3887370.00|\n",
      "| 0.00, 0.00, 1.00|\n"
     ]
    }
   ],
   "source": [
    "import rasterio\n",
    "import rioxarray\n",
    "import matplotlib.pyplot as plt\n",
    "\n",
    "# --- Open with rasterio ---\n",
    "print(\"CRS:\", elevation.crs)\n",
    "print(\"Bounds:\", elevation.bounds)\n",
    "print(\"Width x Height:\", elevation.width, \"x\", elevation.height)\n",
    "print(\"Number of bands:\", elevation.count)\n",
    "print(\"Data type:\", elevation.dtypes)\n",
    "print(\"Transform (resolution & origin):\", elevation.transform)"
   ]
  },
  {
   "cell_type": "code",
   "execution_count": 16,
   "id": "7c66797e",
   "metadata": {},
   "outputs": [
    {
     "name": "stdout",
     "output_type": "stream",
     "text": [
      "Sample shape: (500, 500)\n",
      "Sample stats: -- -- --\n"
     ]
    }
   ],
   "source": [
    "import numpy as np\n",
    "\n",
    "with rasterio.open('../data_raw/elevation/mrdem-30-source.vrt') as src:\n",
    "    window = rasterio.windows.Window(0, 0, 500, 500)  # top-left 500x500 pixels\n",
    "    sample = src.read(1, window=window, masked=True)\n",
    "    print(\"Sample shape:\", sample.shape)\n",
    "    print(\"Sample stats:\", np.nanmin(sample), np.nanmax(sample), np.nanmean(sample))\n"
   ]
  },
  {
   "cell_type": "markdown",
   "id": "4c838a59",
   "metadata": {},
   "source": [
    "   - [Shape](#shape)  "
   ]
  },
  {
   "cell_type": "code",
   "execution_count": 8,
   "id": "0859a5f6",
   "metadata": {},
   "outputs": [
    {
     "data": {
      "text/plain": [
       "(3243400, 38)"
      ]
     },
     "execution_count": 8,
     "metadata": {},
     "output_type": "execute_result"
    }
   ],
   "source": [
    "watershed.shape\n"
   ]
  },
  {
   "cell_type": "markdown",
   "id": "a1e2e867",
   "metadata": {},
   "source": [
    "   - [Missing Values](#missing-values)  \n"
   ]
  },
  {
   "cell_type": "code",
   "execution_count": 9,
   "id": "75a963e5",
   "metadata": {},
   "outputs": [
    {
     "data": {
      "text/plain": [
       "WATERSHED_FEATURE_ID               0\n",
       "WATERSHED_GROUP_ID                 0\n",
       "WATERSHED_TYPE               3243400\n",
       "GNIS_ID_1                    3243400\n",
       "GNIS_NAME_1                  3243400\n",
       "GNIS_ID_2                    3243400\n",
       "GNIS_NAME_2                  3243400\n",
       "GNIS_ID_3                    3243400\n",
       "GNIS_NAME_3                  3243400\n",
       "WATERBODY_ID                 3243400\n",
       "WATERBODY_KEY                      1\n",
       "WATERSHED_KEY                      0\n",
       "FWA_WATERSHED_CODE                 0\n",
       "LOCAL_WATERSHED_CODE               0\n",
       "WATERSHED_GROUP_CODE               0\n",
       "LEFT_RIGHT_TRIBUTARY         3243356\n",
       "WATERSHED_ORDER                    0\n",
       "WATERSHED_MAGNITUDE                0\n",
       "LOCAL_WATERSHED_ORDER              1\n",
       "LOCAL_WATERSHED_MAGNITUDE          1\n",
       "AREA_HA                            0\n",
       "RIVER_AREA                   3243400\n",
       "LAKE_AREA                    3243400\n",
       "WETLAND_AREA                 3243400\n",
       "MANMADE_AREA                 3243400\n",
       "GLACIER_AREA                 3243400\n",
       "AVERAGE_ELEVATION            3243400\n",
       "AVERAGE_SLOPE                3243400\n",
       "ASPECT_NORTH                 3243400\n",
       "ASPECT_SOUTH                 3243400\n",
       "ASPECT_WEST                  3243400\n",
       "ASPECT_EAST                  3243400\n",
       "ASPECT_FLAT                  3243400\n",
       "FEATURE_CODE                       0\n",
       "GEOMETRY_Length                    0\n",
       "GEOMETRY_Area                      0\n",
       "LWSC_ASSIGNED                3239149\n",
       "geometry                           0\n",
       "dtype: int64"
      ]
     },
     "execution_count": 9,
     "metadata": {},
     "output_type": "execute_result"
    }
   ],
   "source": [
    "watershed.isnull().sum()"
   ]
  },
  {
   "cell_type": "markdown",
   "id": "c5551de0",
   "metadata": {},
   "source": [
    "   - [Data Types](#data-types)  \n"
   ]
  },
  {
   "cell_type": "code",
   "execution_count": 10,
   "id": "9a4620f3",
   "metadata": {},
   "outputs": [
    {
     "data": {
      "text/html": [
       "<div>\n",
       "<style scoped>\n",
       "    .dataframe tbody tr th:only-of-type {\n",
       "        vertical-align: middle;\n",
       "    }\n",
       "\n",
       "    .dataframe tbody tr th {\n",
       "        vertical-align: top;\n",
       "    }\n",
       "\n",
       "    .dataframe thead th {\n",
       "        text-align: right;\n",
       "    }\n",
       "</style>\n",
       "<table border=\"1\" class=\"dataframe\">\n",
       "  <thead>\n",
       "    <tr style=\"text-align: right;\">\n",
       "      <th></th>\n",
       "      <th>WATERSHED_FEATURE_ID</th>\n",
       "      <th>WATERSHED_GROUP_ID</th>\n",
       "      <th>GNIS_ID_1</th>\n",
       "      <th>GNIS_ID_2</th>\n",
       "      <th>GNIS_ID_3</th>\n",
       "      <th>WATERBODY_ID</th>\n",
       "      <th>WATERBODY_KEY</th>\n",
       "      <th>WATERSHED_KEY</th>\n",
       "      <th>WATERSHED_ORDER</th>\n",
       "      <th>WATERSHED_MAGNITUDE</th>\n",
       "      <th>...</th>\n",
       "      <th>GLACIER_AREA</th>\n",
       "      <th>AVERAGE_ELEVATION</th>\n",
       "      <th>AVERAGE_SLOPE</th>\n",
       "      <th>ASPECT_NORTH</th>\n",
       "      <th>ASPECT_SOUTH</th>\n",
       "      <th>ASPECT_WEST</th>\n",
       "      <th>ASPECT_EAST</th>\n",
       "      <th>ASPECT_FLAT</th>\n",
       "      <th>GEOMETRY_Length</th>\n",
       "      <th>GEOMETRY_Area</th>\n",
       "    </tr>\n",
       "  </thead>\n",
       "  <tbody>\n",
       "    <tr>\n",
       "      <th>count</th>\n",
       "      <td>3.243400e+06</td>\n",
       "      <td>3.243400e+06</td>\n",
       "      <td>0.0</td>\n",
       "      <td>0.0</td>\n",
       "      <td>0.0</td>\n",
       "      <td>0.0</td>\n",
       "      <td>3.243399e+06</td>\n",
       "      <td>3.243400e+06</td>\n",
       "      <td>3.243400e+06</td>\n",
       "      <td>3.243400e+06</td>\n",
       "      <td>...</td>\n",
       "      <td>0.0</td>\n",
       "      <td>0.0</td>\n",
       "      <td>0.0</td>\n",
       "      <td>0.0</td>\n",
       "      <td>0.0</td>\n",
       "      <td>0.0</td>\n",
       "      <td>0.0</td>\n",
       "      <td>0.0</td>\n",
       "      <td>3.243400e+06</td>\n",
       "      <td>3.243400e+06</td>\n",
       "    </tr>\n",
       "    <tr>\n",
       "      <th>mean</th>\n",
       "      <td>9.136079e+06</td>\n",
       "      <td>1.268362e+02</td>\n",
       "      <td>NaN</td>\n",
       "      <td>NaN</td>\n",
       "      <td>NaN</td>\n",
       "      <td>NaN</td>\n",
       "      <td>2.135486e+07</td>\n",
       "      <td>3.591158e+08</td>\n",
       "      <td>2.448360e+00</td>\n",
       "      <td>1.406644e+03</td>\n",
       "      <td>...</td>\n",
       "      <td>NaN</td>\n",
       "      <td>NaN</td>\n",
       "      <td>NaN</td>\n",
       "      <td>NaN</td>\n",
       "      <td>NaN</td>\n",
       "      <td>NaN</td>\n",
       "      <td>NaN</td>\n",
       "      <td>NaN</td>\n",
       "      <td>2.281145e+03</td>\n",
       "      <td>2.923077e+05</td>\n",
       "    </tr>\n",
       "    <tr>\n",
       "      <th>std</th>\n",
       "      <td>9.364109e+05</td>\n",
       "      <td>6.944889e+01</td>\n",
       "      <td>NaN</td>\n",
       "      <td>NaN</td>\n",
       "      <td>NaN</td>\n",
       "      <td>NaN</td>\n",
       "      <td>8.110723e+07</td>\n",
       "      <td>3.740147e+06</td>\n",
       "      <td>1.687149e+00</td>\n",
       "      <td>1.576180e+04</td>\n",
       "      <td>...</td>\n",
       "      <td>NaN</td>\n",
       "      <td>NaN</td>\n",
       "      <td>NaN</td>\n",
       "      <td>NaN</td>\n",
       "      <td>NaN</td>\n",
       "      <td>NaN</td>\n",
       "      <td>NaN</td>\n",
       "      <td>NaN</td>\n",
       "      <td>2.172088e+03</td>\n",
       "      <td>1.088910e+06</td>\n",
       "    </tr>\n",
       "    <tr>\n",
       "      <th>min</th>\n",
       "      <td>7.513908e+06</td>\n",
       "      <td>1.000000e+00</td>\n",
       "      <td>NaN</td>\n",
       "      <td>NaN</td>\n",
       "      <td>NaN</td>\n",
       "      <td>NaN</td>\n",
       "      <td>0.000000e+00</td>\n",
       "      <td>-1.000000e+00</td>\n",
       "      <td>0.000000e+00</td>\n",
       "      <td>0.000000e+00</td>\n",
       "      <td>...</td>\n",
       "      <td>NaN</td>\n",
       "      <td>NaN</td>\n",
       "      <td>NaN</td>\n",
       "      <td>NaN</td>\n",
       "      <td>NaN</td>\n",
       "      <td>NaN</td>\n",
       "      <td>NaN</td>\n",
       "      <td>NaN</td>\n",
       "      <td>6.553548e-02</td>\n",
       "      <td>1.550000e-04</td>\n",
       "    </tr>\n",
       "    <tr>\n",
       "      <th>25%</th>\n",
       "      <td>8.325166e+06</td>\n",
       "      <td>6.900000e+01</td>\n",
       "      <td>NaN</td>\n",
       "      <td>NaN</td>\n",
       "      <td>NaN</td>\n",
       "      <td>NaN</td>\n",
       "      <td>0.000000e+00</td>\n",
       "      <td>3.564233e+08</td>\n",
       "      <td>1.000000e+00</td>\n",
       "      <td>1.000000e+00</td>\n",
       "      <td>...</td>\n",
       "      <td>NaN</td>\n",
       "      <td>NaN</td>\n",
       "      <td>NaN</td>\n",
       "      <td>NaN</td>\n",
       "      <td>NaN</td>\n",
       "      <td>NaN</td>\n",
       "      <td>NaN</td>\n",
       "      <td>NaN</td>\n",
       "      <td>1.007841e+03</td>\n",
       "      <td>4.030912e+04</td>\n",
       "    </tr>\n",
       "    <tr>\n",
       "      <th>50%</th>\n",
       "      <td>9.136086e+06</td>\n",
       "      <td>1.290000e+02</td>\n",
       "      <td>NaN</td>\n",
       "      <td>NaN</td>\n",
       "      <td>NaN</td>\n",
       "      <td>NaN</td>\n",
       "      <td>0.000000e+00</td>\n",
       "      <td>3.594979e+08</td>\n",
       "      <td>2.000000e+00</td>\n",
       "      <td>3.000000e+00</td>\n",
       "      <td>...</td>\n",
       "      <td>NaN</td>\n",
       "      <td>NaN</td>\n",
       "      <td>NaN</td>\n",
       "      <td>NaN</td>\n",
       "      <td>NaN</td>\n",
       "      <td>NaN</td>\n",
       "      <td>NaN</td>\n",
       "      <td>NaN</td>\n",
       "      <td>1.842984e+03</td>\n",
       "      <td>1.273336e+05</td>\n",
       "    </tr>\n",
       "    <tr>\n",
       "      <th>75%</th>\n",
       "      <td>9.947026e+06</td>\n",
       "      <td>1.870000e+02</td>\n",
       "      <td>NaN</td>\n",
       "      <td>NaN</td>\n",
       "      <td>NaN</td>\n",
       "      <td>NaN</td>\n",
       "      <td>0.000000e+00</td>\n",
       "      <td>3.606425e+08</td>\n",
       "      <td>3.000000e+00</td>\n",
       "      <td>2.200000e+01</td>\n",
       "      <td>...</td>\n",
       "      <td>NaN</td>\n",
       "      <td>NaN</td>\n",
       "      <td>NaN</td>\n",
       "      <td>NaN</td>\n",
       "      <td>NaN</td>\n",
       "      <td>NaN</td>\n",
       "      <td>NaN</td>\n",
       "      <td>NaN</td>\n",
       "      <td>2.973524e+03</td>\n",
       "      <td>3.122884e+05</td>\n",
       "    </tr>\n",
       "    <tr>\n",
       "      <th>max</th>\n",
       "      <td>1.075798e+07</td>\n",
       "      <td>2.460000e+02</td>\n",
       "      <td>NaN</td>\n",
       "      <td>NaN</td>\n",
       "      <td>NaN</td>\n",
       "      <td>NaN</td>\n",
       "      <td>7.080215e+08</td>\n",
       "      <td>3.809618e+08</td>\n",
       "      <td>1.000000e+01</td>\n",
       "      <td>2.968850e+05</td>\n",
       "      <td>...</td>\n",
       "      <td>NaN</td>\n",
       "      <td>NaN</td>\n",
       "      <td>NaN</td>\n",
       "      <td>NaN</td>\n",
       "      <td>NaN</td>\n",
       "      <td>NaN</td>\n",
       "      <td>NaN</td>\n",
       "      <td>NaN</td>\n",
       "      <td>5.527568e+05</td>\n",
       "      <td>8.110005e+08</td>\n",
       "    </tr>\n",
       "  </tbody>\n",
       "</table>\n",
       "<p>8 rows × 27 columns</p>\n",
       "</div>"
      ],
      "text/plain": [
       "       WATERSHED_FEATURE_ID  WATERSHED_GROUP_ID  GNIS_ID_1  GNIS_ID_2  \\\n",
       "count          3.243400e+06        3.243400e+06        0.0        0.0   \n",
       "mean           9.136079e+06        1.268362e+02        NaN        NaN   \n",
       "std            9.364109e+05        6.944889e+01        NaN        NaN   \n",
       "min            7.513908e+06        1.000000e+00        NaN        NaN   \n",
       "25%            8.325166e+06        6.900000e+01        NaN        NaN   \n",
       "50%            9.136086e+06        1.290000e+02        NaN        NaN   \n",
       "75%            9.947026e+06        1.870000e+02        NaN        NaN   \n",
       "max            1.075798e+07        2.460000e+02        NaN        NaN   \n",
       "\n",
       "       GNIS_ID_3  WATERBODY_ID  WATERBODY_KEY  WATERSHED_KEY  WATERSHED_ORDER  \\\n",
       "count        0.0           0.0   3.243399e+06   3.243400e+06     3.243400e+06   \n",
       "mean         NaN           NaN   2.135486e+07   3.591158e+08     2.448360e+00   \n",
       "std          NaN           NaN   8.110723e+07   3.740147e+06     1.687149e+00   \n",
       "min          NaN           NaN   0.000000e+00  -1.000000e+00     0.000000e+00   \n",
       "25%          NaN           NaN   0.000000e+00   3.564233e+08     1.000000e+00   \n",
       "50%          NaN           NaN   0.000000e+00   3.594979e+08     2.000000e+00   \n",
       "75%          NaN           NaN   0.000000e+00   3.606425e+08     3.000000e+00   \n",
       "max          NaN           NaN   7.080215e+08   3.809618e+08     1.000000e+01   \n",
       "\n",
       "       WATERSHED_MAGNITUDE  ...  GLACIER_AREA  AVERAGE_ELEVATION  \\\n",
       "count         3.243400e+06  ...           0.0                0.0   \n",
       "mean          1.406644e+03  ...           NaN                NaN   \n",
       "std           1.576180e+04  ...           NaN                NaN   \n",
       "min           0.000000e+00  ...           NaN                NaN   \n",
       "25%           1.000000e+00  ...           NaN                NaN   \n",
       "50%           3.000000e+00  ...           NaN                NaN   \n",
       "75%           2.200000e+01  ...           NaN                NaN   \n",
       "max           2.968850e+05  ...           NaN                NaN   \n",
       "\n",
       "       AVERAGE_SLOPE  ASPECT_NORTH  ASPECT_SOUTH  ASPECT_WEST  ASPECT_EAST  \\\n",
       "count            0.0           0.0           0.0          0.0          0.0   \n",
       "mean             NaN           NaN           NaN          NaN          NaN   \n",
       "std              NaN           NaN           NaN          NaN          NaN   \n",
       "min              NaN           NaN           NaN          NaN          NaN   \n",
       "25%              NaN           NaN           NaN          NaN          NaN   \n",
       "50%              NaN           NaN           NaN          NaN          NaN   \n",
       "75%              NaN           NaN           NaN          NaN          NaN   \n",
       "max              NaN           NaN           NaN          NaN          NaN   \n",
       "\n",
       "       ASPECT_FLAT  GEOMETRY_Length  GEOMETRY_Area  \n",
       "count          0.0     3.243400e+06   3.243400e+06  \n",
       "mean           NaN     2.281145e+03   2.923077e+05  \n",
       "std            NaN     2.172088e+03   1.088910e+06  \n",
       "min            NaN     6.553548e-02   1.550000e-04  \n",
       "25%            NaN     1.007841e+03   4.030912e+04  \n",
       "50%            NaN     1.842984e+03   1.273336e+05  \n",
       "75%            NaN     2.973524e+03   3.122884e+05  \n",
       "max            NaN     5.527568e+05   8.110005e+08  \n",
       "\n",
       "[8 rows x 27 columns]"
      ]
     },
     "execution_count": 10,
     "metadata": {},
     "output_type": "execute_result"
    }
   ],
   "source": [
    "watershed.describe()"
   ]
  },
  {
   "cell_type": "code",
   "execution_count": null,
   "id": "8f69352a",
   "metadata": {},
   "outputs": [],
   "source": [
    "important_cols = [\n",
    "    \"WATERSHED_FEATURE_ID\",\n",
    "    \"FWA_WATERSHED_CODE\",\n",
    "    \"WATERSHED_ORDER\",\n",
    "    \"AREA_HA\",\n",
    "    \"WATERSHED_GROUP_CODE\",\n",
    "    \"geometry\"\n",
    "]\n",
    "\n",
    "watersheds_clean = watersheds_bc[important_cols].copy()"
   ]
  },
  {
   "cell_type": "markdown",
   "id": "0343c8ce",
   "metadata": {},
   "source": [
    "   - [Preview Data](#preview-data)\n"
   ]
  },
  {
   "cell_type": "markdown",
   "id": "316af8c9",
   "metadata": {},
   "source": [
    "---"
   ]
  },
  {
   "cell_type": "markdown",
   "id": "8cc66715",
   "metadata": {
    "vscode": {
     "languageId": "plaintext"
    }
   },
   "source": [
    "3. [Data Cleaning](#data-cleaning)  "
   ]
  },
  {
   "cell_type": "markdown",
   "id": "a9e20089",
   "metadata": {},
   "source": [
    "   - [Drop Duplicates](#drop-duplicates)  "
   ]
  },
  {
   "cell_type": "markdown",
   "id": "7f4bc36c",
   "metadata": {},
   "source": [
    "   - [Standardize Text and Formats](#standardize-text-and-formats)  "
   ]
  },
  {
   "cell_type": "markdown",
   "id": "fa77adb6",
   "metadata": {},
   "source": [
    "- [Convert Data Types](#convert-data-types)  \n",
    "   "
   ]
  },
  {
   "cell_type": "markdown",
   "id": "fee4eee8",
   "metadata": {},
   "source": [
    "- [Filter Irrelevant Records](#filter-irrelevant-records)  "
   ]
  },
  {
   "cell_type": "markdown",
   "id": "cec3c211",
   "metadata": {},
   "source": [
    "   - [Handle Inconsistent Values](#handle-inconsistent-values)  "
   ]
  },
  {
   "cell_type": "markdown",
   "id": "9d1e67bf",
   "metadata": {},
   "source": [
    "---"
   ]
  },
  {
   "cell_type": "markdown",
   "id": "ea2379d4",
   "metadata": {
    "vscode": {
     "languageId": "plaintext"
    }
   },
   "source": [
    "4. [Exploratory Data Analysis (EDA)](#exploratory-data-analysis-eda)  \n"
   ]
  },
  {
   "cell_type": "markdown",
   "id": "26b71377",
   "metadata": {},
   "source": [
    "- [Univariate Analysis](#univariate-analysis)  "
   ]
  },
  {
   "cell_type": "markdown",
   "id": "cf405840",
   "metadata": {},
   "source": [
    "- [Bivariate & Multivariate Analysis](#bivariate--multivariate-analysis)  "
   ]
  },
  {
   "cell_type": "markdown",
   "id": "986dace5",
   "metadata": {},
   "source": [
    "- [Distribution of Variables](#distribution-of-variables)  \n"
   ]
  },
  {
   "cell_type": "markdown",
   "id": "18dac8cb",
   "metadata": {},
   "source": [
    "- [Correlation Analysis](#correlation-analysis)  "
   ]
  },
  {
   "cell_type": "markdown",
   "id": "66c48623",
   "metadata": {},
   "source": [
    "- [Outlier Detection](#outlier-detection)  \n",
    "   "
   ]
  },
  {
   "cell_type": "markdown",
   "id": "bb10bd3f",
   "metadata": {},
   "source": [
    "- [Initial Insights](#initial-insights)  "
   ]
  },
  {
   "cell_type": "markdown",
   "id": "0861ab98",
   "metadata": {},
   "source": [
    "\n",
    "---"
   ]
  },
  {
   "cell_type": "markdown",
   "id": "0e007770",
   "metadata": {},
   "source": [
    "5. [Feature Engineering](#feature-engineering)\n"
   ]
  },
  {
   "cell_type": "markdown",
   "id": "567a1256",
   "metadata": {},
   "source": [
    "- [Feature Selection](#feature-selection)  "
   ]
  },
  {
   "cell_type": "markdown",
   "id": "7079a7e6",
   "metadata": {},
   "source": [
    "  \n",
    "   - [Handling Missing Data](#handling-missing-data)  "
   ]
  },
  {
   "cell_type": "markdown",
   "id": "ac08d291",
   "metadata": {},
   "source": [
    "- [Encoding Categorical Variables](#encoding-categorical-variables)  "
   ]
  },
  {
   "cell_type": "markdown",
   "id": "72fe7dae",
   "metadata": {},
   "source": [
    "   - [Creating New Features](#creating-new-features)  \n"
   ]
  },
  {
   "cell_type": "markdown",
   "id": "6ed832c3",
   "metadata": {},
   "source": [
    "- [Feature Transformation (Scaling, Normalization)](#feature-transformation-scaling-normalization)  "
   ]
  },
  {
   "cell_type": "markdown",
   "id": "76b8633f",
   "metadata": {},
   "source": [
    "---"
   ]
  },
  {
   "cell_type": "markdown",
   "id": "2eb2f185",
   "metadata": {},
   "source": [
    "For Elevation data"
   ]
  },
  {
   "cell_type": "markdown",
   "id": "1b73f369",
   "metadata": {},
   "source": [
    "Creating the raster file (TIF) only with BC elevation data"
   ]
  },
  {
   "cell_type": "code",
   "execution_count": null,
   "id": "53a869e9",
   "metadata": {},
   "outputs": [],
   "source": [
    "# import rasterio\n",
    "# from rasterio.mask import mask\n",
    "# import geopandas as gpd\n",
    "# import numpy as np\n",
    "\n",
    "# # Paths\n",
    "# vrt_path = \"../data_raw/elevation/mrdem-30-source.vrt\"\n",
    "# fire_shapefile = \"../data_raw/fire_perimeters/fire_perimeters.gpkg\"\n",
    "# clipped_fp = \"../data_raw/elevation/dem_bc_clipped.tif\"\n",
    "\n",
    "# # Load fire perimeters\n",
    "# fires = gpd.read_file(fire_shapefile)\n",
    "\n",
    "# with rasterio.open(vrt_path) as src:\n",
    "#     # Ensure CRS matches\n",
    "#     fires = fires.to_crs(src.crs)\n",
    "    \n",
    "#     # Clip DEM to fire geometries\n",
    "#     dem_clipped, dem_transform = mask(src, fires.geometry, crop=True)\n",
    "    \n",
    "#     # Convert to standard numpy array\n",
    "#     dem_clipped = np.array(dem_clipped, dtype=src.dtypes[0])\n",
    "    \n",
    "#     # Update metadata\n",
    "#     out_meta = src.meta.copy()\n",
    "#     out_meta.update({\n",
    "#         \"driver\": \"GTiff\",\n",
    "#         \"height\": dem_clipped.shape[1],\n",
    "#         \"width\": dem_clipped.shape[2],\n",
    "#         \"transform\": dem_transform,\n",
    "#         \"count\": src.count\n",
    "#     })\n",
    "\n",
    "# # Save clipped DEM\n",
    "# with rasterio.open(clipped_fp, \"w\", **out_meta) as dest:\n",
    "#     dest.write(dem_clipped)\n"
   ]
  },
  {
   "cell_type": "code",
   "execution_count": 40,
   "id": "436b52af",
   "metadata": {},
   "outputs": [
    {
     "name": "stdout",
     "output_type": "stream",
     "text": [
      "CRS: EPSG:3979\n",
      "Bounds: BoundingBox(left=-2327010.0, bottom=209400.0, right=-1325460.0, top=1911630.0)\n",
      "Width, Height: 33385 56741\n",
      "Count (bands): 1\n"
     ]
    }
   ],
   "source": [
    "elevation_path = \"../data_raw/elevation/dem_bc_clipped.tif\"\n",
    "\n",
    "with rasterio.open(elevation_path) as src:\n",
    "    print(\"CRS:\", src.crs)\n",
    "    print(\"Bounds:\", src.bounds)\n",
    "    print(\"Width, Height:\", src.width, src.height)\n",
    "    print(\"Count (bands):\", src.count)"
   ]
  },
  {
   "cell_type": "markdown",
   "id": "6c82776a",
   "metadata": {},
   "source": [
    "converting clipped DEM to EPSG:3005"
   ]
  },
  {
   "cell_type": "code",
   "execution_count": null,
   "id": "cfb9d558",
   "metadata": {},
   "outputs": [
    {
     "name": "stdout",
     "output_type": "stream",
     "text": [
      "Clipped and reprojected DEM saved at: ../data_raw/elevation/dem_bc_clipped_epsg3005.tif\n"
     ]
    }
   ],
   "source": [
    "# import rasterio\n",
    "# from rasterio.warp import calculate_default_transform, reproject, Resampling\n",
    "# from rasterio.mask import mask\n",
    "# import geopandas as gpd\n",
    "# import os\n",
    "\n",
    "# # Paths\n",
    "# vrt_path = \"../data_raw/elevation/mrdem-30-source.vrt\"\n",
    "# fire_shapefile = \"../data_raw/fire_perimeters/fire_perimeters.gpkg\"\n",
    "# clipped_fp = \"../data_raw/elevation/dem_bc_clipped.tif\"\n",
    "# output_fp = \"../data_raw/elevation/dem_bc_clipped_epsg3005.tif\"\n",
    "\n",
    "# # Load fire perimeters\n",
    "# fires = gpd.read_file(fire_shapefile)\n",
    "\n",
    "# # Open VRT (source DEM)\n",
    "# with rasterio.open(vrt_path) as src:\n",
    "#     # Reproject fire geometries to match DEM\n",
    "#     fires = fires.to_crs(src.crs)\n",
    "    \n",
    "#     # Clip DEM to fire perimeters using rasterio.mask\n",
    "#     # crop=True ensures we get minimal bounds\n",
    "#     clipped_dem, clipped_transform = mask(src, fires.geometry, crop=True)\n",
    "    \n",
    "#     # Convert to numpy array\n",
    "#     clipped_dem = clipped_dem.astype(src.dtypes[0])\n",
    "    \n",
    "#     # Metadata for clipped DEM\n",
    "#     clipped_meta = src.meta.copy()\n",
    "#     clipped_meta.update({\n",
    "#         \"driver\": \"GTiff\",\n",
    "#         \"height\": clipped_dem.shape[1],\n",
    "#         \"width\": clipped_dem.shape[2],\n",
    "#         \"transform\": clipped_transform,\n",
    "#         \"count\": src.count\n",
    "#     })\n",
    "\n",
    "# # Now reproject while writing in blocks (memory-safe)\n",
    "# dst_crs = \"EPSG:3005\"\n",
    "# with rasterio.open(output_fp, \"w\", **clipped_meta) as dst:\n",
    "#     # Calculate new transform, width, height for the target CRS\n",
    "#     transform, width, height = calculate_default_transform(\n",
    "#         src.crs, dst_crs, clipped_meta['width'], clipped_meta['height'], *src.bounds\n",
    "#     )\n",
    "#     dst_meta = clipped_meta.copy()\n",
    "#     dst_meta.update({\n",
    "#         \"crs\": dst_crs,\n",
    "#         \"transform\": transform,\n",
    "#         \"width\": width,\n",
    "#         \"height\": height\n",
    "#     })\n",
    "\n",
    "#     # Open destination file\n",
    "#     with rasterio.open(output_fp, \"w\", **dst_meta) as dst_file:\n",
    "#         # Reproject in chunks (block-by-block)\n",
    "#         reproject(\n",
    "#             source=clipped_dem,\n",
    "#             destination=rasterio.band(dst_file, 1),\n",
    "#             src_transform=clipped_transform,\n",
    "#             src_crs=src.crs,\n",
    "#             dst_transform=transform,\n",
    "#             dst_crs=dst_crs,\n",
    "#             resampling=Resampling.bilinear\n",
    "#         )\n",
    "\n",
    "# print(\"Clipped and reprojected DEM saved at:\", output_fp)\n"
   ]
  },
  {
   "cell_type": "code",
   "execution_count": 1,
   "id": "eb046370",
   "metadata": {},
   "outputs": [
    {
     "name": "stdout",
     "output_type": "stream",
     "text": [
      "Reprojection complete! Saved as: ../data_raw/elevation/dem_bc_clipped_epsg3005.tif\n"
     ]
    }
   ],
   "source": [
    "import rasterio\n",
    "from rasterio.warp import calculate_default_transform, reproject, Resampling\n",
    "import os\n",
    "\n",
    "# Paths\n",
    "input_fp = \"../data_raw/elevation/dem_bc_clipped.tif\"   # your current DEM\n",
    "output_fp = \"../data_raw/elevation/dem_bc_clipped_epsg3005.tif\"  # reprojected DEM\n",
    "\n",
    "# Make sure the output folder exists\n",
    "os.makedirs(os.path.dirname(output_fp), exist_ok=True)\n",
    "\n",
    "# Target CRS\n",
    "dst_crs = \"EPSG:3005\"\n",
    "\n",
    "with rasterio.open(input_fp) as src:\n",
    "    # Calculate the transform and dimensions for the new CRS\n",
    "    transform, width, height = calculate_default_transform(\n",
    "        src.crs, dst_crs, src.width, src.height, *src.bounds\n",
    "    )\n",
    "    \n",
    "    # Update metadata\n",
    "    kwargs = src.meta.copy()\n",
    "    kwargs.update({\n",
    "        'crs': dst_crs,\n",
    "        'transform': transform,\n",
    "        'width': width,\n",
    "        'height': height\n",
    "    })\n",
    "    \n",
    "    # Reproject and write directly to a new file\n",
    "    with rasterio.open(output_fp, 'w', **kwargs) as dst:\n",
    "        for i in range(1, src.count + 1):\n",
    "            reproject(\n",
    "                source=rasterio.band(src, i),\n",
    "                destination=rasterio.band(dst, i),\n",
    "                src_transform=src.transform,\n",
    "                src_crs=src.crs,\n",
    "                dst_transform=transform,\n",
    "                dst_crs=dst_crs,\n",
    "                resampling=Resampling.bilinear\n",
    "            )\n",
    "\n",
    "print(\"Reprojection complete! Saved as:\", output_fp)\n"
   ]
  },
  {
   "cell_type": "code",
   "execution_count": 2,
   "id": "e18c3e52",
   "metadata": {},
   "outputs": [
    {
     "name": "stdout",
     "output_type": "stream",
     "text": [
      "CRS: EPSG:3005\n",
      "Bounds: BoundingBox(left=206198.3144124857, bottom=83611.93372010277, right=1913020.3413456595, top=2083393.448122778)\n",
      "Width, Height: 55995 65606\n",
      "Count (bands): 1\n"
     ]
    }
   ],
   "source": [
    "import rasterio as rio\n",
    "with rio.open(\"../data_raw/elevation/dem_bc_clipped_epsg3005.tif\") as src:\n",
    "    print(\"CRS:\", src.crs)\n",
    "    print(\"Bounds:\", src.bounds)\n",
    "    print(\"Width, Height:\", src.width, src.height)\n",
    "    print(\"Count (bands):\", src.count)\n"
   ]
  },
  {
   "cell_type": "markdown",
   "id": "13a3777a",
   "metadata": {},
   "source": [
    "10. [References](#references)  \n"
   ]
  },
  {
   "cell_type": "markdown",
   "id": "e9d035c9",
   "metadata": {},
   "source": [
    "https://open.canada.ca/data/en/dataset/055919c2-101e-4329-bfd7-1d0c333c0e62/resource/de8a365d-6326-4013-a661-7647e5996c55"
   ]
  },
  {
   "cell_type": "markdown",
   "id": "11fd91ff",
   "metadata": {},
   "source": []
  }
 ],
 "metadata": {
  "kernelspec": {
   "display_name": "fire_env",
   "language": "python",
   "name": "python3"
  },
  "language_info": {
   "codemirror_mode": {
    "name": "ipython",
    "version": 3
   },
   "file_extension": ".py",
   "mimetype": "text/x-python",
   "name": "python",
   "nbconvert_exporter": "python",
   "pygments_lexer": "ipython3",
   "version": "3.11.13"
  }
 },
 "nbformat": 4,
 "nbformat_minor": 5
}
