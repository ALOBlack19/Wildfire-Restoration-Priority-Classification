{
 "cells": [
  {
   "cell_type": "markdown",
   "id": "4e140472",
   "metadata": {},
   "source": [
    "# Data Science Final Project \n"
   ]
  },
  {
   "cell_type": "markdown",
   "id": "e810a17c",
   "metadata": {},
   "source": [
    "**College/University Name**: _CICCC - Cornerstone International Community College of Canada_  \n",
    "**Course**: _Final Project_  \n",
    "**Instructor**: _Derrick Park_  \n",
    "**Student Name**: _Amir Lima Oliveira_  \n",
    "**Submission Date**: _2025-09-26_  \n",
    "\n",
    "---"
   ]
  },
  {
   "cell_type": "markdown",
   "id": "60372ac7",
   "metadata": {},
   "source": [
    "### Project Title\n",
    "    _Wildfire Restoration Priority Classification in Canada_\n",
    "---"
   ]
  },
  {
   "cell_type": "markdown",
   "id": "5286acd2",
   "metadata": {},
   "source": [
    "#### Objective\n",
    "    Find, structure and analyse the NASA's datasets with satelite data points about wildfires detection, connect this with satelite images and engineer areas parameters for the detection of which wildfire area needs priority restoration.\n",
    "### Problem Statement or Research Question\n",
    "    This project aims to help manage and direct resources with efficiency in the right areas based on the data-driven structure of the machine learning model to the most critical areas. \n",
    "---"
   ]
  },
  {
   "cell_type": "markdown",
   "id": "5bd07e86",
   "metadata": {},
   "source": [
    "#### Dataset Overview\n",
    "- **Source:** [Dataset URL or name]\n",
    "- **Description:** Short explanation of the dataset (e.g., features, size, context)\n",
    "- **Credits:** Cite source or dataset author if required\n",
    "\n",
    "---"
   ]
  },
  {
   "cell_type": "markdown",
   "id": "8a3cbe60",
   "metadata": {},
   "source": [
    "## Table of Contents\n"
   ]
  },
  {
   "cell_type": "markdown",
   "id": "6844255d",
   "metadata": {},
   "source": [
    "1. [Import Libraries](#import-libraries)  \n"
   ]
  },
  {
   "cell_type": "code",
   "execution_count": 1,
   "id": "4a8c062f",
   "metadata": {},
   "outputs": [],
   "source": [
    "import pandas as pd\n",
    "import numpy as np\n",
    "import matplotlib.pyplot as plt\n",
    "import geopandas as gpd\n",
    "import rasterio as rio\n",
    "import fiona\n",
    "from rasterio.plot import show\n",
    "import shapely.geometry as geom\n",
    "import seaborn as sns\n",
    "from sklearn.model_selection import train_test_split\n",
    "from sklearn.ensemble import RandomForestClassifier\n",
    "\n",
    "import urllib.request # to download the watershed gdb file"
   ]
  },
  {
   "cell_type": "markdown",
   "id": "9b726c08",
   "metadata": {},
   "source": [
    "---"
   ]
  },
  {
   "cell_type": "markdown",
   "id": "bafef8e5",
   "metadata": {},
   "source": [
    "2. [Load & Inspect Data](#load--inspect-data)  \n"
   ]
  },
  {
   "cell_type": "code",
   "execution_count": 2,
   "id": "bfbe7449",
   "metadata": {},
   "outputs": [],
   "source": [
    "burn_severity = rio.open('../data_raw/burn_severity/NBAC_MRB_1972to2024_30m.tif')"
   ]
  },
  {
   "cell_type": "code",
   "execution_count": 4,
   "id": "e51dfe5f",
   "metadata": {},
   "outputs": [
    {
     "name": "stdout",
     "output_type": "stream",
     "text": [
      "CRS: PROJCS[\"Canada_Lambert_Conformal_Conic\",GEOGCS[\"NAD83\",DATUM[\"North_American_Datum_1983\",SPHEROID[\"GRS 1980\",6378137,298.257222101004,AUTHORITY[\"EPSG\",\"7019\"]],AUTHORITY[\"EPSG\",\"6269\"]],PRIMEM[\"Greenwich\",0],UNIT[\"degree\",0.0174532925199433,AUTHORITY[\"EPSG\",\"9122\"]],AUTHORITY[\"EPSG\",\"4269\"]],PROJECTION[\"Lambert_Conformal_Conic_2SP\"],PARAMETER[\"latitude_of_origin\",49],PARAMETER[\"central_meridian\",-95],PARAMETER[\"standard_parallel_1\",49],PARAMETER[\"standard_parallel_2\",77],PARAMETER[\"false_easting\",0],PARAMETER[\"false_northing\",0],UNIT[\"metre\",1,AUTHORITY[\"EPSG\",\"9001\"]],AXIS[\"Easting\",EAST],AXIS[\"Northing\",NORTH]]\n",
      "Bounds: BoundingBox(left=-2307210.000000001, bottom=-716416.0226333509, right=2981039.999999999, top=2764453.977366649)\n",
      "Width, Height: 176275 116029\n",
      "Count (bands): 1\n"
     ]
    }
   ],
   "source": [
    "burn_severity = \"../data_raw/burn_severity/NBAC_MRB_1972to2024_30m.tif\"\n",
    "\n",
    "with rio.open(burn_severity) as src:\n",
    "    print(\"CRS:\", src.crs)\n",
    "    print(\"Bounds:\", src.bounds)\n",
    "    print(\"Width, Height:\", src.width, src.height)\n",
    "    print(\"Count (bands):\", src.count)\n"
   ]
  },
  {
   "cell_type": "code",
   "execution_count": 1,
   "id": "441cc768",
   "metadata": {},
   "outputs": [
    {
     "name": "stderr",
     "output_type": "stream",
     "text": [
      "c:\\Users\\Dell\\anaconda3\\envs\\fire_env\\Lib\\site-packages\\pyogrio\\core.py:35: RuntimeWarning: Could not detect GDAL data files.  Set GDAL_DATA environment variable to the correct path.\n",
      "  _init_gdal_data()\n"
     ]
    },
    {
     "name": "stdout",
     "output_type": "stream",
     "text": [
      "Raster clipped successfully to fire polygons bounds.\n"
     ]
    }
   ],
   "source": [
    "from shapely.geometry import box\n",
    "import geopandas as gpd\n",
    "\n",
    "# Step 1: Get the bounding box of all fires\n",
    "minx, miny, maxx, maxy = fires.total_bounds\n",
    "bbox = box(minx, miny, maxx, maxy)\n",
    "bbox_gdf = gpd.GeoDataFrame({\"geometry\": [bbox]}, crs=fires.crs)\n",
    "\n",
    "# Step 2: Split fires into two groups (with and without burnsev/elevation)\n",
    "fires_with_bs = fires.dropna(subset=[\"burnsev_mean\", \"elevation_mean\"])\n",
    "fires_missing_bs = fires[fires[\"burnsev_mean\"].isna() | fires[\"elevation_mean\"].isna()]\n",
    "\n",
    "# Step 3: Get centroids for nearest-neighbor comparison\n",
    "fires_with_bs_points = fires_with_bs.copy()\n",
    "fires_with_bs_points[\"geometry\"] = fires_with_bs_points.centroid\n",
    "\n",
    "fires_missing_bs_points = fires_missing_bs.copy()\n",
    "fires_missing_bs_points[\"geometry\"] = fires_missing_bs_points.centroid\n",
    "\n",
    "# Step 4: Perform spatial nearest-neighbor join\n",
    "nearest = gpd.sjoin_nearest(\n",
    "    fires_missing_bs_points,\n",
    "    fires_with_bs_points[[\"burnsev_mean\", \"elevation_mean\", \"geometry\"]],\n",
    "    how=\"left\",\n",
    "    distance_col=\"dist_to_valid\"\n",
    ")\n",
    "\n",
    "# Step 5: Assign imputed values back\n",
    "fires.loc[nearest.index, \"burnsev_mean\"] = fires.loc[nearest.index, \"burnsev_mean\"].fillna(nearest[\"burnsev_mean\"])\n",
    "fires.loc[nearest.index, \"elevation_mean\"] = fires.loc[nearest.index, \"elevation_mean\"].fillna(nearest[\"elevation_mean\"])\n"
   ]
  },
  {
   "cell_type": "markdown",
   "id": "4c838a59",
   "metadata": {},
   "source": [
    "   - [Shape](#shape)  "
   ]
  },
  {
   "cell_type": "code",
   "execution_count": 2,
   "id": "d26ce5e5",
   "metadata": {},
   "outputs": [
    {
     "name": "stdout",
     "output_type": "stream",
     "text": [
      "CRS: PROJCS[\"Canada_Lambert_Conformal_Conic\",GEOGCS[\"NAD83\",DATUM[\"North_American_Datum_1983\",SPHEROID[\"GRS 1980\",6378137,298.257222101004,AUTHORITY[\"EPSG\",\"7019\"]],AUTHORITY[\"EPSG\",\"6269\"]],PRIMEM[\"Greenwich\",0],UNIT[\"degree\",0.0174532925199433,AUTHORITY[\"EPSG\",\"9122\"]],AUTHORITY[\"EPSG\",\"4269\"]],PROJECTION[\"Lambert_Conformal_Conic_2SP\"],PARAMETER[\"latitude_of_origin\",49],PARAMETER[\"central_meridian\",-95],PARAMETER[\"standard_parallel_1\",49],PARAMETER[\"standard_parallel_2\",77],PARAMETER[\"false_easting\",0],PARAMETER[\"false_northing\",0],UNIT[\"metre\",1,AUTHORITY[\"EPSG\",\"9001\"]],AXIS[\"Easting\",EAST],AXIS[\"Northing\",NORTH]]\n",
      "Bounds: BoundingBox(left=408929.99999999907, bottom=370243.9773666491, right=1870589.999999999, top=1709053.977366649)\n",
      "Width, Height: 48722 44627\n",
      "Count (bands): 1\n"
     ]
    }
   ],
   "source": [
    "burn_severity_epsg = \"../data_raw/burn_severity/burn_severity_bc_clipped_fires.tif\"\n",
    "\n",
    "with rio.open(burn_severity_epsg) as src:\n",
    "    print(\"CRS:\", src.crs)\n",
    "    print(\"Bounds:\", src.bounds)\n",
    "    print(\"Width, Height:\", src.width, src.height)\n",
    "    print(\"Count (bands):\", src.count)"
   ]
  },
  {
   "cell_type": "markdown",
   "id": "13a3777a",
   "metadata": {},
   "source": [
    "10. [References](#references)  \n"
   ]
  }
 ],
 "metadata": {
  "kernelspec": {
   "display_name": "fire_env",
   "language": "python",
   "name": "python3"
  },
  "language_info": {
   "codemirror_mode": {
    "name": "ipython",
    "version": 3
   },
   "file_extension": ".py",
   "mimetype": "text/x-python",
   "name": "python",
   "nbconvert_exporter": "python",
   "pygments_lexer": "ipython3",
   "version": "3.11.13"
  }
 },
 "nbformat": 4,
 "nbformat_minor": 5
}
