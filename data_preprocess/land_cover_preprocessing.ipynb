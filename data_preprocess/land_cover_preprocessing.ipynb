{
 "cells": [
  {
   "cell_type": "markdown",
   "id": "4e140472",
   "metadata": {},
   "source": [
    "# Data Science Final Project \n"
   ]
  },
  {
   "cell_type": "markdown",
   "id": "e810a17c",
   "metadata": {},
   "source": [
    "**College/University Name**: _CICCC - Cornerstone International Community College of Canada_  \n",
    "**Course**: _Final Project_  \n",
    "**Instructor**: _Derrick Park_  \n",
    "**Student Name**: _Amir Lima Oliveira_  \n",
    "**Submission Date**: _2025-09-26_  \n",
    "\n",
    "---"
   ]
  },
  {
   "cell_type": "markdown",
   "id": "60372ac7",
   "metadata": {},
   "source": [
    "### Project Title\n",
    "    _Wildfire Restoration Priority Classification in Canada_\n",
    "---"
   ]
  },
  {
   "cell_type": "markdown",
   "id": "5286acd2",
   "metadata": {},
   "source": [
    "#### Objective\n",
    "    Find, structure and analyse the NASA's datasets with satelite data points about wildfires detection, connect this with satelite images and engineer areas parameters for the detection of which wildfire area needs priority restoration.\n",
    "### Problem Statement or Research Question\n",
    "    This project aims to help manage and direct resources with efficiency in the right areas based on the data-driven structure of the machine learning model to the most critical areas. \n",
    "---"
   ]
  },
  {
   "cell_type": "markdown",
   "id": "5bd07e86",
   "metadata": {},
   "source": [
    "#### Dataset Overview\n",
    "- **Source:** [Dataset URL or name]\n",
    "- **Description:** Short explanation of the dataset (e.g., features, size, context)\n",
    "- **Credits:** Cite source or dataset author if required\n",
    "\n",
    "---"
   ]
  },
  {
   "cell_type": "markdown",
   "id": "8a3cbe60",
   "metadata": {},
   "source": [
    "## Table of Contents\n"
   ]
  },
  {
   "cell_type": "markdown",
   "id": "6844255d",
   "metadata": {},
   "source": [
    "1. [Import Libraries](#import-libraries)  \n"
   ]
  },
  {
   "cell_type": "code",
   "execution_count": 2,
   "id": "4a8c062f",
   "metadata": {},
   "outputs": [],
   "source": [
    "import pandas as pd\n",
    "import numpy as np\n",
    "import matplotlib.pyplot as plt\n",
    "import geopandas as gpd\n",
    "import rasterio as rio\n",
    "import fiona\n",
    "from rasterio.plot import show\n",
    "import shapely.geometry as geom\n",
    "import seaborn as sns\n",
    "from sklearn.model_selection import train_test_split\n",
    "from sklearn.ensemble import RandomForestClassifier\n",
    "\n",
    "import urllib.request # to download the watershed gdb file"
   ]
  },
  {
   "cell_type": "markdown",
   "id": "9b726c08",
   "metadata": {},
   "source": [
    "---"
   ]
  },
  {
   "cell_type": "markdown",
   "id": "bafef8e5",
   "metadata": {},
   "source": [
    "2. [Load & Inspect Data](#load--inspect-data)  \n"
   ]
  },
  {
   "cell_type": "code",
   "execution_count": 3,
   "id": "bfbe7449",
   "metadata": {},
   "outputs": [],
   "source": [
    "land_cover = gpd.read_file('../data_raw/land_cover/NRCTHRLNDC_polygon.shp')"
   ]
  },
  {
   "cell_type": "markdown",
   "id": "4c838a59",
   "metadata": {},
   "source": [
    "   - [Shape](#shape)  "
   ]
  },
  {
   "cell_type": "code",
   "execution_count": 13,
   "id": "0859a5f6",
   "metadata": {},
   "outputs": [
    {
     "data": {
      "text/plain": [
       "(259810, 6)"
      ]
     },
     "execution_count": 13,
     "metadata": {},
     "output_type": "execute_result"
    }
   ],
   "source": [
    "land_cover.shape"
   ]
  },
  {
   "cell_type": "markdown",
   "id": "a1e2e867",
   "metadata": {},
   "source": [
    "   - [Missing Values](#missing-values)  \n"
   ]
  },
  {
   "cell_type": "code",
   "execution_count": 4,
   "id": "c4463b25",
   "metadata": {},
   "outputs": [
    {
     "data": {
      "text/plain": [
       "THRLNDCVR2    0\n",
       "LNDCVRCLSS    0\n",
       "OBJECTID      0\n",
       "AREA_SQM      0\n",
       "FEAT_LEN      0\n",
       "geometry      0\n",
       "dtype: int64"
      ]
     },
     "execution_count": 4,
     "metadata": {},
     "output_type": "execute_result"
    }
   ],
   "source": [
    "land_cover.isnull().sum()"
   ]
  },
  {
   "cell_type": "markdown",
   "id": "c5551de0",
   "metadata": {},
   "source": [
    "   - [Data Types](#data-types)  \n"
   ]
  },
  {
   "cell_type": "code",
   "execution_count": 5,
   "id": "3665f11b",
   "metadata": {},
   "outputs": [
    {
     "name": "stdout",
     "output_type": "stream",
     "text": [
      "<class 'geopandas.geodataframe.GeoDataFrame'>\n",
      "RangeIndex: 259810 entries, 0 to 259809\n",
      "Data columns (total 6 columns):\n",
      " #   Column      Non-Null Count   Dtype   \n",
      "---  ------      --------------   -----   \n",
      " 0   THRLNDCVR2  259810 non-null  int64   \n",
      " 1   LNDCVRCLSS  259810 non-null  object  \n",
      " 2   OBJECTID    259810 non-null  float64 \n",
      " 3   AREA_SQM    259810 non-null  float64 \n",
      " 4   FEAT_LEN    259810 non-null  float64 \n",
      " 5   geometry    259810 non-null  geometry\n",
      "dtypes: float64(3), geometry(1), int64(1), object(1)\n",
      "memory usage: 11.9+ MB\n"
     ]
    }
   ],
   "source": [
    "land_cover.info()"
   ]
  },
  {
   "cell_type": "markdown",
   "id": "0343c8ce",
   "metadata": {},
   "source": [
    "   - [Preview Data](#preview-data)\n"
   ]
  },
  {
   "cell_type": "code",
   "execution_count": 6,
   "id": "54fc605e",
   "metadata": {},
   "outputs": [
    {
     "data": {
      "text/html": [
       "<div>\n",
       "<style scoped>\n",
       "    .dataframe tbody tr th:only-of-type {\n",
       "        vertical-align: middle;\n",
       "    }\n",
       "\n",
       "    .dataframe tbody tr th {\n",
       "        vertical-align: top;\n",
       "    }\n",
       "\n",
       "    .dataframe thead th {\n",
       "        text-align: right;\n",
       "    }\n",
       "</style>\n",
       "<table border=\"1\" class=\"dataframe\">\n",
       "  <thead>\n",
       "    <tr style=\"text-align: right;\">\n",
       "      <th></th>\n",
       "      <th>THRLNDCVR2</th>\n",
       "      <th>LNDCVRCLSS</th>\n",
       "      <th>OBJECTID</th>\n",
       "      <th>AREA_SQM</th>\n",
       "      <th>FEAT_LEN</th>\n",
       "      <th>geometry</th>\n",
       "    </tr>\n",
       "  </thead>\n",
       "  <tbody>\n",
       "    <tr>\n",
       "      <th>0</th>\n",
       "      <td>133756</td>\n",
       "      <td>Rock/Rubble</td>\n",
       "      <td>133756.0</td>\n",
       "      <td>8748.4316</td>\n",
       "      <td>384.9799</td>\n",
       "      <td>POLYGON ((817520.193 1104684.096, 817509.984 1...</td>\n",
       "    </tr>\n",
       "    <tr>\n",
       "      <th>1</th>\n",
       "      <td>20889</td>\n",
       "      <td>Developed</td>\n",
       "      <td>20889.0</td>\n",
       "      <td>5036.0589</td>\n",
       "      <td>555.3003</td>\n",
       "      <td>POLYGON ((816296.673 1105430.754, 816261.271 1...</td>\n",
       "    </tr>\n",
       "    <tr>\n",
       "      <th>2</th>\n",
       "      <td>376876</td>\n",
       "      <td>Snow/Ice</td>\n",
       "      <td>376876.0</td>\n",
       "      <td>9302.7318</td>\n",
       "      <td>382.0501</td>\n",
       "      <td>POLYGON ((807831.295 1105262.792, 807795.598 1...</td>\n",
       "    </tr>\n",
       "    <tr>\n",
       "      <th>3</th>\n",
       "      <td>376924</td>\n",
       "      <td>Snow/Ice</td>\n",
       "      <td>376924.0</td>\n",
       "      <td>98121.9638</td>\n",
       "      <td>2032.8296</td>\n",
       "      <td>POLYGON ((807408.934 1105503.389, 807422.693 1...</td>\n",
       "    </tr>\n",
       "    <tr>\n",
       "      <th>4</th>\n",
       "      <td>376888</td>\n",
       "      <td>Snow/Ice</td>\n",
       "      <td>376888.0</td>\n",
       "      <td>7348.9996</td>\n",
       "      <td>347.0931</td>\n",
       "      <td>POLYGON ((808561.307 1105416.467, 808493.391 1...</td>\n",
       "    </tr>\n",
       "  </tbody>\n",
       "</table>\n",
       "</div>"
      ],
      "text/plain": [
       "   THRLNDCVR2   LNDCVRCLSS  OBJECTID    AREA_SQM   FEAT_LEN  \\\n",
       "0      133756  Rock/Rubble  133756.0   8748.4316   384.9799   \n",
       "1       20889    Developed   20889.0   5036.0589   555.3003   \n",
       "2      376876     Snow/Ice  376876.0   9302.7318   382.0501   \n",
       "3      376924     Snow/Ice  376924.0  98121.9638  2032.8296   \n",
       "4      376888     Snow/Ice  376888.0   7348.9996   347.0931   \n",
       "\n",
       "                                            geometry  \n",
       "0  POLYGON ((817520.193 1104684.096, 817509.984 1...  \n",
       "1  POLYGON ((816296.673 1105430.754, 816261.271 1...  \n",
       "2  POLYGON ((807831.295 1105262.792, 807795.598 1...  \n",
       "3  POLYGON ((807408.934 1105503.389, 807422.693 1...  \n",
       "4  POLYGON ((808561.307 1105416.467, 808493.391 1...  "
      ]
     },
     "execution_count": 6,
     "metadata": {},
     "output_type": "execute_result"
    }
   ],
   "source": [
    "land_cover.head()"
   ]
  },
  {
   "cell_type": "code",
   "execution_count": 10,
   "id": "0baf81ac",
   "metadata": {},
   "outputs": [
    {
     "name": "stdout",
     "output_type": "stream",
     "text": [
      "   THRLNDCVR2   LNDCVRCLSS  OBJECTID    AREA_SQM   FEAT_LEN  \\\n",
      "0      133756  Rock/Rubble  133756.0   8748.4316   384.9799   \n",
      "1       20889    Developed   20889.0   5036.0589   555.3003   \n",
      "2      376876     Snow/Ice  376876.0   9302.7318   382.0501   \n",
      "3      376924     Snow/Ice  376924.0  98121.9638  2032.8296   \n",
      "4      376888     Snow/Ice  376888.0   7348.9996   347.0931   \n",
      "\n",
      "                                            geometry  \n",
      "0  POLYGON ((817520.193 1104684.096, 817509.984 1...  \n",
      "1  POLYGON ((816296.673 1105430.754, 816261.271 1...  \n",
      "2  POLYGON ((807831.295 1105262.792, 807795.598 1...  \n",
      "3  POLYGON ((807408.934 1105503.389, 807422.693 1...  \n",
      "4  POLYGON ((808561.307 1105416.467, 808493.391 1...  \n",
      "EPSG:3005\n"
     ]
    }
   ],
   "source": [
    "# Reproject to EPSG:3005\n",
    "land_cover = land_cover.to_crs(epsg=3005)\n",
    "\n",
    "# Save processed dataset\n",
    "land_cover.to_file(\"../data_raw/land_cover/land_cover_BC.gpkg\", driver=\"GPKG\")\n",
    "\n",
    "print(land_cover.head())\n",
    "print(land_cover.crs)"
   ]
  },
  {
   "cell_type": "code",
   "execution_count": 11,
   "id": "e690a53c",
   "metadata": {},
   "outputs": [
    {
     "name": "stdout",
     "output_type": "stream",
     "text": [
      "EPSG:3005\n",
      "(259810, 6)\n"
     ]
    }
   ],
   "source": [
    "land_cover_BC = gpd.read_file(\"../data_raw/land_cover/land_cover_BC.gpkg\")\n",
    "print(land_cover_BC.crs)\n",
    "print(land_cover_BC.shape)\n"
   ]
  },
  {
   "cell_type": "code",
   "execution_count": 12,
   "id": "6bd754cf",
   "metadata": {},
   "outputs": [
    {
     "name": "stdout",
     "output_type": "stream",
     "text": [
      "<class 'geopandas.geodataframe.GeoDataFrame'>\n",
      "RangeIndex: 259810 entries, 0 to 259809\n",
      "Data columns (total 6 columns):\n",
      " #   Column      Non-Null Count   Dtype   \n",
      "---  ------      --------------   -----   \n",
      " 0   THRLNDCVR2  259810 non-null  int64   \n",
      " 1   LNDCVRCLSS  259810 non-null  object  \n",
      " 2   OBJECTID    259810 non-null  float64 \n",
      " 3   AREA_SQM    259810 non-null  float64 \n",
      " 4   FEAT_LEN    259810 non-null  float64 \n",
      " 5   geometry    259810 non-null  geometry\n",
      "dtypes: float64(3), geometry(1), int64(1), object(1)\n",
      "memory usage: 11.9+ MB\n"
     ]
    }
   ],
   "source": [
    "land_cover_BC.info()"
   ]
  },
  {
   "cell_type": "markdown",
   "id": "316af8c9",
   "metadata": {},
   "source": [
    "---"
   ]
  },
  {
   "cell_type": "markdown",
   "id": "8cc66715",
   "metadata": {
    "vscode": {
     "languageId": "plaintext"
    }
   },
   "source": [
    "3. [Data Cleaning](#data-cleaning)  "
   ]
  },
  {
   "cell_type": "markdown",
   "id": "7f4bc36c",
   "metadata": {},
   "source": [
    "   - [Standardize Text and Formats](#standardize-text-and-formats)  "
   ]
  },
  {
   "cell_type": "markdown",
   "id": "fa77adb6",
   "metadata": {},
   "source": [
    "- [Convert Data Types](#convert-data-types)  \n",
    "   "
   ]
  },
  {
   "cell_type": "markdown",
   "id": "fee4eee8",
   "metadata": {},
   "source": [
    "- [Filter Irrelevant Records](#filter-irrelevant-records)  "
   ]
  },
  {
   "cell_type": "markdown",
   "id": "9d1e67bf",
   "metadata": {},
   "source": [
    "---"
   ]
  },
  {
   "cell_type": "markdown",
   "id": "ea2379d4",
   "metadata": {
    "vscode": {
     "languageId": "plaintext"
    }
   },
   "source": [
    "4. [Exploratory Data Analysis (EDA)](#exploratory-data-analysis-eda)  \n"
   ]
  },
  {
   "cell_type": "markdown",
   "id": "26b71377",
   "metadata": {},
   "source": [
    "- [Univariate Analysis](#univariate-analysis)  "
   ]
  },
  {
   "cell_type": "markdown",
   "id": "cf405840",
   "metadata": {},
   "source": [
    "- [Bivariate & Multivariate Analysis](#bivariate--multivariate-analysis)  "
   ]
  },
  {
   "cell_type": "markdown",
   "id": "986dace5",
   "metadata": {},
   "source": [
    "- [Distribution of Variables](#distribution-of-variables)  \n"
   ]
  },
  {
   "cell_type": "markdown",
   "id": "18dac8cb",
   "metadata": {},
   "source": [
    "- [Correlation Analysis](#correlation-analysis)  "
   ]
  },
  {
   "cell_type": "markdown",
   "id": "bb10bd3f",
   "metadata": {},
   "source": [
    "- [Initial Insights](#initial-insights)  "
   ]
  },
  {
   "cell_type": "markdown",
   "id": "0861ab98",
   "metadata": {},
   "source": [
    "\n",
    "---"
   ]
  },
  {
   "cell_type": "markdown",
   "id": "0e007770",
   "metadata": {},
   "source": [
    "5. [Feature Engineering](#feature-engineering)\n"
   ]
  },
  {
   "cell_type": "markdown",
   "id": "567a1256",
   "metadata": {},
   "source": [
    "- [Feature Selection](#feature-selection)  "
   ]
  },
  {
   "cell_type": "markdown",
   "id": "72fe7dae",
   "metadata": {},
   "source": [
    "   - [Creating New Features](#creating-new-features)  \n"
   ]
  },
  {
   "cell_type": "markdown",
   "id": "76b8633f",
   "metadata": {},
   "source": [
    "---"
   ]
  },
  {
   "cell_type": "markdown",
   "id": "13a3777a",
   "metadata": {},
   "source": [
    "10. [References](#references)  \n"
   ]
  },
  {
   "cell_type": "markdown",
   "id": "1e193c95",
   "metadata": {},
   "source": [
    "https://catalogue.data.gov.bc.ca/dataset/other-land-cover-1-250-000-geobase-land-cover/resource/4e1ccbf3-63bb-4bbe-b91c-d5ac0d3ab36c"
   ]
  }
 ],
 "metadata": {
  "kernelspec": {
   "display_name": "fire_env",
   "language": "python",
   "name": "python3"
  },
  "language_info": {
   "codemirror_mode": {
    "name": "ipython",
    "version": 3
   },
   "file_extension": ".py",
   "mimetype": "text/x-python",
   "name": "python",
   "nbconvert_exporter": "python",
   "pygments_lexer": "ipython3",
   "version": "3.11.13"
  }
 },
 "nbformat": 4,
 "nbformat_minor": 5
}
