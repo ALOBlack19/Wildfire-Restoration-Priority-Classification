{
 "cells": [
  {
   "cell_type": "markdown",
   "id": "4e140472",
   "metadata": {},
   "source": [
    "# Data Science Final Project \n"
   ]
  },
  {
   "cell_type": "markdown",
   "id": "e810a17c",
   "metadata": {},
   "source": [
    "**College/University Name**: _CICCC - Cornerstone International Community College of Canada_  \n",
    "**Course**: _Final Project_  \n",
    "**Instructor**: _Derrick Park_  \n",
    "**Student Name**: _Amir Lima Oliveira_  \n",
    "**Submission Date**: _2025-09-26_  \n",
    "\n",
    "---"
   ]
  },
  {
   "cell_type": "markdown",
   "id": "60372ac7",
   "metadata": {},
   "source": [
    "### Project Title\n",
    "    _Wildfire Restoration Priority Classification in Canada_\n",
    "---"
   ]
  },
  {
   "cell_type": "markdown",
   "id": "5286acd2",
   "metadata": {},
   "source": [
    "#### Objective\n",
    "    Find, structure and analyse the NASA's datasets with satelite data points about wildfires detection, connect this with satelite images and engineer areas parameters for the detection of which wildfire area needs priority restoration.\n",
    "### Problem Statement or Research Question\n",
    "    This project aims to help manage and direct resources with efficiency in the right areas based on the data-driven structure of the machine learning model to the most critical areas. \n",
    "---"
   ]
  },
  {
   "cell_type": "markdown",
   "id": "5bd07e86",
   "metadata": {},
   "source": [
    "#### Dataset Overview\n",
    "- **Source:** [Dataset URL or name]\n",
    "- **Description:** Short explanation of the dataset (e.g., features, size, context)\n",
    "- **Credits:** Cite source or dataset author if required\n",
    "\n",
    "---"
   ]
  },
  {
   "cell_type": "markdown",
   "id": "8a3cbe60",
   "metadata": {},
   "source": [
    "## Table of Contents\n"
   ]
  },
  {
   "cell_type": "markdown",
   "id": "6844255d",
   "metadata": {},
   "source": [
    "1. [Import Libraries](#import-libraries)  \n"
   ]
  },
  {
   "cell_type": "code",
   "execution_count": 3,
   "id": "4a8c062f",
   "metadata": {},
   "outputs": [],
   "source": [
    "import pandas as pd\n",
    "import numpy as np\n",
    "import matplotlib.pyplot as plt\n",
    "import geopandas as gpd\n",
    "import rasterio as rio\n",
    "import fiona\n",
    "from rasterio.plot import show\n",
    "import shapely.geometry as geom\n",
    "import seaborn as sns\n",
    "from sklearn.model_selection import train_test_split\n",
    "from sklearn.ensemble import RandomForestClassifier\n",
    "from sklearn.metrics import classification_report, confusion_matrix"
   ]
  },
  {
   "cell_type": "markdown",
   "id": "9b726c08",
   "metadata": {},
   "source": [
    "---"
   ]
  },
  {
   "cell_type": "markdown",
   "id": "bafef8e5",
   "metadata": {},
   "source": [
    "2. [Load & Inspect Data](#load--inspect-data)  \n"
   ]
  },
  {
   "cell_type": "code",
   "execution_count": 4,
   "id": "bfbe7449",
   "metadata": {},
   "outputs": [],
   "source": [
    "roads = gpd.read_file('../data_raw/roads/lrnf000r24a_e.shp')"
   ]
  },
  {
   "cell_type": "code",
   "execution_count": 5,
   "id": "952099ff",
   "metadata": {},
   "outputs": [
    {
     "data": {
      "text/html": [
       "<div>\n",
       "<style scoped>\n",
       "    .dataframe tbody tr th:only-of-type {\n",
       "        vertical-align: middle;\n",
       "    }\n",
       "\n",
       "    .dataframe tbody tr th {\n",
       "        vertical-align: top;\n",
       "    }\n",
       "\n",
       "    .dataframe thead th {\n",
       "        text-align: right;\n",
       "    }\n",
       "</style>\n",
       "<table border=\"1\" class=\"dataframe\">\n",
       "  <thead>\n",
       "    <tr style=\"text-align: right;\">\n",
       "      <th></th>\n",
       "      <th>NGD_UID</th>\n",
       "      <th>NAME</th>\n",
       "      <th>TYPE</th>\n",
       "      <th>DIR</th>\n",
       "      <th>CSDUID_L</th>\n",
       "      <th>CSDUID_R</th>\n",
       "      <th>PRUID_L</th>\n",
       "      <th>PRUID_R</th>\n",
       "      <th>CSDNAME_L</th>\n",
       "      <th>CSDTYPE_L</th>\n",
       "      <th>PRNAME_L</th>\n",
       "      <th>CSDNAME_R</th>\n",
       "      <th>CSDTYPE_R</th>\n",
       "      <th>PRNAME_R</th>\n",
       "      <th>AFL_VAL</th>\n",
       "      <th>ATL_VAL</th>\n",
       "      <th>AFR_VAL</th>\n",
       "      <th>ATR_VAL</th>\n",
       "      <th>CLASS</th>\n",
       "      <th>geometry</th>\n",
       "    </tr>\n",
       "  </thead>\n",
       "  <tbody>\n",
       "    <tr>\n",
       "      <th>0</th>\n",
       "      <td>107215</td>\n",
       "      <td>Alec</td>\n",
       "      <td>RD</td>\n",
       "      <td>None</td>\n",
       "      <td>5917015</td>\n",
       "      <td>5917015</td>\n",
       "      <td>59</td>\n",
       "      <td>59</td>\n",
       "      <td>Central Saanich</td>\n",
       "      <td>DM</td>\n",
       "      <td>British Columbia / Colombie-Britannique</td>\n",
       "      <td>Central Saanich</td>\n",
       "      <td>DM</td>\n",
       "      <td>British Columbia / Colombie-Britannique</td>\n",
       "      <td>8126</td>\n",
       "      <td>8240</td>\n",
       "      <td>8173</td>\n",
       "      <td>8243</td>\n",
       "      <td>23</td>\n",
       "      <td>LINESTRING (3960597.411 1952862.777, 3960605.6...</td>\n",
       "    </tr>\n",
       "    <tr>\n",
       "      <th>1</th>\n",
       "      <td>3206465</td>\n",
       "      <td>70</td>\n",
       "      <td>HWY</td>\n",
       "      <td>None</td>\n",
       "      <td>1001365</td>\n",
       "      <td>1001365</td>\n",
       "      <td>10</td>\n",
       "      <td>10</td>\n",
       "      <td>Victoria</td>\n",
       "      <td>T</td>\n",
       "      <td>Newfoundland and Labrador / Terre-Neuve-et-Lab...</td>\n",
       "      <td>Victoria</td>\n",
       "      <td>T</td>\n",
       "      <td>Newfoundland and Labrador / Terre-Neuve-et-Lab...</td>\n",
       "      <td>123</td>\n",
       "      <td>131</td>\n",
       "      <td>122</td>\n",
       "      <td>126</td>\n",
       "      <td>12</td>\n",
       "      <td>LINESTRING (8935036.86 2147931.914, 8934958.03...</td>\n",
       "    </tr>\n",
       "    <tr>\n",
       "      <th>2</th>\n",
       "      <td>1609984</td>\n",
       "      <td>None</td>\n",
       "      <td>None</td>\n",
       "      <td>None</td>\n",
       "      <td>4708074</td>\n",
       "      <td>4708074</td>\n",
       "      <td>47</td>\n",
       "      <td>47</td>\n",
       "      <td>Snipe Lake No. 259</td>\n",
       "      <td>RM</td>\n",
       "      <td>Saskatchewan</td>\n",
       "      <td>Snipe Lake No. 259</td>\n",
       "      <td>RM</td>\n",
       "      <td>Saskatchewan</td>\n",
       "      <td>None</td>\n",
       "      <td>None</td>\n",
       "      <td>None</td>\n",
       "      <td>None</td>\n",
       "      <td>23</td>\n",
       "      <td>LINESTRING (5032461.06 1824835.834, 5031609.22...</td>\n",
       "    </tr>\n",
       "    <tr>\n",
       "      <th>3</th>\n",
       "      <td>5628186</td>\n",
       "      <td>de la Rivière</td>\n",
       "      <td>RUE</td>\n",
       "      <td>None</td>\n",
       "      <td>2446080</td>\n",
       "      <td>2446080</td>\n",
       "      <td>24</td>\n",
       "      <td>24</td>\n",
       "      <td>Cowansville</td>\n",
       "      <td>V</td>\n",
       "      <td>Quebec / Québec</td>\n",
       "      <td>Cowansville</td>\n",
       "      <td>V</td>\n",
       "      <td>Quebec / Québec</td>\n",
       "      <td>717</td>\n",
       "      <td>721</td>\n",
       "      <td>700</td>\n",
       "      <td>728</td>\n",
       "      <td>23</td>\n",
       "      <td>LINESTRING (7698238.814 1230648.543, 7698195.1...</td>\n",
       "    </tr>\n",
       "    <tr>\n",
       "      <th>4</th>\n",
       "      <td>5469054</td>\n",
       "      <td>Henri-Bourassa</td>\n",
       "      <td>BOUL</td>\n",
       "      <td>E</td>\n",
       "      <td>2466023</td>\n",
       "      <td>2466023</td>\n",
       "      <td>24</td>\n",
       "      <td>24</td>\n",
       "      <td>Montréal</td>\n",
       "      <td>V</td>\n",
       "      <td>Quebec / Québec</td>\n",
       "      <td>Montréal</td>\n",
       "      <td>V</td>\n",
       "      <td>Quebec / Québec</td>\n",
       "      <td>None</td>\n",
       "      <td>None</td>\n",
       "      <td>None</td>\n",
       "      <td>None</td>\n",
       "      <td>23</td>\n",
       "      <td>LINESTRING (7625178.291 1255497.869, 7625189.6...</td>\n",
       "    </tr>\n",
       "  </tbody>\n",
       "</table>\n",
       "</div>"
      ],
      "text/plain": [
       "   NGD_UID            NAME  TYPE   DIR CSDUID_L CSDUID_R PRUID_L PRUID_R  \\\n",
       "0   107215            Alec    RD  None  5917015  5917015      59      59   \n",
       "1  3206465              70   HWY  None  1001365  1001365      10      10   \n",
       "2  1609984            None  None  None  4708074  4708074      47      47   \n",
       "3  5628186   de la Rivière   RUE  None  2446080  2446080      24      24   \n",
       "4  5469054  Henri-Bourassa  BOUL     E  2466023  2466023      24      24   \n",
       "\n",
       "            CSDNAME_L CSDTYPE_L  \\\n",
       "0     Central Saanich        DM   \n",
       "1            Victoria         T   \n",
       "2  Snipe Lake No. 259        RM   \n",
       "3         Cowansville         V   \n",
       "4            Montréal         V   \n",
       "\n",
       "                                            PRNAME_L           CSDNAME_R  \\\n",
       "0            British Columbia / Colombie-Britannique     Central Saanich   \n",
       "1  Newfoundland and Labrador / Terre-Neuve-et-Lab...            Victoria   \n",
       "2                                       Saskatchewan  Snipe Lake No. 259   \n",
       "3                                    Quebec / Québec         Cowansville   \n",
       "4                                    Quebec / Québec            Montréal   \n",
       "\n",
       "  CSDTYPE_R                                           PRNAME_R AFL_VAL  \\\n",
       "0        DM            British Columbia / Colombie-Britannique    8126   \n",
       "1         T  Newfoundland and Labrador / Terre-Neuve-et-Lab...     123   \n",
       "2        RM                                       Saskatchewan    None   \n",
       "3         V                                    Quebec / Québec     717   \n",
       "4         V                                    Quebec / Québec    None   \n",
       "\n",
       "  ATL_VAL AFR_VAL ATR_VAL CLASS  \\\n",
       "0    8240    8173    8243    23   \n",
       "1     131     122     126    12   \n",
       "2    None    None    None    23   \n",
       "3     721     700     728    23   \n",
       "4    None    None    None    23   \n",
       "\n",
       "                                            geometry  \n",
       "0  LINESTRING (3960597.411 1952862.777, 3960605.6...  \n",
       "1  LINESTRING (8935036.86 2147931.914, 8934958.03...  \n",
       "2  LINESTRING (5032461.06 1824835.834, 5031609.22...  \n",
       "3  LINESTRING (7698238.814 1230648.543, 7698195.1...  \n",
       "4  LINESTRING (7625178.291 1255497.869, 7625189.6...  "
      ]
     },
     "execution_count": 5,
     "metadata": {},
     "output_type": "execute_result"
    }
   ],
   "source": [
    "roads.head()"
   ]
  },
  {
   "cell_type": "markdown",
   "id": "d7e28b57",
   "metadata": {},
   "source": [
    "Needed to make that code below to convert the gdb file into gpkg in order to be possible to make the geographical data into geopandas"
   ]
  },
  {
   "cell_type": "markdown",
   "id": "4c838a59",
   "metadata": {},
   "source": [
    "   - [Shape](#shape)  "
   ]
  },
  {
   "cell_type": "code",
   "execution_count": 6,
   "id": "0859a5f6",
   "metadata": {},
   "outputs": [
    {
     "data": {
      "text/plain": [
       "(2260441, 20)"
      ]
     },
     "execution_count": 6,
     "metadata": {},
     "output_type": "execute_result"
    }
   ],
   "source": [
    "roads.shape\n"
   ]
  },
  {
   "cell_type": "markdown",
   "id": "a1e2e867",
   "metadata": {},
   "source": [
    "   - [Missing Values](#missing-values)  \n"
   ]
  },
  {
   "cell_type": "code",
   "execution_count": 7,
   "id": "75a963e5",
   "metadata": {},
   "outputs": [
    {
     "data": {
      "text/plain": [
       "NGD_UID            0\n",
       "NAME          299662\n",
       "TYPE          450816\n",
       "DIR          2002757\n",
       "CSDUID_L           2\n",
       "CSDUID_R          48\n",
       "PRUID_L            2\n",
       "PRUID_R           48\n",
       "CSDNAME_L          2\n",
       "CSDTYPE_L          2\n",
       "PRNAME_L           2\n",
       "CSDNAME_R         48\n",
       "CSDTYPE_R         48\n",
       "PRNAME_R          48\n",
       "AFL_VAL      1016674\n",
       "ATL_VAL      1017547\n",
       "AFR_VAL      1017632\n",
       "ATR_VAL      1017956\n",
       "CLASS              3\n",
       "geometry           0\n",
       "dtype: int64"
      ]
     },
     "execution_count": 7,
     "metadata": {},
     "output_type": "execute_result"
    }
   ],
   "source": [
    "roads.isnull().sum()"
   ]
  },
  {
   "cell_type": "markdown",
   "id": "c5551de0",
   "metadata": {},
   "source": [
    "   - [Data Types](#data-types)  \n"
   ]
  },
  {
   "cell_type": "code",
   "execution_count": 8,
   "id": "9a4620f3",
   "metadata": {},
   "outputs": [
    {
     "data": {
      "text/html": [
       "<div>\n",
       "<style scoped>\n",
       "    .dataframe tbody tr th:only-of-type {\n",
       "        vertical-align: middle;\n",
       "    }\n",
       "\n",
       "    .dataframe tbody tr th {\n",
       "        vertical-align: top;\n",
       "    }\n",
       "\n",
       "    .dataframe thead th {\n",
       "        text-align: right;\n",
       "    }\n",
       "</style>\n",
       "<table border=\"1\" class=\"dataframe\">\n",
       "  <thead>\n",
       "    <tr style=\"text-align: right;\">\n",
       "      <th></th>\n",
       "      <th>NGD_UID</th>\n",
       "      <th>NAME</th>\n",
       "      <th>TYPE</th>\n",
       "      <th>DIR</th>\n",
       "      <th>CSDUID_L</th>\n",
       "      <th>CSDUID_R</th>\n",
       "      <th>PRUID_L</th>\n",
       "      <th>PRUID_R</th>\n",
       "      <th>CSDNAME_L</th>\n",
       "      <th>CSDTYPE_L</th>\n",
       "      <th>PRNAME_L</th>\n",
       "      <th>CSDNAME_R</th>\n",
       "      <th>CSDTYPE_R</th>\n",
       "      <th>PRNAME_R</th>\n",
       "      <th>AFL_VAL</th>\n",
       "      <th>ATL_VAL</th>\n",
       "      <th>AFR_VAL</th>\n",
       "      <th>ATR_VAL</th>\n",
       "      <th>CLASS</th>\n",
       "      <th>geometry</th>\n",
       "    </tr>\n",
       "  </thead>\n",
       "  <tbody>\n",
       "    <tr>\n",
       "      <th>count</th>\n",
       "      <td>2260441</td>\n",
       "      <td>1960779</td>\n",
       "      <td>1809625</td>\n",
       "      <td>257684</td>\n",
       "      <td>2260439</td>\n",
       "      <td>2260393</td>\n",
       "      <td>2260439</td>\n",
       "      <td>2260393</td>\n",
       "      <td>2260439</td>\n",
       "      <td>2260439</td>\n",
       "      <td>2260439</td>\n",
       "      <td>2260393</td>\n",
       "      <td>2260393</td>\n",
       "      <td>2260393</td>\n",
       "      <td>1243767</td>\n",
       "      <td>1242894</td>\n",
       "      <td>1242809</td>\n",
       "      <td>1242485</td>\n",
       "      <td>2260438</td>\n",
       "      <td>2260441</td>\n",
       "    </tr>\n",
       "    <tr>\n",
       "      <th>unique</th>\n",
       "      <td>2260441</td>\n",
       "      <td>133471</td>\n",
       "      <td>183</td>\n",
       "      <td>11</td>\n",
       "      <td>4906</td>\n",
       "      <td>4911</td>\n",
       "      <td>13</td>\n",
       "      <td>13</td>\n",
       "      <td>4759</td>\n",
       "      <td>54</td>\n",
       "      <td>13</td>\n",
       "      <td>4768</td>\n",
       "      <td>54</td>\n",
       "      <td>13</td>\n",
       "      <td>54990</td>\n",
       "      <td>57054</td>\n",
       "      <td>54836</td>\n",
       "      <td>56844</td>\n",
       "      <td>17</td>\n",
       "      <td>2260441</td>\n",
       "    </tr>\n",
       "    <tr>\n",
       "      <th>top</th>\n",
       "      <td>107215</td>\n",
       "      <td>Main</td>\n",
       "      <td>RD</td>\n",
       "      <td>NW</td>\n",
       "      <td>4806016</td>\n",
       "      <td>4806016</td>\n",
       "      <td>35</td>\n",
       "      <td>35</td>\n",
       "      <td>Calgary</td>\n",
       "      <td>CY</td>\n",
       "      <td>Ontario</td>\n",
       "      <td>Calgary</td>\n",
       "      <td>CY</td>\n",
       "      <td>Ontario</td>\n",
       "      <td>1</td>\n",
       "      <td>15</td>\n",
       "      <td>2</td>\n",
       "      <td>20</td>\n",
       "      <td>23</td>\n",
       "      <td>LINESTRING (3960597.4114285717 1952862.7771428...</td>\n",
       "    </tr>\n",
       "    <tr>\n",
       "      <th>freq</th>\n",
       "      <td>1</td>\n",
       "      <td>13012</td>\n",
       "      <td>349247</td>\n",
       "      <td>53715</td>\n",
       "      <td>58188</td>\n",
       "      <td>58155</td>\n",
       "      <td>576880</td>\n",
       "      <td>576875</td>\n",
       "      <td>58188</td>\n",
       "      <td>531449</td>\n",
       "      <td>576880</td>\n",
       "      <td>58155</td>\n",
       "      <td>531598</td>\n",
       "      <td>576875</td>\n",
       "      <td>54867</td>\n",
       "      <td>6629</td>\n",
       "      <td>57422</td>\n",
       "      <td>6730</td>\n",
       "      <td>1607724</td>\n",
       "      <td>1</td>\n",
       "    </tr>\n",
       "  </tbody>\n",
       "</table>\n",
       "</div>"
      ],
      "text/plain": [
       "        NGD_UID     NAME     TYPE     DIR CSDUID_L CSDUID_R  PRUID_L  PRUID_R  \\\n",
       "count   2260441  1960779  1809625  257684  2260439  2260393  2260439  2260393   \n",
       "unique  2260441   133471      183      11     4906     4911       13       13   \n",
       "top      107215     Main       RD      NW  4806016  4806016       35       35   \n",
       "freq          1    13012   349247   53715    58188    58155   576880   576875   \n",
       "\n",
       "       CSDNAME_L CSDTYPE_L PRNAME_L CSDNAME_R CSDTYPE_R PRNAME_R  AFL_VAL  \\\n",
       "count    2260439   2260439  2260439   2260393   2260393  2260393  1243767   \n",
       "unique      4759        54       13      4768        54       13    54990   \n",
       "top      Calgary        CY  Ontario   Calgary        CY  Ontario        1   \n",
       "freq       58188    531449   576880     58155    531598   576875    54867   \n",
       "\n",
       "        ATL_VAL  AFR_VAL  ATR_VAL    CLASS  \\\n",
       "count   1242894  1242809  1242485  2260438   \n",
       "unique    57054    54836    56844       17   \n",
       "top          15        2       20       23   \n",
       "freq       6629    57422     6730  1607724   \n",
       "\n",
       "                                                 geometry  \n",
       "count                                             2260441  \n",
       "unique                                            2260441  \n",
       "top     LINESTRING (3960597.4114285717 1952862.7771428...  \n",
       "freq                                                    1  "
      ]
     },
     "execution_count": 8,
     "metadata": {},
     "output_type": "execute_result"
    }
   ],
   "source": [
    "roads.describe()"
   ]
  },
  {
   "cell_type": "markdown",
   "id": "316af8c9",
   "metadata": {},
   "source": [
    "---"
   ]
  },
  {
   "cell_type": "markdown",
   "id": "8cc66715",
   "metadata": {
    "vscode": {
     "languageId": "plaintext"
    }
   },
   "source": [
    "3. [Data Cleaning](#data-cleaning)  "
   ]
  },
  {
   "cell_type": "markdown",
   "id": "fee4eee8",
   "metadata": {},
   "source": [
    "- [Filter Irrelevant Records](#filter-irrelevant-records)  "
   ]
  },
  {
   "cell_type": "code",
   "execution_count": 8,
   "id": "da1a4ab4",
   "metadata": {},
   "outputs": [],
   "source": [
    "roads = roads[\n",
    "    (roads[\"PRNAME_L\"] == \"British Columbia / Colombie-Britannique\") |\n",
    "    (roads[\"PRNAME_R\"] == \"British Columbia / Colombie-Britannique\")\n",
    "].copy()"
   ]
  },
  {
   "cell_type": "markdown",
   "id": "9d1e67bf",
   "metadata": {},
   "source": [
    "---"
   ]
  },
  {
   "cell_type": "markdown",
   "id": "567a1256",
   "metadata": {},
   "source": [
    "- [Feature Selection](#feature-selection)  "
   ]
  },
  {
   "cell_type": "code",
   "execution_count": 9,
   "id": "c414eed1",
   "metadata": {},
   "outputs": [],
   "source": [
    "roads = roads[[\"NGD_UID\", \"CLASS\", \"geometry\"]]"
   ]
  },
  {
   "cell_type": "markdown",
   "id": "ac08d291",
   "metadata": {},
   "source": [
    "- [Encoding Categorical Variables](#encoding-categorical-variables)  "
   ]
  },
  {
   "cell_type": "markdown",
   "id": "72fe7dae",
   "metadata": {},
   "source": [
    "   - [Creating New Features](#creating-new-features)  \n"
   ]
  },
  {
   "cell_type": "markdown",
   "id": "6ed832c3",
   "metadata": {},
   "source": [
    "- [Feature Transformation (Scaling, Normalization)](#feature-transformation-scaling-normalization)  "
   ]
  },
  {
   "cell_type": "markdown",
   "id": "76b8633f",
   "metadata": {},
   "source": [
    "---"
   ]
  },
  {
   "cell_type": "code",
   "execution_count": 10,
   "id": "974ce40e",
   "metadata": {},
   "outputs": [
    {
     "data": {
      "text/plain": [
       "(279326, 3)"
      ]
     },
     "execution_count": 10,
     "metadata": {},
     "output_type": "execute_result"
    }
   ],
   "source": [
    "roads.shape"
   ]
  },
  {
   "cell_type": "code",
   "execution_count": 11,
   "id": "ca405fd0",
   "metadata": {},
   "outputs": [
    {
     "data": {
      "text/plain": [
       "NGD_UID     0\n",
       "CLASS       1\n",
       "geometry    0\n",
       "dtype: int64"
      ]
     },
     "execution_count": 11,
     "metadata": {},
     "output_type": "execute_result"
    }
   ],
   "source": [
    "roads.isnull().sum()"
   ]
  },
  {
   "cell_type": "markdown",
   "id": "7079a7e6",
   "metadata": {},
   "source": [
    "  \n",
    "   - [Handling Missing Data](#handling-missing-data)  "
   ]
  },
  {
   "cell_type": "code",
   "execution_count": 12,
   "id": "050f8f83",
   "metadata": {},
   "outputs": [],
   "source": [
    "roads_BC = roads['CLASS'].fillna(roads['CLASS'].mode()[0])"
   ]
  },
  {
   "cell_type": "code",
   "execution_count": 13,
   "id": "0eab1529",
   "metadata": {},
   "outputs": [
    {
     "data": {
      "text/plain": [
       "0"
      ]
     },
     "execution_count": 13,
     "metadata": {},
     "output_type": "execute_result"
    }
   ],
   "source": [
    "roads_BC.isnull().sum()"
   ]
  },
  {
   "cell_type": "code",
   "execution_count": 14,
   "id": "fbbe008d",
   "metadata": {},
   "outputs": [
    {
     "name": "stdout",
     "output_type": "stream",
     "text": [
      "    NGD_UID CLASS                                           geometry\n",
      "0    107215    23  LINESTRING (1187054.303 401928.001, 1187047.09...\n",
      "21  2910067    23  LINESTRING (1076598.102 519287.903, 1076519.59...\n",
      "22  4409173    29  LINESTRING (1271948.102 453261.799, 1271949.99...\n",
      "25  5888173    26  LINESTRING (1286865.199 647664.555, 1286963.45...\n",
      "29  4507098    21  LINESTRING (1318502.402 1260924.759, 1318487.6...\n",
      "EPSG:3005\n"
     ]
    }
   ],
   "source": [
    "# Replace missing CLASS values with the most frequent one (mode)\n",
    "roads[\"CLASS\"] = roads[\"CLASS\"].fillna(roads[\"CLASS\"].mode()[0])\n",
    "\n",
    "# Now select the useful columns\n",
    "roads_BC = roads[[\"NGD_UID\", \"CLASS\", \"geometry\"]]\n",
    "\n",
    "# Reproject to EPSG:3005\n",
    "roads_BC = roads_BC.to_crs(epsg=3005)\n",
    "\n",
    "# Save processed dataset\n",
    "roads_BC.to_file(\"../data_raw/roads/roads_BC.gpkg\", driver=\"GPKG\")\n",
    "\n",
    "print(roads_BC.head())\n",
    "print(roads_BC.crs)"
   ]
  },
  {
   "cell_type": "code",
   "execution_count": 15,
   "id": "80d41db0",
   "metadata": {},
   "outputs": [
    {
     "data": {
      "text/html": [
       "<div>\n",
       "<style scoped>\n",
       "    .dataframe tbody tr th:only-of-type {\n",
       "        vertical-align: middle;\n",
       "    }\n",
       "\n",
       "    .dataframe tbody tr th {\n",
       "        vertical-align: top;\n",
       "    }\n",
       "\n",
       "    .dataframe thead th {\n",
       "        text-align: right;\n",
       "    }\n",
       "</style>\n",
       "<table border=\"1\" class=\"dataframe\">\n",
       "  <thead>\n",
       "    <tr style=\"text-align: right;\">\n",
       "      <th></th>\n",
       "      <th>NGD_UID</th>\n",
       "      <th>CLASS</th>\n",
       "      <th>geometry</th>\n",
       "    </tr>\n",
       "  </thead>\n",
       "  <tbody>\n",
       "    <tr>\n",
       "      <th>0</th>\n",
       "      <td>107215</td>\n",
       "      <td>23</td>\n",
       "      <td>LINESTRING (1187054.303 401928.001, 1187047.09...</td>\n",
       "    </tr>\n",
       "    <tr>\n",
       "      <th>1</th>\n",
       "      <td>2910067</td>\n",
       "      <td>23</td>\n",
       "      <td>LINESTRING (1076598.102 519287.903, 1076519.59...</td>\n",
       "    </tr>\n",
       "    <tr>\n",
       "      <th>2</th>\n",
       "      <td>4409173</td>\n",
       "      <td>29</td>\n",
       "      <td>LINESTRING (1271948.102 453261.799, 1271949.99...</td>\n",
       "    </tr>\n",
       "    <tr>\n",
       "      <th>3</th>\n",
       "      <td>5888173</td>\n",
       "      <td>26</td>\n",
       "      <td>LINESTRING (1286865.199 647664.555, 1286963.45...</td>\n",
       "    </tr>\n",
       "    <tr>\n",
       "      <th>4</th>\n",
       "      <td>4507098</td>\n",
       "      <td>21</td>\n",
       "      <td>LINESTRING (1318502.402 1260924.759, 1318487.6...</td>\n",
       "    </tr>\n",
       "  </tbody>\n",
       "</table>\n",
       "</div>"
      ],
      "text/plain": [
       "   NGD_UID CLASS                                           geometry\n",
       "0   107215    23  LINESTRING (1187054.303 401928.001, 1187047.09...\n",
       "1  2910067    23  LINESTRING (1076598.102 519287.903, 1076519.59...\n",
       "2  4409173    29  LINESTRING (1271948.102 453261.799, 1271949.99...\n",
       "3  5888173    26  LINESTRING (1286865.199 647664.555, 1286963.45...\n",
       "4  4507098    21  LINESTRING (1318502.402 1260924.759, 1318487.6..."
      ]
     },
     "execution_count": 15,
     "metadata": {},
     "output_type": "execute_result"
    }
   ],
   "source": [
    "roads_BC = gpd.read_file(\"../data_raw/roads/roads_BC.gpkg\")\n",
    "roads_BC.head()"
   ]
  },
  {
   "cell_type": "code",
   "execution_count": 16,
   "id": "fb81dd91",
   "metadata": {},
   "outputs": [
    {
     "data": {
      "text/plain": [
       "NGD_UID     0\n",
       "CLASS       0\n",
       "geometry    0\n",
       "dtype: int64"
      ]
     },
     "execution_count": 16,
     "metadata": {},
     "output_type": "execute_result"
    }
   ],
   "source": [
    "roads_BC.isnull().sum()"
   ]
  },
  {
   "cell_type": "markdown",
   "id": "13a3777a",
   "metadata": {},
   "source": [
    "10. [References](#references)  \n"
   ]
  },
  {
   "cell_type": "markdown",
   "id": "8d95fc3a",
   "metadata": {},
   "source": [
    "https://www12.statcan.gc.ca/census-recensement/alternative_alternatif.cfm?l=eng&dispext=zip&t=lrnf000r24a_e.zip&k=%20%20%20289136&loc=/census-recensement/2011/geo/RNF-FRR/files-fichiers/lrnf000r24a_e.zip"
   ]
  }
 ],
 "metadata": {
  "kernelspec": {
   "display_name": "fire_env",
   "language": "python",
   "name": "python3"
  },
  "language_info": {
   "codemirror_mode": {
    "name": "ipython",
    "version": 3
   },
   "file_extension": ".py",
   "mimetype": "text/x-python",
   "name": "python",
   "nbconvert_exporter": "python",
   "pygments_lexer": "ipython3",
   "version": "3.11.13"
  }
 },
 "nbformat": 4,
 "nbformat_minor": 5
}
