{
 "cells": [
  {
   "cell_type": "markdown",
   "id": "0565b71e",
   "metadata": {},
   "source": [
    "# Feature Engineering"
   ]
  },
  {
   "cell_type": "code",
   "execution_count": 1,
   "id": "61974e3b",
   "metadata": {},
   "outputs": [],
   "source": [
    "import pandas as pd\n",
    "import numpy as np\n",
    "import matplotlib.pyplot as plt\n",
    "import geopandas as gpd\n",
    "import rasterio as rio\n",
    "from rasterstats import zonal_stats\n",
    "import fiona\n",
    "from rasterio.plot import show\n",
    "from rasterio.mask import mask\n",
    "import rasterstats\n",
    "import shapely.geometry as geom\n",
    "import seaborn as sns\n",
    "from sklearn.model_selection import train_test_split\n",
    "from sklearn.ensemble import RandomForestClassifier\n",
    "from sklearn.preprocessing import StandardScaler\n"
   ]
  },
  {
   "cell_type": "code",
   "execution_count": 2,
   "id": "58e4222d",
   "metadata": {},
   "outputs": [
    {
     "data": {
      "text/html": [
       "<div>\n",
       "<style scoped>\n",
       "    .dataframe tbody tr th:only-of-type {\n",
       "        vertical-align: middle;\n",
       "    }\n",
       "\n",
       "    .dataframe tbody tr th {\n",
       "        vertical-align: top;\n",
       "    }\n",
       "\n",
       "    .dataframe thead th {\n",
       "        text-align: right;\n",
       "    }\n",
       "</style>\n",
       "<table border=\"1\" class=\"dataframe\">\n",
       "  <thead>\n",
       "    <tr style=\"text-align: right;\">\n",
       "      <th></th>\n",
       "      <th>fire_id</th>\n",
       "      <th>fire_year</th>\n",
       "      <th>fire_month</th>\n",
       "      <th>fire_day</th>\n",
       "      <th>fire_rep_date</th>\n",
       "      <th>fire_size_ha</th>\n",
       "      <th>fire_calc_ha</th>\n",
       "      <th>fire_cause</th>\n",
       "      <th>fire_map_method</th>\n",
       "      <th>fire_poly_date</th>\n",
       "      <th>...</th>\n",
       "      <th>climate_P</th>\n",
       "      <th>climate_S</th>\n",
       "      <th>climate_SG</th>\n",
       "      <th>Year</th>\n",
       "      <th>Month</th>\n",
       "      <th>climate_long</th>\n",
       "      <th>climate_lat</th>\n",
       "      <th>climate_RH</th>\n",
       "      <th>land_cover_class</th>\n",
       "      <th>geometry</th>\n",
       "    </tr>\n",
       "  </thead>\n",
       "  <tbody>\n",
       "    <tr>\n",
       "      <th>0</th>\n",
       "      <td>2004-C10176</td>\n",
       "      <td>2004</td>\n",
       "      <td>6</td>\n",
       "      <td>23</td>\n",
       "      <td>2004-06-23</td>\n",
       "      <td>520.7</td>\n",
       "      <td>520.796287</td>\n",
       "      <td>L</td>\n",
       "      <td>digitized</td>\n",
       "      <td>2007-05-17</td>\n",
       "      <td>...</td>\n",
       "      <td>17.1</td>\n",
       "      <td>0.0</td>\n",
       "      <td>0.0</td>\n",
       "      <td>2025</td>\n",
       "      <td>5</td>\n",
       "      <td>-124.136</td>\n",
       "      <td>52.114</td>\n",
       "      <td>43.20</td>\n",
       "      <td>Unclassified</td>\n",
       "      <td>POINT (1103487.457 895235.59)</td>\n",
       "    </tr>\n",
       "    <tr>\n",
       "      <th>1</th>\n",
       "      <td>2004-C50114</td>\n",
       "      <td>2004</td>\n",
       "      <td>6</td>\n",
       "      <td>20</td>\n",
       "      <td>2004-06-20</td>\n",
       "      <td>268.2</td>\n",
       "      <td>268.290572</td>\n",
       "      <td>L</td>\n",
       "      <td>digitized</td>\n",
       "      <td>2007-05-17</td>\n",
       "      <td>...</td>\n",
       "      <td>17.1</td>\n",
       "      <td>0.0</td>\n",
       "      <td>0.0</td>\n",
       "      <td>2025</td>\n",
       "      <td>5</td>\n",
       "      <td>-124.136</td>\n",
       "      <td>52.114</td>\n",
       "      <td>43.20</td>\n",
       "      <td>Developed</td>\n",
       "      <td>POINT (1059804.998 790281.638)</td>\n",
       "    </tr>\n",
       "    <tr>\n",
       "      <th>2</th>\n",
       "      <td>2004-C50125</td>\n",
       "      <td>2004</td>\n",
       "      <td>6</td>\n",
       "      <td>21</td>\n",
       "      <td>2004-06-21</td>\n",
       "      <td>20506.4</td>\n",
       "      <td>20506.415129</td>\n",
       "      <td>L</td>\n",
       "      <td>Modified from Protection</td>\n",
       "      <td>2007-05-17</td>\n",
       "      <td>...</td>\n",
       "      <td>80.5</td>\n",
       "      <td>0.0</td>\n",
       "      <td>0.0</td>\n",
       "      <td>2020</td>\n",
       "      <td>6</td>\n",
       "      <td>-126.587</td>\n",
       "      <td>52.389</td>\n",
       "      <td>51.68</td>\n",
       "      <td>Unclassified</td>\n",
       "      <td>POINT (1027509.177 798970.739)</td>\n",
       "    </tr>\n",
       "    <tr>\n",
       "      <th>3</th>\n",
       "      <td>2004-C50149</td>\n",
       "      <td>2004</td>\n",
       "      <td>6</td>\n",
       "      <td>22</td>\n",
       "      <td>2004-06-22</td>\n",
       "      <td>2408.5</td>\n",
       "      <td>2408.587142</td>\n",
       "      <td>L</td>\n",
       "      <td>digitized</td>\n",
       "      <td>2007-05-17</td>\n",
       "      <td>...</td>\n",
       "      <td>80.5</td>\n",
       "      <td>0.0</td>\n",
       "      <td>0.0</td>\n",
       "      <td>2020</td>\n",
       "      <td>6</td>\n",
       "      <td>-126.587</td>\n",
       "      <td>52.389</td>\n",
       "      <td>51.68</td>\n",
       "      <td>Unclassified</td>\n",
       "      <td>POINT (980057.152 883141.445)</td>\n",
       "    </tr>\n",
       "    <tr>\n",
       "      <th>4</th>\n",
       "      <td>2004-C50508</td>\n",
       "      <td>2004</td>\n",
       "      <td>8</td>\n",
       "      <td>16</td>\n",
       "      <td>2004-08-16</td>\n",
       "      <td>110.7</td>\n",
       "      <td>110.797330</td>\n",
       "      <td>L</td>\n",
       "      <td>digitized</td>\n",
       "      <td>2007-05-17</td>\n",
       "      <td>...</td>\n",
       "      <td>80.5</td>\n",
       "      <td>0.0</td>\n",
       "      <td>0.0</td>\n",
       "      <td>2020</td>\n",
       "      <td>6</td>\n",
       "      <td>-126.587</td>\n",
       "      <td>52.389</td>\n",
       "      <td>51.68</td>\n",
       "      <td>Rock/Rubble</td>\n",
       "      <td>POINT (981546.966 867012.646)</td>\n",
       "    </tr>\n",
       "  </tbody>\n",
       "</table>\n",
       "<p>5 rows × 36 columns</p>\n",
       "</div>"
      ],
      "text/plain": [
       "       fire_id  fire_year  fire_month  fire_day fire_rep_date  fire_size_ha  \\\n",
       "0  2004-C10176       2004           6        23    2004-06-23         520.7   \n",
       "1  2004-C50114       2004           6        20    2004-06-20         268.2   \n",
       "2  2004-C50125       2004           6        21    2004-06-21       20506.4   \n",
       "3  2004-C50149       2004           6        22    2004-06-22        2408.5   \n",
       "4  2004-C50508       2004           8        16    2004-08-16         110.7   \n",
       "\n",
       "   fire_calc_ha fire_cause           fire_map_method fire_poly_date  ...  \\\n",
       "0    520.796287          L                 digitized     2007-05-17  ...   \n",
       "1    268.290572          L                 digitized     2007-05-17  ...   \n",
       "2  20506.415129          L  Modified from Protection     2007-05-17  ...   \n",
       "3   2408.587142          L                 digitized     2007-05-17  ...   \n",
       "4    110.797330          L                 digitized     2007-05-17  ...   \n",
       "\n",
       "   climate_P  climate_S  climate_SG  Year  Month  climate_long  climate_lat  \\\n",
       "0       17.1        0.0         0.0  2025      5      -124.136       52.114   \n",
       "1       17.1        0.0         0.0  2025      5      -124.136       52.114   \n",
       "2       80.5        0.0         0.0  2020      6      -126.587       52.389   \n",
       "3       80.5        0.0         0.0  2020      6      -126.587       52.389   \n",
       "4       80.5        0.0         0.0  2020      6      -126.587       52.389   \n",
       "\n",
       "   climate_RH  land_cover_class                        geometry  \n",
       "0       43.20      Unclassified   POINT (1103487.457 895235.59)  \n",
       "1       43.20         Developed  POINT (1059804.998 790281.638)  \n",
       "2       51.68      Unclassified  POINT (1027509.177 798970.739)  \n",
       "3       51.68      Unclassified   POINT (980057.152 883141.445)  \n",
       "4       51.68       Rock/Rubble   POINT (981546.966 867012.646)  \n",
       "\n",
       "[5 rows x 36 columns]"
      ]
     },
     "execution_count": 2,
     "metadata": {},
     "output_type": "execute_result"
    }
   ],
   "source": [
    "gdf = gpd.read_file(\"../outputs/all_env_factors.gpkg\")\n",
    "gdf.head()"
   ]
  },
  {
   "cell_type": "code",
   "execution_count": 3,
   "id": "a7819f3b",
   "metadata": {},
   "outputs": [],
   "source": [
    "gdf = gdf.rename(columns={\n",
    "    \"Year\": \"climate_year\",\n",
    "    \"Month\": \"climate_month\"\n",
    "    })"
   ]
  },
  {
   "cell_type": "code",
   "execution_count": 4,
   "id": "92b40433",
   "metadata": {},
   "outputs": [
    {
     "name": "stdout",
     "output_type": "stream",
     "text": [
      "<class 'geopandas.geodataframe.GeoDataFrame'>\n",
      "RangeIndex: 29955 entries, 0 to 29954\n",
      "Data columns (total 36 columns):\n",
      " #   Column            Non-Null Count  Dtype         \n",
      "---  ------            --------------  -----         \n",
      " 0   fire_id           29955 non-null  object        \n",
      " 1   fire_year         29955 non-null  int64         \n",
      " 2   fire_month        29955 non-null  int64         \n",
      " 3   fire_day          29955 non-null  int64         \n",
      " 4   fire_rep_date     29955 non-null  datetime64[ms]\n",
      " 5   fire_size_ha      29955 non-null  float64       \n",
      " 6   fire_calc_ha      29955 non-null  float64       \n",
      " 7   fire_cause        29955 non-null  object        \n",
      " 8   fire_map_method   29935 non-null  object        \n",
      " 9   fire_poly_date    28660 non-null  datetime64[ms]\n",
      " 10  climate_index     29955 non-null  int64         \n",
      " 11  dist_to_station   29955 non-null  float64       \n",
      " 12  dist_roads        29955 non-null  float64       \n",
      " 13  overlap_pct       29955 non-null  float64       \n",
      " 14  dist_community    29955 non-null  float64       \n",
      " 15  elevation_mean    29939 non-null  float64       \n",
      " 16  elevation_min     29939 non-null  float64       \n",
      " 17  elevation_max     29939 non-null  float64       \n",
      " 18  elevation_std     29939 non-null  float64       \n",
      " 19  burnsev_min       23097 non-null  float64       \n",
      " 20  burnsev_max       23097 non-null  float64       \n",
      " 21  burnsev_mean      23097 non-null  float64       \n",
      " 22  burnsev_std       23097 non-null  float64       \n",
      " 23  climate_Tm        29955 non-null  float64       \n",
      " 24  climate_Tx        29955 non-null  float64       \n",
      " 25  climate_Tn        29955 non-null  float64       \n",
      " 26  climate_P         29955 non-null  float64       \n",
      " 27  climate_S         29955 non-null  float64       \n",
      " 28  climate_SG        29955 non-null  float64       \n",
      " 29  climate_year      29955 non-null  int64         \n",
      " 30  climate_month     29955 non-null  int64         \n",
      " 31  climate_long      29955 non-null  float64       \n",
      " 32  climate_lat       29955 non-null  float64       \n",
      " 33  climate_RH        29955 non-null  float64       \n",
      " 34  land_cover_class  29955 non-null  object        \n",
      " 35  geometry          29955 non-null  geometry      \n",
      "dtypes: datetime64[ms](2), float64(23), geometry(1), int64(6), object(4)\n",
      "memory usage: 8.2+ MB\n"
     ]
    }
   ],
   "source": [
    "gdf.info()"
   ]
  },
  {
   "cell_type": "markdown",
   "id": "b324547e",
   "metadata": {},
   "source": [
    "---"
   ]
  },
  {
   "cell_type": "markdown",
   "id": "b6f6b3f8",
   "metadata": {},
   "source": [
    "### Choosing the criteria for feature creation (Classification)"
   ]
  },
  {
   "cell_type": "markdown",
   "id": "024070d1",
   "metadata": {},
   "source": [
    "1. Log-transform and scale skewed continuous variables\n",
    "    * Step 1 – Fire Size Scaling:\n",
    "\n",
    "<code>The idea here is to log-transformed fire_size_sqm to reduce skewness and then standardized it to bring values on a comparable scale with other features.</code>"
   ]
  },
  {
   "cell_type": "code",
   "execution_count": 59,
   "id": "df3217db",
   "metadata": {},
   "outputs": [
    {
     "name": "stderr",
     "output_type": "stream",
     "text": [
      "c:\\Users\\Dell\\anaconda3\\envs\\fire_env\\Lib\\site-packages\\pandas\\core\\arraylike.py:399: RuntimeWarning: invalid value encountered in log1p\n",
      "  result = getattr(ufunc, method)(*inputs, **kwargs)\n"
     ]
    }
   ],
   "source": [
    "# Import needed libraries\n",
    "from sklearn.preprocessing import MinMaxScaler\n",
    "\n",
    "# Make a copy of the GeoDataFrame\n",
    "restoration_dataset = gdf.copy()\n",
    "\n",
    "# Log-transform fire size (skewed distribution)\n",
    "restoration_dataset[\"fire_size_sqm_log\"] = np.log1p(restoration_dataset[\"fire_size_sqm\"])\n",
    "\n",
    "restoration_dataset[\"climate_P_log\"] = np.log1p(restoration_dataset[\"climate_P\"])\n",
    "\n",
    "# Initialize the scaler\n",
    "\n",
    "scaler = MinMaxScaler()\n",
    "\n",
    "# Continuous features\n",
    "cont_features = [\n",
    "    \"climate_Tm\", \"climate_Tx\", \"climate_Tn\",\n",
    "    \"climate_P\", \"climate_S\", \"climate_SG\", \"climate_RH\",\n",
    "    \"elevation_mean\", \"elevation_std\",\n",
    "    \"burnsev_mean\", \"burnsev_max\", \"burnsev_min\",\n",
    "    \"fire_size_sqm\", \"dist_community\", \"dist_roads\"\n",
    "]\n",
    "\n",
    "restoration_dataset[cont_features] = scaler.fit_transform(restoration_dataset[cont_features])\n",
    "restoration_dataset[\"dist_community\"] = 1 - restoration_dataset[\"dist_community\"]\n",
    "restoration_dataset[\"dist_roads\"] = 1 - restoration_dataset[\"dist_roads\"]\n",
    "\n"
   ]
  },
  {
   "cell_type": "markdown",
   "id": "453bd801",
   "metadata": {},
   "source": [
    "2. Scale burn severity and clip extreme values\n",
    "    * Step 2 – Burn Severity:\n",
    "\n",
    "<code>Extreme burn severity values were clipped at the 99th percentile, then standardized. This avoids outliers dominating the restoration score.</code>"
   ]
  },
  {
   "cell_type": "code",
   "execution_count": 60,
   "id": "c6f6f3f0",
   "metadata": {},
   "outputs": [],
   "source": [
    "# Burn severity columns\n",
    "burnsev_features = [\"burnsev_mean\", \"burnsev_max\", \"burnsev_min\"]\n",
    "\n",
    "# Clip extreme values at 99th percentile to avoid outliers\n",
    "for col in burnsev_features:\n",
    "    upper = restoration_dataset[col].quantile(0.99)\n",
    "    restoration_dataset[col] = restoration_dataset[col].clip(upper=upper)\n",
    "\n",
    "# Scale burn severity\n",
    "restoration_dataset[burnsev_features] = scaler.fit_transform(restoration_dataset[burnsev_features])"
   ]
  },
  {
   "cell_type": "markdown",
   "id": "914d7033",
   "metadata": {},
   "source": [
    "3. Scale elevation and climate features\n",
    "    * Step 3 – Elevation and Climate\n",
    "\n",
    "<code>Standardization ensures temperature, precipitation, solar radiation, relative humidity, and elevation features are comparable. Precipitation is log-transformed due to skewness.</code>"
   ]
  },
  {
   "cell_type": "code",
   "execution_count": 61,
   "id": "46ef4c87",
   "metadata": {},
   "outputs": [],
   "source": [
    "# Elevation features\n",
    "elev_features = [\"elevation_mean\", \"elevation_std\"]\n",
    "restoration_dataset[elev_features] = scaler.fit_transform(restoration_dataset[elev_features])\n",
    "\n",
    "# Climate features\n",
    "temp_features = [\"climate_Tm\", \"climate_Tx\", \"climate_Tn\"]\n",
    "sun_features = [\"climate_S\", \"climate_SG\"]\n",
    "rh_features = [\"climate_RH\"]\n",
    "\n",
    "restoration_dataset[temp_features] = scaler.fit_transform(restoration_dataset[temp_features])\n",
    "restoration_dataset[sun_features] = scaler.fit_transform(restoration_dataset[sun_features])\n",
    "restoration_dataset[rh_features] = scaler.fit_transform(restoration_dataset[rh_features])\n",
    "\n",
    "# Precipitation: log-transform and scale\n",
    "restoration_dataset[\"climate_P_log\"] = np.log1p(restoration_dataset[\"climate_P\"])\n",
    "restoration_dataset[\"climate_P_scaled\"] = scaler.fit_transform(\n",
    "    restoration_dataset[[\"climate_P_log\"]]\n",
    ")\n"
   ]
  },
  {
   "cell_type": "markdown",
   "id": "a43d0394",
   "metadata": {},
   "source": [
    "4. Distance and land cover scoring\n",
    "    * Step 4 – Distance and Land Cover\n",
    "\n",
    "<code>Distances to communities and roads are inverted: closer fires have higher restoration priority. Land cover classes are mapped to numeric scores based on ecological importance.</code>"
   ]
  },
  {
   "cell_type": "code",
   "execution_count": 62,
   "id": "ae5de240",
   "metadata": {},
   "outputs": [],
   "source": [
    "# Distance features: closer = higher restoration priority\n",
    "dist_features = [\"dist_community\", \"dist_roads\"]\n",
    "\n",
    "# Scale distances\n",
    "restoration_dataset[dist_features] = scaler.fit_transform(restoration_dataset[dist_features])\n",
    "\n",
    "# Invert so smaller distance → higher score\n",
    "for col in dist_features:\n",
    "    restoration_dataset[col] = 1 - restoration_dataset[col]\n",
    "\n",
    "# Land cover scoring: numeric importance based on ecological reasoning\n",
    "# Example mapping: coniferous=1, mixed=0.7, deciduous=0.5, others=0.2\n",
    "landcover_mapping = {\n",
    "    \"coniferous\": 1.0,\n",
    "    \"mixed\": 0.7,\n",
    "    \"deciduous\": 0.5\n",
    "}\n",
    "\n",
    "restoration_dataset[\"land_cover_score\"] = restoration_dataset[\"land_cover_class\"].map(landcover_mapping).fillna(0.2)\n"
   ]
  },
  {
   "cell_type": "markdown",
   "id": "70bc7db1",
   "metadata": {},
   "source": [
    "5. Composite climate features (Temperature, Relative humidity and Temperature)\n",
    "    * Step 5 – Climate Score\n",
    "\n",
    "<code>Temperature, precipitation, solar radiation, and relative humidity are combined into a single weighted climate score for each fire area.</code>"
   ]
  },
  {
   "cell_type": "code",
   "execution_count": 63,
   "id": "57cfd512",
   "metadata": {},
   "outputs": [],
   "source": [
    "# Weighted climate composite\n",
    "restoration_dataset[\"climate_score\"] = (\n",
    "    0.25 * restoration_dataset[\"climate_Tm\"] +\n",
    "    0.25 * restoration_dataset[\"climate_Tx\"] +\n",
    "    0.25 * restoration_dataset[\"climate_Tn\"] +\n",
    "    0.15 * restoration_dataset[\"climate_P_scaled\"] +\n",
    "    0.05 * restoration_dataset[\"climate_S\"] +\n",
    "    0.05 * restoration_dataset[\"climate_SG\"] +\n",
    "    0.10 * restoration_dataset[\"climate_RH\"]\n",
    ")\n"
   ]
  },
  {
   "cell_type": "markdown",
   "id": "5ff9e996",
   "metadata": {},
   "source": [
    "6. Compute final restoration score\n",
    "    * Step 6 – Creating the feature restoration_score to be the Machine Learning spine for pattern detection.\n",
    "\n",
    "<code>All features are combined into a final weighted score. Clipping at the 1st and 99th percentiles avoids extreme outliers, producing a more interpretable distribution</code>"
   ]
  },
  {
   "cell_type": "code",
   "execution_count": 64,
   "id": "995a614a",
   "metadata": {},
   "outputs": [],
   "source": [
    "restoration_dataset[\"restoration_score\"] = (\n",
    "    0.26 * restoration_dataset[[\"burnsev_mean\",\"burnsev_max\",\"burnsev_min\"]].mean(axis=1) +\n",
    "    0.20 * restoration_dataset[\"fire_size_sqm\"] +\n",
    "    0.17 * restoration_dataset[\"dist_community\"] +\n",
    "    0.05 * restoration_dataset[\"dist_roads\"] +\n",
    "    0.12 * restoration_dataset[\"land_cover_score\"] +\n",
    "    0.10 * restoration_dataset[\"climate_score\"] +\n",
    "    0.05 * restoration_dataset[[\"elevation_mean\",\"elevation_std\"]].mean(axis=1) +\n",
    "    0.05 * restoration_dataset[\"overlap_pct\"]\n",
    ")\n",
    "\n",
    "# Clip final score to remove extreme outliers\n",
    "restoration_dataset[\"restoration_score\"] = restoration_dataset[\"restoration_score\"].clip(\n",
    "    lower=restoration_dataset[\"restoration_score\"].quantile(0.01),\n",
    "    upper=restoration_dataset[\"restoration_score\"].quantile(0.99)\n",
    ")"
   ]
  },
  {
   "cell_type": "code",
   "execution_count": 65,
   "id": "740f192e",
   "metadata": {},
   "outputs": [],
   "source": [
    "# Clip scores at 1st and 99th percentiles to avoid outliers\n",
    "lower = restoration_dataset[\"restoration_score\"].quantile(0.01)\n",
    "upper = restoration_dataset[\"restoration_score\"].quantile(0.99)\n",
    "\n",
    "restoration_dataset[\"restoration_score\"] = restoration_dataset[\"restoration_score\"].clip(lower, upper)\n"
   ]
  },
  {
   "cell_type": "code",
   "execution_count": 66,
   "id": "b04f9e19",
   "metadata": {},
   "outputs": [
    {
     "data": {
      "text/plain": [
       "Index(['fire_id', 'fire_year', 'fire_month', 'fire_day', 'fire_rep_date',\n",
       "       'fire_size_ha', 'fire_calc_ha', 'fire_cause', 'fire_map_method',\n",
       "       'fire_poly_date', 'climate_index', 'dist_to_station', 'dist_roads',\n",
       "       'overlap_pct', 'dist_community', 'elevation_mean', 'elevation_min',\n",
       "       'elevation_max', 'elevation_std', 'burnsev_min', 'burnsev_max',\n",
       "       'burnsev_mean', 'burnsev_std', 'climate_Tm', 'climate_Tx', 'climate_Tn',\n",
       "       'climate_P', 'climate_S', 'climate_SG', 'climate_year', 'climate_month',\n",
       "       'climate_long', 'climate_lat', 'climate_RH', 'land_cover_class',\n",
       "       'geometry', 'fire_size_sqm', 'fire_calc_sqm', 'land_cover_score',\n",
       "       'climate_score', 'restoration_score', 'fire_size_sqm_log',\n",
       "       'climate_P_log', 'climate_P_scaled'],\n",
       "      dtype='object')"
      ]
     },
     "execution_count": 66,
     "metadata": {},
     "output_type": "execute_result"
    }
   ],
   "source": [
    "restoration_dataset.columns"
   ]
  },
  {
   "cell_type": "code",
   "execution_count": 80,
   "id": "9c5e31c8",
   "metadata": {},
   "outputs": [],
   "source": [
    "restoration_dataset[\"restoration_score\"] = restoration_dataset[\"restoration_score\"].clip(lower=0)"
   ]
  },
  {
   "cell_type": "code",
   "execution_count": 81,
   "id": "5f3bf0d4",
   "metadata": {},
   "outputs": [],
   "source": [
    "restoration_dataset = gdf.to_file(\"../outputs/restoration_score_dataset.gpkg\", driver=\"GPKG\")"
   ]
  },
  {
   "cell_type": "code",
   "execution_count": 82,
   "id": "8bc63735",
   "metadata": {},
   "outputs": [
    {
     "data": {
      "text/html": [
       "<div>\n",
       "<style scoped>\n",
       "    .dataframe tbody tr th:only-of-type {\n",
       "        vertical-align: middle;\n",
       "    }\n",
       "\n",
       "    .dataframe tbody tr th {\n",
       "        vertical-align: top;\n",
       "    }\n",
       "\n",
       "    .dataframe thead th {\n",
       "        text-align: right;\n",
       "    }\n",
       "</style>\n",
       "<table border=\"1\" class=\"dataframe\">\n",
       "  <thead>\n",
       "    <tr style=\"text-align: right;\">\n",
       "      <th></th>\n",
       "      <th>fire_id</th>\n",
       "      <th>fire_year</th>\n",
       "      <th>fire_month</th>\n",
       "      <th>fire_day</th>\n",
       "      <th>fire_rep_date</th>\n",
       "      <th>fire_size_ha</th>\n",
       "      <th>fire_calc_ha</th>\n",
       "      <th>fire_cause</th>\n",
       "      <th>fire_map_method</th>\n",
       "      <th>fire_poly_date</th>\n",
       "      <th>...</th>\n",
       "      <th>climate_long</th>\n",
       "      <th>climate_lat</th>\n",
       "      <th>climate_RH</th>\n",
       "      <th>land_cover_class</th>\n",
       "      <th>fire_size_sqm</th>\n",
       "      <th>fire_calc_sqm</th>\n",
       "      <th>land_cover_score</th>\n",
       "      <th>climate_score</th>\n",
       "      <th>restoration_score</th>\n",
       "      <th>geometry</th>\n",
       "    </tr>\n",
       "  </thead>\n",
       "  <tbody>\n",
       "    <tr>\n",
       "      <th>0</th>\n",
       "      <td>2004-C10176</td>\n",
       "      <td>2004</td>\n",
       "      <td>6</td>\n",
       "      <td>23</td>\n",
       "      <td>2004-06-23</td>\n",
       "      <td>520.7</td>\n",
       "      <td>520.796287</td>\n",
       "      <td>L</td>\n",
       "      <td>digitized</td>\n",
       "      <td>2007-05-17</td>\n",
       "      <td>...</td>\n",
       "      <td>-124.136</td>\n",
       "      <td>52.114</td>\n",
       "      <td>-0.665724</td>\n",
       "      <td>Unclassified</td>\n",
       "      <td>-0.036879</td>\n",
       "      <td>5.207963e+06</td>\n",
       "      <td>0.2</td>\n",
       "      <td>0.218898</td>\n",
       "      <td>0.166865</td>\n",
       "      <td>POINT (1103487.457 895235.59)</td>\n",
       "    </tr>\n",
       "    <tr>\n",
       "      <th>1</th>\n",
       "      <td>2004-C50114</td>\n",
       "      <td>2004</td>\n",
       "      <td>6</td>\n",
       "      <td>20</td>\n",
       "      <td>2004-06-20</td>\n",
       "      <td>268.2</td>\n",
       "      <td>268.290572</td>\n",
       "      <td>L</td>\n",
       "      <td>digitized</td>\n",
       "      <td>2007-05-17</td>\n",
       "      <td>...</td>\n",
       "      <td>-124.136</td>\n",
       "      <td>52.114</td>\n",
       "      <td>-0.665724</td>\n",
       "      <td>Developed</td>\n",
       "      <td>-0.078927</td>\n",
       "      <td>2.682906e+06</td>\n",
       "      <td>0.2</td>\n",
       "      <td>0.218898</td>\n",
       "      <td>0.161037</td>\n",
       "      <td>POINT (1059804.998 790281.638)</td>\n",
       "    </tr>\n",
       "    <tr>\n",
       "      <th>2</th>\n",
       "      <td>2004-C50125</td>\n",
       "      <td>2004</td>\n",
       "      <td>6</td>\n",
       "      <td>21</td>\n",
       "      <td>2004-06-21</td>\n",
       "      <td>20506.4</td>\n",
       "      <td>20506.415129</td>\n",
       "      <td>L</td>\n",
       "      <td>Modified from Protection</td>\n",
       "      <td>2007-05-17</td>\n",
       "      <td>...</td>\n",
       "      <td>-126.587</td>\n",
       "      <td>52.389</td>\n",
       "      <td>0.542111</td>\n",
       "      <td>Unclassified</td>\n",
       "      <td>3.291258</td>\n",
       "      <td>2.050642e+08</td>\n",
       "      <td>0.2</td>\n",
       "      <td>0.793427</td>\n",
       "      <td>0.895461</td>\n",
       "      <td>POINT (1027509.177 798970.739)</td>\n",
       "    </tr>\n",
       "    <tr>\n",
       "      <th>3</th>\n",
       "      <td>2004-C50149</td>\n",
       "      <td>2004</td>\n",
       "      <td>6</td>\n",
       "      <td>22</td>\n",
       "      <td>2004-06-22</td>\n",
       "      <td>2408.5</td>\n",
       "      <td>2408.587142</td>\n",
       "      <td>L</td>\n",
       "      <td>digitized</td>\n",
       "      <td>2007-05-17</td>\n",
       "      <td>...</td>\n",
       "      <td>-126.587</td>\n",
       "      <td>52.389</td>\n",
       "      <td>0.542111</td>\n",
       "      <td>Unclassified</td>\n",
       "      <td>0.277489</td>\n",
       "      <td>2.408587e+07</td>\n",
       "      <td>0.2</td>\n",
       "      <td>0.793427</td>\n",
       "      <td>0.400627</td>\n",
       "      <td>POINT (980057.152 883141.445)</td>\n",
       "    </tr>\n",
       "    <tr>\n",
       "      <th>4</th>\n",
       "      <td>2004-C50508</td>\n",
       "      <td>2004</td>\n",
       "      <td>8</td>\n",
       "      <td>16</td>\n",
       "      <td>2004-08-16</td>\n",
       "      <td>110.7</td>\n",
       "      <td>110.797330</td>\n",
       "      <td>L</td>\n",
       "      <td>digitized</td>\n",
       "      <td>2007-05-17</td>\n",
       "      <td>...</td>\n",
       "      <td>-126.587</td>\n",
       "      <td>52.389</td>\n",
       "      <td>0.542111</td>\n",
       "      <td>Rock/Rubble</td>\n",
       "      <td>-0.105154</td>\n",
       "      <td>1.107973e+06</td>\n",
       "      <td>0.2</td>\n",
       "      <td>0.793427</td>\n",
       "      <td>0.321202</td>\n",
       "      <td>POINT (981546.966 867012.646)</td>\n",
       "    </tr>\n",
       "  </tbody>\n",
       "</table>\n",
       "<p>5 rows × 41 columns</p>\n",
       "</div>"
      ],
      "text/plain": [
       "       fire_id  fire_year  fire_month  fire_day fire_rep_date  fire_size_ha  \\\n",
       "0  2004-C10176       2004           6        23    2004-06-23         520.7   \n",
       "1  2004-C50114       2004           6        20    2004-06-20         268.2   \n",
       "2  2004-C50125       2004           6        21    2004-06-21       20506.4   \n",
       "3  2004-C50149       2004           6        22    2004-06-22        2408.5   \n",
       "4  2004-C50508       2004           8        16    2004-08-16         110.7   \n",
       "\n",
       "   fire_calc_ha fire_cause           fire_map_method fire_poly_date  ...  \\\n",
       "0    520.796287          L                 digitized     2007-05-17  ...   \n",
       "1    268.290572          L                 digitized     2007-05-17  ...   \n",
       "2  20506.415129          L  Modified from Protection     2007-05-17  ...   \n",
       "3   2408.587142          L                 digitized     2007-05-17  ...   \n",
       "4    110.797330          L                 digitized     2007-05-17  ...   \n",
       "\n",
       "   climate_long  climate_lat  climate_RH  land_cover_class  fire_size_sqm  \\\n",
       "0      -124.136       52.114   -0.665724      Unclassified      -0.036879   \n",
       "1      -124.136       52.114   -0.665724         Developed      -0.078927   \n",
       "2      -126.587       52.389    0.542111      Unclassified       3.291258   \n",
       "3      -126.587       52.389    0.542111      Unclassified       0.277489   \n",
       "4      -126.587       52.389    0.542111       Rock/Rubble      -0.105154   \n",
       "\n",
       "   fire_calc_sqm  land_cover_score  climate_score  restoration_score  \\\n",
       "0   5.207963e+06               0.2       0.218898           0.166865   \n",
       "1   2.682906e+06               0.2       0.218898           0.161037   \n",
       "2   2.050642e+08               0.2       0.793427           0.895461   \n",
       "3   2.408587e+07               0.2       0.793427           0.400627   \n",
       "4   1.107973e+06               0.2       0.793427           0.321202   \n",
       "\n",
       "                         geometry  \n",
       "0   POINT (1103487.457 895235.59)  \n",
       "1  POINT (1059804.998 790281.638)  \n",
       "2  POINT (1027509.177 798970.739)  \n",
       "3   POINT (980057.152 883141.445)  \n",
       "4   POINT (981546.966 867012.646)  \n",
       "\n",
       "[5 rows x 41 columns]"
      ]
     },
     "execution_count": 82,
     "metadata": {},
     "output_type": "execute_result"
    }
   ],
   "source": [
    "restoration_dataset = gpd.read_file(\"../outputs/restoration_score_dataset.gpkg\")\n",
    "restoration_dataset.head()"
   ]
  },
  {
   "cell_type": "code",
   "execution_count": 83,
   "id": "eea29df7",
   "metadata": {},
   "outputs": [
    {
     "name": "stdout",
     "output_type": "stream",
     "text": [
      "<class 'geopandas.geodataframe.GeoDataFrame'>\n",
      "RangeIndex: 29955 entries, 0 to 29954\n",
      "Data columns (total 41 columns):\n",
      " #   Column             Non-Null Count  Dtype         \n",
      "---  ------             --------------  -----         \n",
      " 0   fire_id            29955 non-null  object        \n",
      " 1   fire_year          29955 non-null  int64         \n",
      " 2   fire_month         29955 non-null  int64         \n",
      " 3   fire_day           29955 non-null  int64         \n",
      " 4   fire_rep_date      29955 non-null  datetime64[ms]\n",
      " 5   fire_size_ha       29955 non-null  float64       \n",
      " 6   fire_calc_ha       29955 non-null  float64       \n",
      " 7   fire_cause         29955 non-null  object        \n",
      " 8   fire_map_method    29935 non-null  object        \n",
      " 9   fire_poly_date     28660 non-null  datetime64[ms]\n",
      " 10  climate_index      29955 non-null  int64         \n",
      " 11  dist_to_station    29955 non-null  float64       \n",
      " 12  dist_roads         29955 non-null  float64       \n",
      " 13  overlap_pct        29955 non-null  float64       \n",
      " 14  dist_community     29955 non-null  float64       \n",
      " 15  elevation_mean     29939 non-null  float64       \n",
      " 16  elevation_min      29939 non-null  float64       \n",
      " 17  elevation_max      29939 non-null  float64       \n",
      " 18  elevation_std      29939 non-null  float64       \n",
      " 19  burnsev_min        23097 non-null  float64       \n",
      " 20  burnsev_max        23097 non-null  float64       \n",
      " 21  burnsev_mean       23097 non-null  float64       \n",
      " 22  burnsev_std        23097 non-null  float64       \n",
      " 23  climate_Tm         29955 non-null  float64       \n",
      " 24  climate_Tx         29955 non-null  float64       \n",
      " 25  climate_Tn         29955 non-null  float64       \n",
      " 26  climate_P          26059 non-null  float64       \n",
      " 27  climate_S          29955 non-null  float64       \n",
      " 28  climate_SG         29955 non-null  float64       \n",
      " 29  climate_year       29955 non-null  int64         \n",
      " 30  climate_month      29955 non-null  int64         \n",
      " 31  climate_long       29955 non-null  float64       \n",
      " 32  climate_lat        29955 non-null  float64       \n",
      " 33  climate_RH         29955 non-null  float64       \n",
      " 34  land_cover_class   29955 non-null  object        \n",
      " 35  fire_size_sqm      29955 non-null  float64       \n",
      " 36  fire_calc_sqm      29955 non-null  float64       \n",
      " 37  land_cover_score   29955 non-null  float64       \n",
      " 38  climate_score      26059 non-null  float64       \n",
      " 39  restoration_score  20349 non-null  float64       \n",
      " 40  geometry           29955 non-null  geometry      \n",
      "dtypes: datetime64[ms](2), float64(28), geometry(1), int64(6), object(4)\n",
      "memory usage: 9.4+ MB\n"
     ]
    }
   ],
   "source": [
    "restoration_dataset.info()"
   ]
  },
  {
   "cell_type": "code",
   "execution_count": 85,
   "id": "73f67503",
   "metadata": {},
   "outputs": [
    {
     "data": {
      "text/plain": [
       "count    20349.000000\n",
       "mean         0.300269\n",
       "std          0.347355\n",
       "min         -1.437790\n",
       "25%          0.118820\n",
       "50%          0.266201\n",
       "75%          0.474275\n",
       "max         17.669669\n",
       "Name: restoration_score, dtype: float64"
      ]
     },
     "execution_count": 85,
     "metadata": {},
     "output_type": "execute_result"
    }
   ],
   "source": [
    "restoration_dataset[\"restoration_score\"].describe()"
   ]
  },
  {
   "cell_type": "code",
   "execution_count": 86,
   "id": "6c9ace67",
   "metadata": {},
   "outputs": [
    {
     "data": {
      "text/plain": [
       "0.01   -0.473604\n",
       "0.99    0.985403\n",
       "Name: restoration_score, dtype: float64"
      ]
     },
     "execution_count": 86,
     "metadata": {},
     "output_type": "execute_result"
    }
   ],
   "source": [
    "restoration_dataset[\"restoration_score\"].quantile([0.01, 0.99])"
   ]
  },
  {
   "cell_type": "code",
   "execution_count": 87,
   "id": "bf5ef448",
   "metadata": {},
   "outputs": [],
   "source": [
    "Q1 = restoration_dataset[\"restoration_score\"].quantile(0.28)\n",
    "Q3 = restoration_dataset[\"restoration_score\"].quantile(0.72)\n",
    "IQR = Q3 - Q1\n",
    "\n",
    "# Define upper and lower bounds\n",
    "lower_bound = Q1 - 1.5 * IQR\n",
    "upper_bound = Q3 + 1.5 * IQR\n"
   ]
  },
  {
   "cell_type": "code",
   "execution_count": 88,
   "id": "6a1a8468",
   "metadata": {},
   "outputs": [
    {
     "name": "stdout",
     "output_type": "stream",
     "text": [
      "-0.302013273826378\n",
      "0.8783675365934864\n"
     ]
    }
   ],
   "source": [
    "print(lower_bound)\n",
    "print(upper_bound)"
   ]
  },
  {
   "cell_type": "code",
   "execution_count": 89,
   "id": "4f31cb30",
   "metadata": {},
   "outputs": [],
   "source": [
    "restoration_dataset = restoration_dataset[\n",
    "    (restoration_dataset[\"restoration_score\"] >= lower_bound) &\n",
    "    (restoration_dataset[\"restoration_score\"] <= upper_bound)\n",
    "]\n"
   ]
  },
  {
   "cell_type": "code",
   "execution_count": 90,
   "id": "a4a9736f",
   "metadata": {},
   "outputs": [
    {
     "data": {
      "text/plain": [
       "count    19104.000000\n",
       "mean         0.288011\n",
       "std          0.255305\n",
       "min         -0.301344\n",
       "25%          0.124080\n",
       "50%          0.262108\n",
       "75%          0.442487\n",
       "max          0.877925\n",
       "Name: restoration_score, dtype: float64"
      ]
     },
     "execution_count": 90,
     "metadata": {},
     "output_type": "execute_result"
    }
   ],
   "source": [
    "restoration_dataset[\"restoration_score\"].describe()\n"
   ]
  },
  {
   "cell_type": "code",
   "execution_count": 91,
   "id": "79e22dba",
   "metadata": {},
   "outputs": [
    {
     "data": {
      "text/plain": [
       "(19104, 41)"
      ]
     },
     "execution_count": 91,
     "metadata": {},
     "output_type": "execute_result"
    }
   ],
   "source": [
    "restoration_dataset.shape"
   ]
  },
  {
   "cell_type": "code",
   "execution_count": null,
   "id": "427ffd6a",
   "metadata": {},
   "outputs": [],
   "source": []
  }
 ],
 "metadata": {
  "kernelspec": {
   "display_name": "fire_env",
   "language": "python",
   "name": "python3"
  },
  "language_info": {
   "codemirror_mode": {
    "name": "ipython",
    "version": 3
   },
   "file_extension": ".py",
   "mimetype": "text/x-python",
   "name": "python",
   "nbconvert_exporter": "python",
   "pygments_lexer": "ipython3",
   "version": "3.11.13"
  }
 },
 "nbformat": 4,
 "nbformat_minor": 5
}
